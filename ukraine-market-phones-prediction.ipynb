{
 "cells": [
  {
   "cell_type": "code",
   "execution_count": 1,
   "id": "d074f445",
   "metadata": {
    "_cell_guid": "b1076dfc-b9ad-4769-8c92-a6c4dae69d19",
    "_uuid": "8f2839f25d086af736a60e9eeb907d3b93b6e0e5",
    "execution": {
     "iopub.execute_input": "2022-05-16T18:45:49.541884Z",
     "iopub.status.busy": "2022-05-16T18:45:49.541559Z",
     "iopub.status.idle": "2022-05-16T18:45:49.559702Z",
     "shell.execute_reply": "2022-05-16T18:45:49.558706Z"
    },
    "papermill": {
     "duration": 0.05926,
     "end_time": "2022-05-16T18:45:49.563462",
     "exception": false,
     "start_time": "2022-05-16T18:45:49.504202",
     "status": "completed"
    },
    "tags": []
   },
   "outputs": [
    {
     "name": "stdout",
     "output_type": "stream",
     "text": [
      "/kaggle/input/ukrainian-market-mobile-phones-data/phones_data.csv\n"
     ]
    }
   ],
   "source": [
    "# This Python 3 environment comes with many helpful analytics libraries installed\n",
    "# It is defined by the kaggle/python Docker image: https://github.com/kaggle/docker-python\n",
    "# For example, here's several helpful packages to load\n",
    "\n",
    "import numpy as np # linear algebra\n",
    "import pandas as pd # data processing, CSV file I/O (e.g. pd.read_csv)\n",
    "\n",
    "# Input data files are available in the read-only \"../input/\" directory\n",
    "# For example, running this (by clicking run or pressing Shift+Enter) will list all files under the input directory\n",
    "\n",
    "import os\n",
    "for dirname, _, filenames in os.walk('/kaggle/input'):\n",
    "    for filename in filenames:\n",
    "        print(os.path.join(dirname, filename))\n",
    "\n",
    "# You can write up to 20GB to the current directory (/kaggle/working/) that gets preserved as output when you create a version using \"Save & Run All\" \n",
    "# You can also write temporary files to /kaggle/temp/, but they won't be saved outside of the current session"
   ]
  },
  {
   "cell_type": "code",
   "execution_count": 2,
   "id": "3364976b",
   "metadata": {
    "execution": {
     "iopub.execute_input": "2022-05-16T18:45:49.637659Z",
     "iopub.status.busy": "2022-05-16T18:45:49.637383Z",
     "iopub.status.idle": "2022-05-16T18:45:49.642550Z",
     "shell.execute_reply": "2022-05-16T18:45:49.641331Z"
    },
    "papermill": {
     "duration": 0.044454,
     "end_time": "2022-05-16T18:45:49.645029",
     "exception": false,
     "start_time": "2022-05-16T18:45:49.600575",
     "status": "completed"
    },
    "tags": []
   },
   "outputs": [
    {
     "name": "stdout",
     "output_type": "stream",
     "text": [
      "['__notebook__.ipynb']\n"
     ]
    }
   ],
   "source": [
    "print(os.listdir())"
   ]
  },
  {
   "cell_type": "code",
   "execution_count": 3,
   "id": "bc6b605d",
   "metadata": {
    "execution": {
     "iopub.execute_input": "2022-05-16T18:45:49.714979Z",
     "iopub.status.busy": "2022-05-16T18:45:49.714692Z",
     "iopub.status.idle": "2022-05-16T18:45:49.734535Z",
     "shell.execute_reply": "2022-05-16T18:45:49.733658Z"
    },
    "papermill": {
     "duration": 0.057634,
     "end_time": "2022-05-16T18:45:49.736783",
     "exception": false,
     "start_time": "2022-05-16T18:45:49.679149",
     "status": "completed"
    },
    "tags": []
   },
   "outputs": [],
   "source": [
    "data = pd.read_csv('/kaggle/input/ukrainian-market-mobile-phones-data/phones_data.csv')"
   ]
  },
  {
   "cell_type": "code",
   "execution_count": 4,
   "id": "e4267ee6",
   "metadata": {
    "execution": {
     "iopub.execute_input": "2022-05-16T18:45:49.810233Z",
     "iopub.status.busy": "2022-05-16T18:45:49.809881Z",
     "iopub.status.idle": "2022-05-16T18:45:49.841345Z",
     "shell.execute_reply": "2022-05-16T18:45:49.840476Z"
    },
    "papermill": {
     "duration": 0.070621,
     "end_time": "2022-05-16T18:45:49.844032",
     "exception": false,
     "start_time": "2022-05-16T18:45:49.773411",
     "status": "completed"
    },
    "tags": []
   },
   "outputs": [
    {
     "data": {
      "text/html": [
       "<div>\n",
       "<style scoped>\n",
       "    .dataframe tbody tr th:only-of-type {\n",
       "        vertical-align: middle;\n",
       "    }\n",
       "\n",
       "    .dataframe tbody tr th {\n",
       "        vertical-align: top;\n",
       "    }\n",
       "\n",
       "    .dataframe thead th {\n",
       "        text-align: right;\n",
       "    }\n",
       "</style>\n",
       "<table border=\"1\" class=\"dataframe\">\n",
       "  <thead>\n",
       "    <tr style=\"text-align: right;\">\n",
       "      <th></th>\n",
       "      <th>Unnamed: 0</th>\n",
       "      <th>brand_name</th>\n",
       "      <th>model_name</th>\n",
       "      <th>os</th>\n",
       "      <th>popularity</th>\n",
       "      <th>best_price</th>\n",
       "      <th>lowest_price</th>\n",
       "      <th>highest_price</th>\n",
       "      <th>sellers_amount</th>\n",
       "      <th>screen_size</th>\n",
       "      <th>memory_size</th>\n",
       "      <th>battery_size</th>\n",
       "      <th>release_date</th>\n",
       "    </tr>\n",
       "  </thead>\n",
       "  <tbody>\n",
       "    <tr>\n",
       "      <th>0</th>\n",
       "      <td>0</td>\n",
       "      <td>ALCATEL</td>\n",
       "      <td>1 1/8GB Bluish Black (5033D-2JALUAA)</td>\n",
       "      <td>Android</td>\n",
       "      <td>422</td>\n",
       "      <td>1690.0</td>\n",
       "      <td>1529.0</td>\n",
       "      <td>1819.0</td>\n",
       "      <td>36</td>\n",
       "      <td>5.00</td>\n",
       "      <td>8.0</td>\n",
       "      <td>2000.0</td>\n",
       "      <td>10-2020</td>\n",
       "    </tr>\n",
       "    <tr>\n",
       "      <th>1</th>\n",
       "      <td>1</td>\n",
       "      <td>ALCATEL</td>\n",
       "      <td>1 5033D 1/16GB Volcano Black (5033D-2LALUAF)</td>\n",
       "      <td>Android</td>\n",
       "      <td>323</td>\n",
       "      <td>1803.0</td>\n",
       "      <td>1659.0</td>\n",
       "      <td>2489.0</td>\n",
       "      <td>36</td>\n",
       "      <td>5.00</td>\n",
       "      <td>16.0</td>\n",
       "      <td>2000.0</td>\n",
       "      <td>9-2020</td>\n",
       "    </tr>\n",
       "    <tr>\n",
       "      <th>2</th>\n",
       "      <td>2</td>\n",
       "      <td>ALCATEL</td>\n",
       "      <td>1 5033D 1/16GB Volcano Black (5033D-2LALUAF)</td>\n",
       "      <td>Android</td>\n",
       "      <td>299</td>\n",
       "      <td>1803.0</td>\n",
       "      <td>1659.0</td>\n",
       "      <td>2489.0</td>\n",
       "      <td>36</td>\n",
       "      <td>5.00</td>\n",
       "      <td>16.0</td>\n",
       "      <td>2000.0</td>\n",
       "      <td>9-2020</td>\n",
       "    </tr>\n",
       "    <tr>\n",
       "      <th>3</th>\n",
       "      <td>3</td>\n",
       "      <td>ALCATEL</td>\n",
       "      <td>1 5033D 1/16GB Volcano Black (5033D-2LALUAF)</td>\n",
       "      <td>Android</td>\n",
       "      <td>287</td>\n",
       "      <td>1803.0</td>\n",
       "      <td>1659.0</td>\n",
       "      <td>2489.0</td>\n",
       "      <td>36</td>\n",
       "      <td>5.00</td>\n",
       "      <td>16.0</td>\n",
       "      <td>2000.0</td>\n",
       "      <td>9-2020</td>\n",
       "    </tr>\n",
       "    <tr>\n",
       "      <th>4</th>\n",
       "      <td>4</td>\n",
       "      <td>Nokia</td>\n",
       "      <td>1.3 1/16GB Charcoal</td>\n",
       "      <td>Android</td>\n",
       "      <td>1047</td>\n",
       "      <td>1999.0</td>\n",
       "      <td>NaN</td>\n",
       "      <td>NaN</td>\n",
       "      <td>10</td>\n",
       "      <td>5.71</td>\n",
       "      <td>16.0</td>\n",
       "      <td>3000.0</td>\n",
       "      <td>4-2020</td>\n",
       "    </tr>\n",
       "    <tr>\n",
       "      <th>5</th>\n",
       "      <td>5</td>\n",
       "      <td>Honor</td>\n",
       "      <td>10 6/64GB Black</td>\n",
       "      <td>Android</td>\n",
       "      <td>71</td>\n",
       "      <td>10865.0</td>\n",
       "      <td>10631.0</td>\n",
       "      <td>11099.0</td>\n",
       "      <td>2</td>\n",
       "      <td>5.80</td>\n",
       "      <td>64.0</td>\n",
       "      <td>3400.0</td>\n",
       "      <td>6-2018</td>\n",
       "    </tr>\n",
       "    <tr>\n",
       "      <th>6</th>\n",
       "      <td>6</td>\n",
       "      <td>Honor</td>\n",
       "      <td>10 Lite 3/32GB Blue</td>\n",
       "      <td>Android</td>\n",
       "      <td>424</td>\n",
       "      <td>3999.0</td>\n",
       "      <td>NaN</td>\n",
       "      <td>NaN</td>\n",
       "      <td>2</td>\n",
       "      <td>6.21</td>\n",
       "      <td>32.0</td>\n",
       "      <td>3400.0</td>\n",
       "      <td>12-2018</td>\n",
       "    </tr>\n",
       "    <tr>\n",
       "      <th>7</th>\n",
       "      <td>7</td>\n",
       "      <td>Honor</td>\n",
       "      <td>10 Lite 4/64GB Black</td>\n",
       "      <td>Android</td>\n",
       "      <td>134</td>\n",
       "      <td>4973.0</td>\n",
       "      <td>4733.0</td>\n",
       "      <td>5295.0</td>\n",
       "      <td>6</td>\n",
       "      <td>6.21</td>\n",
       "      <td>64.0</td>\n",
       "      <td>3400.0</td>\n",
       "      <td>1-2019</td>\n",
       "    </tr>\n",
       "    <tr>\n",
       "      <th>8</th>\n",
       "      <td>8</td>\n",
       "      <td>Honor</td>\n",
       "      <td>10 lite 3/128GB Blue</td>\n",
       "      <td>Android</td>\n",
       "      <td>477</td>\n",
       "      <td>5100.0</td>\n",
       "      <td>4990.0</td>\n",
       "      <td>5222.0</td>\n",
       "      <td>3</td>\n",
       "      <td>6.21</td>\n",
       "      <td>128.0</td>\n",
       "      <td>3400.0</td>\n",
       "      <td>1-2021</td>\n",
       "    </tr>\n",
       "    <tr>\n",
       "      <th>9</th>\n",
       "      <td>9</td>\n",
       "      <td>Honor</td>\n",
       "      <td>10 lite 3/64GB Black</td>\n",
       "      <td>Android</td>\n",
       "      <td>215</td>\n",
       "      <td>4948.0</td>\n",
       "      <td>4646.0</td>\n",
       "      <td>5372.0</td>\n",
       "      <td>8</td>\n",
       "      <td>6.21</td>\n",
       "      <td>64.0</td>\n",
       "      <td>3400.0</td>\n",
       "      <td>12-2018</td>\n",
       "    </tr>\n",
       "  </tbody>\n",
       "</table>\n",
       "</div>"
      ],
      "text/plain": [
       "   Unnamed: 0 brand_name                                    model_name  \\\n",
       "0           0    ALCATEL          1 1/8GB Bluish Black (5033D-2JALUAA)   \n",
       "1           1    ALCATEL  1 5033D 1/16GB Volcano Black (5033D-2LALUAF)   \n",
       "2           2    ALCATEL  1 5033D 1/16GB Volcano Black (5033D-2LALUAF)   \n",
       "3           3    ALCATEL  1 5033D 1/16GB Volcano Black (5033D-2LALUAF)   \n",
       "4           4      Nokia                           1.3 1/16GB Charcoal   \n",
       "5           5      Honor                               10 6/64GB Black   \n",
       "6           6      Honor                           10 Lite 3/32GB Blue   \n",
       "7           7      Honor                          10 Lite 4/64GB Black   \n",
       "8           8      Honor                          10 lite 3/128GB Blue   \n",
       "9           9      Honor                          10 lite 3/64GB Black   \n",
       "\n",
       "        os  popularity  best_price  lowest_price  highest_price  \\\n",
       "0  Android         422      1690.0        1529.0         1819.0   \n",
       "1  Android         323      1803.0        1659.0         2489.0   \n",
       "2  Android         299      1803.0        1659.0         2489.0   \n",
       "3  Android         287      1803.0        1659.0         2489.0   \n",
       "4  Android        1047      1999.0           NaN            NaN   \n",
       "5  Android          71     10865.0       10631.0        11099.0   \n",
       "6  Android         424      3999.0           NaN            NaN   \n",
       "7  Android         134      4973.0        4733.0         5295.0   \n",
       "8  Android         477      5100.0        4990.0         5222.0   \n",
       "9  Android         215      4948.0        4646.0         5372.0   \n",
       "\n",
       "   sellers_amount  screen_size  memory_size  battery_size release_date  \n",
       "0              36         5.00          8.0        2000.0      10-2020  \n",
       "1              36         5.00         16.0        2000.0       9-2020  \n",
       "2              36         5.00         16.0        2000.0       9-2020  \n",
       "3              36         5.00         16.0        2000.0       9-2020  \n",
       "4              10         5.71         16.0        3000.0       4-2020  \n",
       "5               2         5.80         64.0        3400.0       6-2018  \n",
       "6               2         6.21         32.0        3400.0      12-2018  \n",
       "7               6         6.21         64.0        3400.0       1-2019  \n",
       "8               3         6.21        128.0        3400.0       1-2021  \n",
       "9               8         6.21         64.0        3400.0      12-2018  "
      ]
     },
     "execution_count": 4,
     "metadata": {},
     "output_type": "execute_result"
    }
   ],
   "source": [
    "data.head(10)"
   ]
  },
  {
   "cell_type": "code",
   "execution_count": 5,
   "id": "7adf649e",
   "metadata": {
    "execution": {
     "iopub.execute_input": "2022-05-16T18:45:49.918049Z",
     "iopub.status.busy": "2022-05-16T18:45:49.917085Z",
     "iopub.status.idle": "2022-05-16T18:45:49.922802Z",
     "shell.execute_reply": "2022-05-16T18:45:49.921949Z"
    },
    "papermill": {
     "duration": 0.04578,
     "end_time": "2022-05-16T18:45:49.924834",
     "exception": false,
     "start_time": "2022-05-16T18:45:49.879054",
     "status": "completed"
    },
    "tags": []
   },
   "outputs": [
    {
     "data": {
      "text/plain": [
       "(1224, 13)"
      ]
     },
     "execution_count": 5,
     "metadata": {},
     "output_type": "execute_result"
    }
   ],
   "source": [
    "data.shape"
   ]
  },
  {
   "cell_type": "markdown",
   "id": "45ab80eb",
   "metadata": {
    "papermill": {
     "duration": 0.035154,
     "end_time": "2022-05-16T18:45:49.995202",
     "exception": false,
     "start_time": "2022-05-16T18:45:49.960048",
     "status": "completed"
    },
    "tags": []
   },
   "source": [
    "# data cleaning and EDA"
   ]
  },
  {
   "cell_type": "code",
   "execution_count": 6,
   "id": "0ad30bc5",
   "metadata": {
    "execution": {
     "iopub.execute_input": "2022-05-16T18:45:50.070120Z",
     "iopub.status.busy": "2022-05-16T18:45:50.069595Z",
     "iopub.status.idle": "2022-05-16T18:45:50.078592Z",
     "shell.execute_reply": "2022-05-16T18:45:50.077666Z"
    },
    "papermill": {
     "duration": 0.050207,
     "end_time": "2022-05-16T18:45:50.080970",
     "exception": false,
     "start_time": "2022-05-16T18:45:50.030763",
     "status": "completed"
    },
    "tags": []
   },
   "outputs": [
    {
     "data": {
      "text/plain": [
       "Unnamed: 0          0\n",
       "brand_name          0\n",
       "model_name          0\n",
       "os                197\n",
       "popularity          0\n",
       "best_price          0\n",
       "lowest_price      260\n",
       "highest_price     260\n",
       "sellers_amount      0\n",
       "screen_size         2\n",
       "memory_size       112\n",
       "battery_size       10\n",
       "release_date        0\n",
       "dtype: int64"
      ]
     },
     "execution_count": 6,
     "metadata": {},
     "output_type": "execute_result"
    }
   ],
   "source": [
    "data.isna().sum()"
   ]
  },
  {
   "cell_type": "code",
   "execution_count": 7,
   "id": "bc779188",
   "metadata": {
    "execution": {
     "iopub.execute_input": "2022-05-16T18:45:50.154026Z",
     "iopub.status.busy": "2022-05-16T18:45:50.153705Z",
     "iopub.status.idle": "2022-05-16T18:45:51.438050Z",
     "shell.execute_reply": "2022-05-16T18:45:51.437104Z"
    },
    "papermill": {
     "duration": 1.323376,
     "end_time": "2022-05-16T18:45:51.440060",
     "exception": false,
     "start_time": "2022-05-16T18:45:50.116684",
     "status": "completed"
    },
    "tags": []
   },
   "outputs": [
    {
     "data": {
      "text/plain": [
       "<AxesSubplot:xlabel='os', ylabel='count'>"
      ]
     },
     "execution_count": 7,
     "metadata": {},
     "output_type": "execute_result"
    },
    {
     "data": {
      "image/png": "[encoded data removed]",
      "text/plain": [
       "<Figure size 432x288 with 1 Axes>"
      ]
     },
     "metadata": {
      "needs_background": "light"
     },
     "output_type": "display_data"
    }
   ],
   "source": [
    "import seaborn as sns\n",
    "sns.countplot(data = data, x='os')"
   ]
  },
  {
   "cell_type": "code",
   "execution_count": 8,
   "id": "afccdc74",
   "metadata": {
    "execution": {
     "iopub.execute_input": "2022-05-16T18:45:51.515051Z",
     "iopub.status.busy": "2022-05-16T18:45:51.514736Z",
     "iopub.status.idle": "2022-05-16T18:45:51.519847Z",
     "shell.execute_reply": "2022-05-16T18:45:51.518951Z"
    },
    "papermill": {
     "duration": 0.045177,
     "end_time": "2022-05-16T18:45:51.521672",
     "exception": false,
     "start_time": "2022-05-16T18:45:51.476495",
     "status": "completed"
    },
    "tags": []
   },
   "outputs": [],
   "source": [
    "data['os'].fillna('Android', inplace=True)\n"
   ]
  },
  {
   "cell_type": "code",
   "execution_count": 9,
   "id": "44ea9312",
   "metadata": {
    "execution": {
     "iopub.execute_input": "2022-05-16T18:45:51.599449Z",
     "iopub.status.busy": "2022-05-16T18:45:51.598829Z",
     "iopub.status.idle": "2022-05-16T18:45:51.934022Z",
     "shell.execute_reply": "2022-05-16T18:45:51.932250Z"
    },
    "papermill": {
     "duration": 0.376776,
     "end_time": "2022-05-16T18:45:51.936511",
     "exception": false,
     "start_time": "2022-05-16T18:45:51.559735",
     "status": "completed"
    },
    "tags": []
   },
   "outputs": [
    {
     "data": {
      "text/plain": [
       "<AxesSubplot:xlabel='battery_size', ylabel='Count'>"
      ]
     },
     "execution_count": 9,
     "metadata": {},
     "output_type": "execute_result"
    },
    {
     "data": {
      "image/png": "[encoded data removed]",
      "text/plain": [
       "<Figure size 432x288 with 1 Axes>"
      ]
     },
     "metadata": {
      "needs_background": "light"
     },
     "output_type": "display_data"
    }
   ],
   "source": [
    "sns.histplot(data = data, x='battery_size')"
   ]
  },
  {
   "cell_type": "code",
   "execution_count": 10,
   "id": "5d01640a",
   "metadata": {
    "execution": {
     "iopub.execute_input": "2022-05-16T18:45:52.016651Z",
     "iopub.status.busy": "2022-05-16T18:45:52.016371Z",
     "iopub.status.idle": "2022-05-16T18:45:52.601596Z",
     "shell.execute_reply": "2022-05-16T18:45:52.600900Z"
    },
    "papermill": {
     "duration": 0.627225,
     "end_time": "2022-05-16T18:45:52.603693",
     "exception": false,
     "start_time": "2022-05-16T18:45:51.976468",
     "status": "completed"
    },
    "tags": []
   },
   "outputs": [
    {
     "data": {
      "text/plain": [
       "<AxesSubplot:title={'center':'HIGHEST PRICE'}, xlabel='highest_price', ylabel='Count'>"
      ]
     },
     "execution_count": 10,
     "metadata": {},
     "output_type": "execute_result"
    },
    {
     "data": {
      "image/png": "[encoded data removed]",
      "text/plain": [
       "<Figure size 1440x504 with 1 Axes>"
      ]
     },
     "metadata": {
      "needs_background": "light"
     },
     "output_type": "display_data"
    },
    {
     "data": {
      "image/png": "[encoded data removed]",
      "text/plain": [
       "<Figure size 1440x504 with 1 Axes>"
      ]
     },
     "metadata": {
      "needs_background": "light"
     },
     "output_type": "display_data"
    }
   ],
   "source": [
    "\n",
    "import matplotlib.pyplot as plt\n",
    "plt.figure(figsize=(20,7))\n",
    "plt.title('LOWEST PRICE')\n",
    "sns.histplot(data = data, x = 'lowest_price')\n",
    "\n",
    "plt.figure(figsize=(20,7))\n",
    "plt.title('HIGHEST PRICE')\n",
    "sns.histplot(data = data, x = 'highest_price')"
   ]
  },
  {
   "cell_type": "code",
   "execution_count": 11,
   "id": "2a860f3c",
   "metadata": {
    "execution": {
     "iopub.execute_input": "2022-05-16T18:45:52.687611Z",
     "iopub.status.busy": "2022-05-16T18:45:52.687281Z",
     "iopub.status.idle": "2022-05-16T18:45:52.693591Z",
     "shell.execute_reply": "2022-05-16T18:45:52.692707Z"
    },
    "papermill": {
     "duration": 0.051269,
     "end_time": "2022-05-16T18:45:52.695878",
     "exception": false,
     "start_time": "2022-05-16T18:45:52.644609",
     "status": "completed"
    },
    "tags": []
   },
   "outputs": [
    {
     "data": {
      "text/plain": [
       "82"
      ]
     },
     "execution_count": 11,
     "metadata": {},
     "output_type": "execute_result"
    }
   ],
   "source": [
    "data.screen_size.nunique()"
   ]
  },
  {
   "cell_type": "code",
   "execution_count": 12,
   "id": "fcaca271",
   "metadata": {
    "execution": {
     "iopub.execute_input": "2022-05-16T18:45:52.780723Z",
     "iopub.status.busy": "2022-05-16T18:45:52.780446Z",
     "iopub.status.idle": "2022-05-16T18:45:52.993590Z",
     "shell.execute_reply": "2022-05-16T18:45:52.992944Z"
    },
    "papermill": {
     "duration": 0.257357,
     "end_time": "2022-05-16T18:45:52.995656",
     "exception": false,
     "start_time": "2022-05-16T18:45:52.738299",
     "status": "completed"
    },
    "tags": []
   },
   "outputs": [
    {
     "data": {
      "text/plain": [
       "<AxesSubplot:ylabel='Frequency'>"
      ]
     },
     "execution_count": 12,
     "metadata": {},
     "output_type": "execute_result"
    },
    {
     "data": {
      "image/png": "[encoded data removed]",
      "text/plain": [
       "<Figure size 432x288 with 1 Axes>"
      ]
     },
     "metadata": {
      "needs_background": "light"
     },
     "output_type": "display_data"
    }
   ],
   "source": [
    "data.screen_size.plot(kind='hist')"
   ]
  },
  {
   "cell_type": "markdown",
   "id": "32d645b7",
   "metadata": {
    "papermill": {
     "duration": 0.041737,
     "end_time": "2022-05-16T18:45:53.081502",
     "exception": false,
     "start_time": "2022-05-16T18:45:53.039765",
     "status": "completed"
    },
    "tags": []
   },
   "source": [
    "*replace all numerical missing values with the median*"
   ]
  },
  {
   "cell_type": "code",
   "execution_count": 13,
   "id": "e15a6bb0",
   "metadata": {
    "execution": {
     "iopub.execute_input": "2022-05-16T18:45:53.166370Z",
     "iopub.status.busy": "2022-05-16T18:45:53.165847Z",
     "iopub.status.idle": "2022-05-16T18:45:53.471907Z",
     "shell.execute_reply": "2022-05-16T18:45:53.470909Z"
    },
    "papermill": {
     "duration": 0.351666,
     "end_time": "2022-05-16T18:45:53.474500",
     "exception": false,
     "start_time": "2022-05-16T18:45:53.122834",
     "status": "completed"
    },
    "tags": []
   },
   "outputs": [],
   "source": [
    "from sklearn.impute import SimpleImputer\n",
    "imp_median = SimpleImputer(strategy='median')\n",
    "data[['battery_size','lowest_price', 'highest_price','screen_size']] = imp_median.fit_transform(data[['battery_size','lowest_price', 'highest_price','screen_size']])"
   ]
  },
  {
   "cell_type": "code",
   "execution_count": 14,
   "id": "a3edcfe7",
   "metadata": {
    "execution": {
     "iopub.execute_input": "2022-05-16T18:45:53.559865Z",
     "iopub.status.busy": "2022-05-16T18:45:53.559554Z",
     "iopub.status.idle": "2022-05-16T18:45:53.569637Z",
     "shell.execute_reply": "2022-05-16T18:45:53.568690Z"
    },
    "papermill": {
     "duration": 0.054943,
     "end_time": "2022-05-16T18:45:53.571732",
     "exception": false,
     "start_time": "2022-05-16T18:45:53.516789",
     "status": "completed"
    },
    "tags": []
   },
   "outputs": [
    {
     "data": {
      "text/plain": [
       "Unnamed: 0          0\n",
       "brand_name          0\n",
       "model_name          0\n",
       "os                  0\n",
       "popularity          0\n",
       "best_price          0\n",
       "lowest_price        0\n",
       "highest_price       0\n",
       "sellers_amount      0\n",
       "screen_size         0\n",
       "memory_size       112\n",
       "battery_size        0\n",
       "release_date        0\n",
       "dtype: int64"
      ]
     },
     "execution_count": 14,
     "metadata": {},
     "output_type": "execute_result"
    }
   ],
   "source": [
    "data.isna().sum()"
   ]
  },
  {
   "cell_type": "code",
   "execution_count": 15,
   "id": "6d028c48",
   "metadata": {
    "execution": {
     "iopub.execute_input": "2022-05-16T18:45:53.659354Z",
     "iopub.status.busy": "2022-05-16T18:45:53.658692Z",
     "iopub.status.idle": "2022-05-16T18:45:53.664496Z",
     "shell.execute_reply": "2022-05-16T18:45:53.663776Z"
    },
    "papermill": {
     "duration": 0.051801,
     "end_time": "2022-05-16T18:45:53.666513",
     "exception": false,
     "start_time": "2022-05-16T18:45:53.614712",
     "status": "completed"
    },
    "tags": []
   },
   "outputs": [
    {
     "data": {
      "text/plain": [
       "15"
      ]
     },
     "execution_count": 15,
     "metadata": {},
     "output_type": "execute_result"
    }
   ],
   "source": [
    "data.memory_size.nunique()"
   ]
  },
  {
   "cell_type": "code",
   "execution_count": 16,
   "id": "aee252ac",
   "metadata": {
    "execution": {
     "iopub.execute_input": "2022-05-16T18:45:53.754630Z",
     "iopub.status.busy": "2022-05-16T18:45:53.753807Z",
     "iopub.status.idle": "2022-05-16T18:45:54.005728Z",
     "shell.execute_reply": "2022-05-16T18:45:54.005026Z"
    },
    "papermill": {
     "duration": 0.29879,
     "end_time": "2022-05-16T18:45:54.007854",
     "exception": false,
     "start_time": "2022-05-16T18:45:53.709064",
     "status": "completed"
    },
    "tags": []
   },
   "outputs": [
    {
     "data": {
      "text/plain": [
       "<AxesSubplot:xlabel='memory_size', ylabel='count'>"
      ]
     },
     "execution_count": 16,
     "metadata": {},
     "output_type": "execute_result"
    },
    {
     "data": {
      "image/png": "[encoded data removed]",
      "text/plain": [
       "<Figure size 432x288 with 1 Axes>"
      ]
     },
     "metadata": {
      "needs_background": "light"
     },
     "output_type": "display_data"
    }
   ],
   "source": [
    "sns.countplot(data = data, x = 'memory_size')"
   ]
  },
  {
   "cell_type": "code",
   "execution_count": 17,
   "id": "1c4e6290",
   "metadata": {
    "execution": {
     "iopub.execute_input": "2022-05-16T18:45:54.100056Z",
     "iopub.status.busy": "2022-05-16T18:45:54.099106Z",
     "iopub.status.idle": "2022-05-16T18:45:54.108965Z",
     "shell.execute_reply": "2022-05-16T18:45:54.108121Z"
    },
    "papermill": {
     "duration": 0.057617,
     "end_time": "2022-05-16T18:45:54.111305",
     "exception": false,
     "start_time": "2022-05-16T18:45:54.053688",
     "status": "completed"
    },
    "tags": []
   },
   "outputs": [],
   "source": [
    "data['memory_size'] = imp_median.fit_transform(data[['memory_size']])"
   ]
  },
  {
   "cell_type": "markdown",
   "id": "8933f4a0",
   "metadata": {
    "papermill": {
     "duration": 0.044527,
     "end_time": "2022-05-16T18:45:54.199802",
     "exception": false,
     "start_time": "2022-05-16T18:45:54.155275",
     "status": "completed"
    },
    "tags": []
   },
   "source": [
    "# data preprocessing"
   ]
  },
  {
   "cell_type": "code",
   "execution_count": 18,
   "id": "6487bcbc",
   "metadata": {
    "execution": {
     "iopub.execute_input": "2022-05-16T18:45:54.289155Z",
     "iopub.status.busy": "2022-05-16T18:45:54.288078Z",
     "iopub.status.idle": "2022-05-16T18:45:54.294628Z",
     "shell.execute_reply": "2022-05-16T18:45:54.293751Z"
    },
    "papermill": {
     "duration": 0.053719,
     "end_time": "2022-05-16T18:45:54.296896",
     "exception": false,
     "start_time": "2022-05-16T18:45:54.243177",
     "status": "completed"
    },
    "tags": []
   },
   "outputs": [],
   "source": [
    "from sklearn.preprocessing import StandardScaler\n",
    "data.drop(columns=['Unnamed: 0'],inplace=True)\n"
   ]
  },
  {
   "cell_type": "code",
   "execution_count": 19,
   "id": "059097b4",
   "metadata": {
    "execution": {
     "iopub.execute_input": "2022-05-16T18:45:54.386390Z",
     "iopub.status.busy": "2022-05-16T18:45:54.385852Z",
     "iopub.status.idle": "2022-05-16T18:45:54.396577Z",
     "shell.execute_reply": "2022-05-16T18:45:54.395111Z"
    },
    "papermill": {
     "duration": 0.057834,
     "end_time": "2022-05-16T18:45:54.398955",
     "exception": false,
     "start_time": "2022-05-16T18:45:54.341121",
     "status": "completed"
    },
    "tags": []
   },
   "outputs": [
    {
     "name": "stdout",
     "output_type": "stream",
     "text": [
      "CATEGORICAL FEATURES\n",
      "['brand_name' 'model_name' 'os' 'release_date']\n",
      "\n",
      "NUMERICAL FEATURES\n",
      "['popularity' 'best_price' 'lowest_price' 'highest_price' 'sellers_amount'\n",
      " 'screen_size' 'memory_size' 'battery_size']\n"
     ]
    }
   ],
   "source": [
    "num_feats = data.select_dtypes(include='number').columns.values\n",
    "cat_feats = data.select_dtypes(exclude='number').columns.values\n",
    "\n",
    "print('CATEGORICAL FEATURES')\n",
    "print(cat_feats)\n",
    "print()\n",
    "print('NUMERICAL FEATURES')\n",
    "print(num_feats)"
   ]
  },
  {
   "cell_type": "code",
   "execution_count": 20,
   "id": "aac1e963",
   "metadata": {
    "execution": {
     "iopub.execute_input": "2022-05-16T18:45:54.491851Z",
     "iopub.status.busy": "2022-05-16T18:45:54.491359Z",
     "iopub.status.idle": "2022-05-16T18:45:54.499911Z",
     "shell.execute_reply": "2022-05-16T18:45:54.498840Z"
    },
    "papermill": {
     "duration": 0.056845,
     "end_time": "2022-05-16T18:45:54.502146",
     "exception": false,
     "start_time": "2022-05-16T18:45:54.445301",
     "status": "completed"
    },
    "tags": []
   },
   "outputs": [
    {
     "name": "stdout",
     "output_type": "stream",
     "text": [
      "Amount of Unique brand_name is 64\n",
      "Amount of Unique model_name is 1068\n",
      "Amount of Unique os is 6\n",
      "Amount of Unique release_date is 73\n"
     ]
    }
   ],
   "source": [
    "for col in cat_feats:\n",
    "    print(f'Amount of Unique {col} is', data[col].nunique())"
   ]
  },
  {
   "cell_type": "code",
   "execution_count": 21,
   "id": "47d30426",
   "metadata": {
    "execution": {
     "iopub.execute_input": "2022-05-16T18:45:54.594325Z",
     "iopub.status.busy": "2022-05-16T18:45:54.594001Z",
     "iopub.status.idle": "2022-05-16T18:45:54.731531Z",
     "shell.execute_reply": "2022-05-16T18:45:54.730488Z"
    },
    "papermill": {
     "duration": 0.187253,
     "end_time": "2022-05-16T18:45:54.734257",
     "exception": false,
     "start_time": "2022-05-16T18:45:54.547004",
     "status": "completed"
    },
    "tags": []
   },
   "outputs": [],
   "source": [
    "data[['Month','Year']] = data.release_date.str.split('-',expand=True)"
   ]
  },
  {
   "cell_type": "code",
   "execution_count": 22,
   "id": "2d8665f9",
   "metadata": {
    "execution": {
     "iopub.execute_input": "2022-05-16T18:45:54.826156Z",
     "iopub.status.busy": "2022-05-16T18:45:54.825707Z",
     "iopub.status.idle": "2022-05-16T18:45:54.831205Z",
     "shell.execute_reply": "2022-05-16T18:45:54.830540Z"
    },
    "papermill": {
     "duration": 0.053506,
     "end_time": "2022-05-16T18:45:54.833376",
     "exception": false,
     "start_time": "2022-05-16T18:45:54.779870",
     "status": "completed"
    },
    "tags": []
   },
   "outputs": [],
   "source": [
    "# a little feature engineering\n",
    "data['average_price'] = (data['lowest_price'] + data['highest_price']) /2\n"
   ]
  },
  {
   "cell_type": "code",
   "execution_count": 23,
   "id": "c9e600f7",
   "metadata": {
    "execution": {
     "iopub.execute_input": "2022-05-16T18:45:54.924277Z",
     "iopub.status.busy": "2022-05-16T18:45:54.923806Z",
     "iopub.status.idle": "2022-05-16T18:45:55.140994Z",
     "shell.execute_reply": "2022-05-16T18:45:55.140108Z"
    },
    "papermill": {
     "duration": 0.265131,
     "end_time": "2022-05-16T18:45:55.143519",
     "exception": false,
     "start_time": "2022-05-16T18:45:54.878388",
     "status": "completed"
    },
    "tags": []
   },
   "outputs": [
    {
     "data": {
      "text/plain": [
       "<AxesSubplot:xlabel='popularity', ylabel='sellers_amount'>"
      ]
     },
     "execution_count": 23,
     "metadata": {},
     "output_type": "execute_result"
    },
    {
     "data": {
      "image/png": "[encoded data removed]",
      "text/plain": [
       "<Figure size 432x288 with 1 Axes>"
      ]
     },
     "metadata": {
      "needs_background": "light"
     },
     "output_type": "display_data"
    }
   ],
   "source": [
    "sns.scatterplot(data = data, x = 'popularity', y = 'sellers_amount')"
   ]
  },
  {
   "cell_type": "code",
   "execution_count": 24,
   "id": "1c62c88f",
   "metadata": {
    "execution": {
     "iopub.execute_input": "2022-05-16T18:45:55.238842Z",
     "iopub.status.busy": "2022-05-16T18:45:55.238309Z",
     "iopub.status.idle": "2022-05-16T18:45:55.246267Z",
     "shell.execute_reply": "2022-05-16T18:45:55.245599Z"
    },
    "papermill": {
     "duration": 0.058174,
     "end_time": "2022-05-16T18:45:55.248161",
     "exception": false,
     "start_time": "2022-05-16T18:45:55.189987",
     "status": "completed"
    },
    "tags": []
   },
   "outputs": [
    {
     "data": {
      "text/plain": [
       "popularity        0.352679\n",
       "best_price        0.953645\n",
       "lowest_price      0.989788\n",
       "highest_price     0.994394\n",
       "sellers_amount    0.331100\n",
       "screen_size       0.417487\n",
       "memory_size       0.673452\n",
       "battery_size      0.152774\n",
       "average_price     1.000000\n",
       "Name: average_price, dtype: float64"
      ]
     },
     "execution_count": 24,
     "metadata": {},
     "output_type": "execute_result"
    }
   ],
   "source": [
    "data_corr = data.corr()\n",
    "data_corr['average_price']"
   ]
  },
  {
   "cell_type": "code",
   "execution_count": 25,
   "id": "b75567fe",
   "metadata": {
    "execution": {
     "iopub.execute_input": "2022-05-16T18:45:55.343510Z",
     "iopub.status.busy": "2022-05-16T18:45:55.342952Z",
     "iopub.status.idle": "2022-05-16T18:45:55.346832Z",
     "shell.execute_reply": "2022-05-16T18:45:55.346260Z"
    },
    "papermill": {
     "duration": 0.053726,
     "end_time": "2022-05-16T18:45:55.348698",
     "exception": false,
     "start_time": "2022-05-16T18:45:55.294972",
     "status": "completed"
    },
    "tags": []
   },
   "outputs": [],
   "source": [
    "num_feats = num_feats.tolist()"
   ]
  },
  {
   "cell_type": "code",
   "execution_count": 26,
   "id": "f766f6f2",
   "metadata": {
    "execution": {
     "iopub.execute_input": "2022-05-16T18:45:55.446245Z",
     "iopub.status.busy": "2022-05-16T18:45:55.445319Z",
     "iopub.status.idle": "2022-05-16T18:45:55.449108Z",
     "shell.execute_reply": "2022-05-16T18:45:55.448586Z"
    },
    "papermill": {
     "duration": 0.055088,
     "end_time": "2022-05-16T18:45:55.451110",
     "exception": false,
     "start_time": "2022-05-16T18:45:55.396022",
     "status": "completed"
    },
    "tags": []
   },
   "outputs": [],
   "source": [
    "num_feats.remove('best_price')"
   ]
  },
  {
   "cell_type": "code",
   "execution_count": 27,
   "id": "a3149da9",
   "metadata": {
    "execution": {
     "iopub.execute_input": "2022-05-16T18:45:55.546542Z",
     "iopub.status.busy": "2022-05-16T18:45:55.546202Z",
     "iopub.status.idle": "2022-05-16T18:45:55.558235Z",
     "shell.execute_reply": "2022-05-16T18:45:55.557127Z"
    },
    "papermill": {
     "duration": 0.062541,
     "end_time": "2022-05-16T18:45:55.560718",
     "exception": false,
     "start_time": "2022-05-16T18:45:55.498177",
     "status": "completed"
    },
    "tags": []
   },
   "outputs": [],
   "source": [
    "from sklearn.preprocessing import LabelEncoder\n",
    "le  = LabelEncoder()\n",
    "scaler = StandardScaler()\n",
    "data[num_feats] = scaler.fit_transform(data[num_feats])"
   ]
  },
  {
   "cell_type": "code",
   "execution_count": 28,
   "id": "6a2015f5",
   "metadata": {
    "execution": {
     "iopub.execute_input": "2022-05-16T18:45:55.658553Z",
     "iopub.status.busy": "2022-05-16T18:45:55.658181Z",
     "iopub.status.idle": "2022-05-16T18:45:55.671411Z",
     "shell.execute_reply": "2022-05-16T18:45:55.670446Z"
    },
    "papermill": {
     "duration": 0.065356,
     "end_time": "2022-05-16T18:45:55.673608",
     "exception": false,
     "start_time": "2022-05-16T18:45:55.608252",
     "status": "completed"
    },
    "tags": []
   },
   "outputs": [],
   "source": [
    "for col in cat_feats:\n",
    "    data[col] = data[col].astype('category')\n",
    "    data[col] = data[col].cat.codes"
   ]
  },
  {
   "cell_type": "code",
   "execution_count": 29,
   "id": "63219002",
   "metadata": {
    "execution": {
     "iopub.execute_input": "2022-05-16T18:45:55.768950Z",
     "iopub.status.busy": "2022-05-16T18:45:55.768380Z",
     "iopub.status.idle": "2022-05-16T18:45:55.789792Z",
     "shell.execute_reply": "2022-05-16T18:45:55.788896Z"
    },
    "papermill": {
     "duration": 0.072011,
     "end_time": "2022-05-16T18:45:55.792303",
     "exception": false,
     "start_time": "2022-05-16T18:45:55.720292",
     "status": "completed"
    },
    "tags": []
   },
   "outputs": [
    {
     "data": {
      "text/html": [
       "<div>\n",
       "<style scoped>\n",
       "    .dataframe tbody tr th:only-of-type {\n",
       "        vertical-align: middle;\n",
       "    }\n",
       "\n",
       "    .dataframe tbody tr th {\n",
       "        vertical-align: top;\n",
       "    }\n",
       "\n",
       "    .dataframe thead th {\n",
       "        text-align: right;\n",
       "    }\n",
       "</style>\n",
       "<table border=\"1\" class=\"dataframe\">\n",
       "  <thead>\n",
       "    <tr style=\"text-align: right;\">\n",
       "      <th></th>\n",
       "      <th>brand_name</th>\n",
       "      <th>model_name</th>\n",
       "      <th>os</th>\n",
       "      <th>popularity</th>\n",
       "      <th>best_price</th>\n",
       "      <th>lowest_price</th>\n",
       "      <th>highest_price</th>\n",
       "      <th>sellers_amount</th>\n",
       "      <th>screen_size</th>\n",
       "      <th>memory_size</th>\n",
       "      <th>battery_size</th>\n",
       "      <th>release_date</th>\n",
       "      <th>Month</th>\n",
       "      <th>Year</th>\n",
       "      <th>average_price</th>\n",
       "    </tr>\n",
       "  </thead>\n",
       "  <tbody>\n",
       "    <tr>\n",
       "      <th>0</th>\n",
       "      <td>2</td>\n",
       "      <td>0</td>\n",
       "      <td>0</td>\n",
       "      <td>-0.539143</td>\n",
       "      <td>1690.0</td>\n",
       "      <td>-0.716688</td>\n",
       "      <td>-0.683482</td>\n",
       "      <td>0.935301</td>\n",
       "      <td>-0.267976</td>\n",
       "      <td>-0.792354</td>\n",
       "      <td>-0.968734</td>\n",
       "      <td>12</td>\n",
       "      <td>10</td>\n",
       "      <td>2020</td>\n",
       "      <td>1674.00</td>\n",
       "    </tr>\n",
       "    <tr>\n",
       "      <th>1</th>\n",
       "      <td>2</td>\n",
       "      <td>1</td>\n",
       "      <td>0</td>\n",
       "      <td>-0.819328</td>\n",
       "      <td>1803.0</td>\n",
       "      <td>-0.699808</td>\n",
       "      <td>-0.618950</td>\n",
       "      <td>0.935301</td>\n",
       "      <td>-0.267976</td>\n",
       "      <td>-0.717603</td>\n",
       "      <td>-0.968734</td>\n",
       "      <td>72</td>\n",
       "      <td>9</td>\n",
       "      <td>2020</td>\n",
       "      <td>2074.00</td>\n",
       "    </tr>\n",
       "    <tr>\n",
       "      <th>2</th>\n",
       "      <td>2</td>\n",
       "      <td>1</td>\n",
       "      <td>0</td>\n",
       "      <td>-0.887252</td>\n",
       "      <td>1803.0</td>\n",
       "      <td>-0.699808</td>\n",
       "      <td>-0.618950</td>\n",
       "      <td>0.935301</td>\n",
       "      <td>-0.267976</td>\n",
       "      <td>-0.717603</td>\n",
       "      <td>-0.968734</td>\n",
       "      <td>72</td>\n",
       "      <td>9</td>\n",
       "      <td>2020</td>\n",
       "      <td>2074.00</td>\n",
       "    </tr>\n",
       "    <tr>\n",
       "      <th>3</th>\n",
       "      <td>2</td>\n",
       "      <td>1</td>\n",
       "      <td>0</td>\n",
       "      <td>-0.921214</td>\n",
       "      <td>1803.0</td>\n",
       "      <td>-0.699808</td>\n",
       "      <td>-0.618950</td>\n",
       "      <td>0.935301</td>\n",
       "      <td>-0.267976</td>\n",
       "      <td>-0.717603</td>\n",
       "      <td>-0.968734</td>\n",
       "      <td>72</td>\n",
       "      <td>9</td>\n",
       "      <td>2020</td>\n",
       "      <td>2074.00</td>\n",
       "    </tr>\n",
       "    <tr>\n",
       "      <th>4</th>\n",
       "      <td>38</td>\n",
       "      <td>2</td>\n",
       "      <td>0</td>\n",
       "      <td>1.229700</td>\n",
       "      <td>1999.0</td>\n",
       "      <td>-0.321312</td>\n",
       "      <td>-0.345749</td>\n",
       "      <td>-0.327534</td>\n",
       "      <td>0.213255</td>\n",
       "      <td>-0.717603</td>\n",
       "      <td>-0.366604</td>\n",
       "      <td>42</td>\n",
       "      <td>4</td>\n",
       "      <td>2020</td>\n",
       "      <td>4949.75</td>\n",
       "    </tr>\n",
       "    <tr>\n",
       "      <th>5</th>\n",
       "      <td>25</td>\n",
       "      <td>3</td>\n",
       "      <td>0</td>\n",
       "      <td>-1.532526</td>\n",
       "      <td>10865.0</td>\n",
       "      <td>0.465155</td>\n",
       "      <td>0.210333</td>\n",
       "      <td>-0.716099</td>\n",
       "      <td>0.274256</td>\n",
       "      <td>-0.269098</td>\n",
       "      <td>-0.125752</td>\n",
       "      <td>50</td>\n",
       "      <td>6</td>\n",
       "      <td>2018</td>\n",
       "      <td>10865.00</td>\n",
       "    </tr>\n",
       "    <tr>\n",
       "      <th>6</th>\n",
       "      <td>25</td>\n",
       "      <td>4</td>\n",
       "      <td>0</td>\n",
       "      <td>-0.533483</td>\n",
       "      <td>3999.0</td>\n",
       "      <td>-0.321312</td>\n",
       "      <td>-0.345749</td>\n",
       "      <td>-0.716099</td>\n",
       "      <td>0.552150</td>\n",
       "      <td>-0.568101</td>\n",
       "      <td>-0.125752</td>\n",
       "      <td>22</td>\n",
       "      <td>12</td>\n",
       "      <td>2018</td>\n",
       "      <td>4949.75</td>\n",
       "    </tr>\n",
       "    <tr>\n",
       "      <th>7</th>\n",
       "      <td>25</td>\n",
       "      <td>5</td>\n",
       "      <td>0</td>\n",
       "      <td>-1.354226</td>\n",
       "      <td>4973.0</td>\n",
       "      <td>-0.300667</td>\n",
       "      <td>-0.348687</td>\n",
       "      <td>-0.521816</td>\n",
       "      <td>0.552150</td>\n",
       "      <td>-0.269098</td>\n",
       "      <td>-0.125752</td>\n",
       "      <td>4</td>\n",
       "      <td>1</td>\n",
       "      <td>2019</td>\n",
       "      <td>5014.00</td>\n",
       "    </tr>\n",
       "    <tr>\n",
       "      <th>8</th>\n",
       "      <td>25</td>\n",
       "      <td>6</td>\n",
       "      <td>0</td>\n",
       "      <td>-0.383485</td>\n",
       "      <td>5100.0</td>\n",
       "      <td>-0.267297</td>\n",
       "      <td>-0.355718</td>\n",
       "      <td>-0.667528</td>\n",
       "      <td>0.552150</td>\n",
       "      <td>0.328910</td>\n",
       "      <td>-0.125752</td>\n",
       "      <td>6</td>\n",
       "      <td>1</td>\n",
       "      <td>2021</td>\n",
       "      <td>5106.00</td>\n",
       "    </tr>\n",
       "    <tr>\n",
       "      <th>9</th>\n",
       "      <td>25</td>\n",
       "      <td>7</td>\n",
       "      <td>0</td>\n",
       "      <td>-1.124984</td>\n",
       "      <td>4948.0</td>\n",
       "      <td>-0.311963</td>\n",
       "      <td>-0.341270</td>\n",
       "      <td>-0.424675</td>\n",
       "      <td>0.552150</td>\n",
       "      <td>-0.269098</td>\n",
       "      <td>-0.125752</td>\n",
       "      <td>22</td>\n",
       "      <td>12</td>\n",
       "      <td>2018</td>\n",
       "      <td>5009.00</td>\n",
       "    </tr>\n",
       "  </tbody>\n",
       "</table>\n",
       "</div>"
      ],
      "text/plain": [
       "   brand_name  model_name  os  popularity  best_price  lowest_price  \\\n",
       "0           2           0   0   -0.539143      1690.0     -0.716688   \n",
       "1           2           1   0   -0.819328      1803.0     -0.699808   \n",
       "2           2           1   0   -0.887252      1803.0     -0.699808   \n",
       "3           2           1   0   -0.921214      1803.0     -0.699808   \n",
       "4          38           2   0    1.229700      1999.0     -0.321312   \n",
       "5          25           3   0   -1.532526     10865.0      0.465155   \n",
       "6          25           4   0   -0.533483      3999.0     -0.321312   \n",
       "7          25           5   0   -1.354226      4973.0     -0.300667   \n",
       "8          25           6   0   -0.383485      5100.0     -0.267297   \n",
       "9          25           7   0   -1.124984      4948.0     -0.311963   \n",
       "\n",
       "   highest_price  sellers_amount  screen_size  memory_size  battery_size  \\\n",
       "0      -0.683482        0.935301    -0.267976    -0.792354     -0.968734   \n",
       "1      -0.618950        0.935301    -0.267976    -0.717603     -0.968734   \n",
       "2      -0.618950        0.935301    -0.267976    -0.717603     -0.968734   \n",
       "3      -0.618950        0.935301    -0.267976    -0.717603     -0.968734   \n",
       "4      -0.345749       -0.327534     0.213255    -0.717603     -0.366604   \n",
       "5       0.210333       -0.716099     0.274256    -0.269098     -0.125752   \n",
       "6      -0.345749       -0.716099     0.552150    -0.568101     -0.125752   \n",
       "7      -0.348687       -0.521816     0.552150    -0.269098     -0.125752   \n",
       "8      -0.355718       -0.667528     0.552150     0.328910     -0.125752   \n",
       "9      -0.341270       -0.424675     0.552150    -0.269098     -0.125752   \n",
       "\n",
       "   release_date Month  Year  average_price  \n",
       "0            12    10  2020        1674.00  \n",
       "1            72     9  2020        2074.00  \n",
       "2            72     9  2020        2074.00  \n",
       "3            72     9  2020        2074.00  \n",
       "4            42     4  2020        4949.75  \n",
       "5            50     6  2018       10865.00  \n",
       "6            22    12  2018        4949.75  \n",
       "7             4     1  2019        5014.00  \n",
       "8             6     1  2021        5106.00  \n",
       "9            22    12  2018        5009.00  "
      ]
     },
     "execution_count": 29,
     "metadata": {},
     "output_type": "execute_result"
    }
   ],
   "source": [
    "data.head(10)"
   ]
  },
  {
   "cell_type": "markdown",
   "id": "97fd530c",
   "metadata": {
    "papermill": {
     "duration": 0.047862,
     "end_time": "2022-05-16T18:45:55.888970",
     "exception": false,
     "start_time": "2022-05-16T18:45:55.841108",
     "status": "completed"
    },
    "tags": []
   },
   "source": [
    "> Building the model"
   ]
  },
  {
   "cell_type": "code",
   "execution_count": 30,
   "id": "6faa58f3",
   "metadata": {
    "execution": {
     "iopub.execute_input": "2022-05-16T18:45:55.985883Z",
     "iopub.status.busy": "2022-05-16T18:45:55.985348Z",
     "iopub.status.idle": "2022-05-16T18:45:56.305266Z",
     "shell.execute_reply": "2022-05-16T18:45:56.304441Z"
    },
    "papermill": {
     "duration": 0.371432,
     "end_time": "2022-05-16T18:45:56.307823",
     "exception": false,
     "start_time": "2022-05-16T18:45:55.936391",
     "status": "completed"
    },
    "tags": []
   },
   "outputs": [],
   "source": [
    "from catboost import CatBoostRegressor\n",
    "from xgboost import XGBRegressor\n",
    "from sklearn import metrics \n",
    "from sklearn.model_selection import train_test_split , GridSearchCV\n",
    "from sklearn.linear_model import LinearRegression , Ridge\n",
    "\n",
    "X = data.drop(columns = ['best_price']) # features\n",
    "y = data['best_price'] # labels or target\n",
    "\n",
    "X_train,X_val, y_train, y_val = train_test_split(X,y,random_state = 43, test_size = .2)"
   ]
  },
  {
   "cell_type": "code",
   "execution_count": null,
   "id": "5885b059",
   "metadata": {
    "papermill": {
     "duration": 0.047787,
     "end_time": "2022-05-16T18:45:56.404529",
     "exception": false,
     "start_time": "2022-05-16T18:45:56.356742",
     "status": "completed"
    },
    "tags": []
   },
   "outputs": [],
   "source": []
  }
 ],
 "metadata": {
  "kernelspec": {
   "display_name": "Python 3",
   "language": "python",
   "name": "python3"
  },
  "language_info": {
   "codemirror_mode": {
    "name": "ipython",
    "version": 3
   },
   "file_extension": ".py",
   "mimetype": "text/x-python",
   "name": "python",
   "nbconvert_exporter": "python",
   "pygments_lexer": "ipython3",
   "version": "3.7.12"
  },
  "papermill": {
   "default_parameters": {},
   "duration": 18.437809,
   "end_time": "2022-05-16T18:45:57.274039",
   "environment_variables": {},
   "exception": null,
   "input_path": "__notebook__.ipynb",
   "output_path": "__notebook__.ipynb",
   "parameters": {},
   "start_time": "2022-05-16T18:45:38.836230",
   "version": "2.3.4"
  }
 },
 "nbformat": 4,
 "nbformat_minor": 5
}
