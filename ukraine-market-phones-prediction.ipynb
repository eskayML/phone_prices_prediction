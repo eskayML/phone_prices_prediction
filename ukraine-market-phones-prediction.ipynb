{
 "cells": [
  {
   "cell_type": "code",
   "execution_count": 1,
   "id": "3117e269",
   "metadata": {
    "_cell_guid": "b1076dfc-b9ad-4769-8c92-a6c4dae69d19",
    "_uuid": "8f2839f25d086af736a60e9eeb907d3b93b6e0e5",
    "execution": {
     "iopub.execute_input": "2022-05-17T10:24:37.344890Z",
     "iopub.status.busy": "2022-05-17T10:24:37.344504Z",
     "iopub.status.idle": "2022-05-17T10:24:37.372573Z",
     "shell.execute_reply": "2022-05-17T10:24:37.371385Z"
    },
    "papermill": {
     "duration": 0.074342,
     "end_time": "2022-05-17T10:24:37.376362",
     "exception": false,
     "start_time": "2022-05-17T10:24:37.302020",
     "status": "completed"
    },
    "tags": []
   },
   "outputs": [
    {
     "name": "stdout",
     "output_type": "stream",
     "text": [
      "/kaggle/input/ukrainian-market-mobile-phones-data/phones_data.csv\n"
     ]
    }
   ],
   "source": [
    "# This Python 3 environment comes with many helpful analytics libraries installed\n",
    "# It is defined by the kaggle/python Docker image: https://github.com/kaggle/docker-python\n",
    "# For example, here's several helpful packages to load\n",
    "\n",
    "import numpy as np # linear algebra\n",
    "import pandas as pd # data processing, CSV file I/O (e.g. pd.read_csv)\n",
    "\n",
    "# Input data files are available in the read-only \"../input/\" directory\n",
    "# For example, running this (by clicking run or pressing Shift+Enter) will list all files under the input directory\n",
    "\n",
    "import os\n",
    "for dirname, _, filenames in os.walk('/kaggle/input'):\n",
    "    for filename in filenames:\n",
    "        print(os.path.join(dirname, filename))\n",
    "\n",
    "# You can write up to 20GB to the current directory (/kaggle/working/) that gets preserved as output when you create a version using \"Save & Run All\" \n",
    "# You can also write temporary files to /kaggle/temp/, but they won't be saved outside of the current session"
   ]
  },
  {
   "cell_type": "code",
   "execution_count": 2,
   "id": "00095570",
   "metadata": {
    "execution": {
     "iopub.execute_input": "2022-05-17T10:24:37.460238Z",
     "iopub.status.busy": "2022-05-17T10:24:37.459966Z",
     "iopub.status.idle": "2022-05-17T10:24:37.464092Z",
     "shell.execute_reply": "2022-05-17T10:24:37.463485Z"
    },
    "papermill": {
     "duration": 0.048319,
     "end_time": "2022-05-17T10:24:37.466883",
     "exception": false,
     "start_time": "2022-05-17T10:24:37.418564",
     "status": "completed"
    },
    "tags": []
   },
   "outputs": [
    {
     "name": "stdout",
     "output_type": "stream",
     "text": [
      "['__notebook__.ipynb']\n"
     ]
    }
   ],
   "source": [
    "print(os.listdir())"
   ]
  },
  {
   "cell_type": "code",
   "execution_count": 3,
   "id": "86eba80a",
   "metadata": {
    "execution": {
     "iopub.execute_input": "2022-05-17T10:24:37.550147Z",
     "iopub.status.busy": "2022-05-17T10:24:37.549786Z",
     "iopub.status.idle": "2022-05-17T10:24:37.574484Z",
     "shell.execute_reply": "2022-05-17T10:24:37.573679Z"
    },
    "papermill": {
     "duration": 0.069296,
     "end_time": "2022-05-17T10:24:37.577040",
     "exception": false,
     "start_time": "2022-05-17T10:24:37.507744",
     "status": "completed"
    },
    "tags": []
   },
   "outputs": [],
   "source": [
    "data = pd.read_csv('/kaggle/input/ukrainian-market-mobile-phones-data/phones_data.csv')"
   ]
  },
  {
   "cell_type": "code",
   "execution_count": 4,
   "id": "b161a151",
   "metadata": {
    "execution": {
     "iopub.execute_input": "2022-05-17T10:24:37.664766Z",
     "iopub.status.busy": "2022-05-17T10:24:37.663997Z",
     "iopub.status.idle": "2022-05-17T10:24:37.698186Z",
     "shell.execute_reply": "2022-05-17T10:24:37.697226Z"
    },
    "papermill": {
     "duration": 0.080798,
     "end_time": "2022-05-17T10:24:37.701628",
     "exception": false,
     "start_time": "2022-05-17T10:24:37.620830",
     "status": "completed"
    },
    "tags": []
   },
   "outputs": [
    {
     "data": {
      "text/html": [
       "<div>\n",
       "<style scoped>\n",
       "    .dataframe tbody tr th:only-of-type {\n",
       "        vertical-align: middle;\n",
       "    }\n",
       "\n",
       "    .dataframe tbody tr th {\n",
       "        vertical-align: top;\n",
       "    }\n",
       "\n",
       "    .dataframe thead th {\n",
       "        text-align: right;\n",
       "    }\n",
       "</style>\n",
       "<table border=\"1\" class=\"dataframe\">\n",
       "  <thead>\n",
       "    <tr style=\"text-align: right;\">\n",
       "      <th></th>\n",
       "      <th>Unnamed: 0</th>\n",
       "      <th>brand_name</th>\n",
       "      <th>model_name</th>\n",
       "      <th>os</th>\n",
       "      <th>popularity</th>\n",
       "      <th>best_price</th>\n",
       "      <th>lowest_price</th>\n",
       "      <th>highest_price</th>\n",
       "      <th>sellers_amount</th>\n",
       "      <th>screen_size</th>\n",
       "      <th>memory_size</th>\n",
       "      <th>battery_size</th>\n",
       "      <th>release_date</th>\n",
       "    </tr>\n",
       "  </thead>\n",
       "  <tbody>\n",
       "    <tr>\n",
       "      <th>0</th>\n",
       "      <td>0</td>\n",
       "      <td>ALCATEL</td>\n",
       "      <td>1 1/8GB Bluish Black (5033D-2JALUAA)</td>\n",
       "      <td>Android</td>\n",
       "      <td>422</td>\n",
       "      <td>1690.0</td>\n",
       "      <td>1529.0</td>\n",
       "      <td>1819.0</td>\n",
       "      <td>36</td>\n",
       "      <td>5.00</td>\n",
       "      <td>8.0</td>\n",
       "      <td>2000.0</td>\n",
       "      <td>10-2020</td>\n",
       "    </tr>\n",
       "    <tr>\n",
       "      <th>1</th>\n",
       "      <td>1</td>\n",
       "      <td>ALCATEL</td>\n",
       "      <td>1 5033D 1/16GB Volcano Black (5033D-2LALUAF)</td>\n",
       "      <td>Android</td>\n",
       "      <td>323</td>\n",
       "      <td>1803.0</td>\n",
       "      <td>1659.0</td>\n",
       "      <td>2489.0</td>\n",
       "      <td>36</td>\n",
       "      <td>5.00</td>\n",
       "      <td>16.0</td>\n",
       "      <td>2000.0</td>\n",
       "      <td>9-2020</td>\n",
       "    </tr>\n",
       "    <tr>\n",
       "      <th>2</th>\n",
       "      <td>2</td>\n",
       "      <td>ALCATEL</td>\n",
       "      <td>1 5033D 1/16GB Volcano Black (5033D-2LALUAF)</td>\n",
       "      <td>Android</td>\n",
       "      <td>299</td>\n",
       "      <td>1803.0</td>\n",
       "      <td>1659.0</td>\n",
       "      <td>2489.0</td>\n",
       "      <td>36</td>\n",
       "      <td>5.00</td>\n",
       "      <td>16.0</td>\n",
       "      <td>2000.0</td>\n",
       "      <td>9-2020</td>\n",
       "    </tr>\n",
       "    <tr>\n",
       "      <th>3</th>\n",
       "      <td>3</td>\n",
       "      <td>ALCATEL</td>\n",
       "      <td>1 5033D 1/16GB Volcano Black (5033D-2LALUAF)</td>\n",
       "      <td>Android</td>\n",
       "      <td>287</td>\n",
       "      <td>1803.0</td>\n",
       "      <td>1659.0</td>\n",
       "      <td>2489.0</td>\n",
       "      <td>36</td>\n",
       "      <td>5.00</td>\n",
       "      <td>16.0</td>\n",
       "      <td>2000.0</td>\n",
       "      <td>9-2020</td>\n",
       "    </tr>\n",
       "    <tr>\n",
       "      <th>4</th>\n",
       "      <td>4</td>\n",
       "      <td>Nokia</td>\n",
       "      <td>1.3 1/16GB Charcoal</td>\n",
       "      <td>Android</td>\n",
       "      <td>1047</td>\n",
       "      <td>1999.0</td>\n",
       "      <td>NaN</td>\n",
       "      <td>NaN</td>\n",
       "      <td>10</td>\n",
       "      <td>5.71</td>\n",
       "      <td>16.0</td>\n",
       "      <td>3000.0</td>\n",
       "      <td>4-2020</td>\n",
       "    </tr>\n",
       "    <tr>\n",
       "      <th>5</th>\n",
       "      <td>5</td>\n",
       "      <td>Honor</td>\n",
       "      <td>10 6/64GB Black</td>\n",
       "      <td>Android</td>\n",
       "      <td>71</td>\n",
       "      <td>10865.0</td>\n",
       "      <td>10631.0</td>\n",
       "      <td>11099.0</td>\n",
       "      <td>2</td>\n",
       "      <td>5.80</td>\n",
       "      <td>64.0</td>\n",
       "      <td>3400.0</td>\n",
       "      <td>6-2018</td>\n",
       "    </tr>\n",
       "    <tr>\n",
       "      <th>6</th>\n",
       "      <td>6</td>\n",
       "      <td>Honor</td>\n",
       "      <td>10 Lite 3/32GB Blue</td>\n",
       "      <td>Android</td>\n",
       "      <td>424</td>\n",
       "      <td>3999.0</td>\n",
       "      <td>NaN</td>\n",
       "      <td>NaN</td>\n",
       "      <td>2</td>\n",
       "      <td>6.21</td>\n",
       "      <td>32.0</td>\n",
       "      <td>3400.0</td>\n",
       "      <td>12-2018</td>\n",
       "    </tr>\n",
       "    <tr>\n",
       "      <th>7</th>\n",
       "      <td>7</td>\n",
       "      <td>Honor</td>\n",
       "      <td>10 Lite 4/64GB Black</td>\n",
       "      <td>Android</td>\n",
       "      <td>134</td>\n",
       "      <td>4973.0</td>\n",
       "      <td>4733.0</td>\n",
       "      <td>5295.0</td>\n",
       "      <td>6</td>\n",
       "      <td>6.21</td>\n",
       "      <td>64.0</td>\n",
       "      <td>3400.0</td>\n",
       "      <td>1-2019</td>\n",
       "    </tr>\n",
       "    <tr>\n",
       "      <th>8</th>\n",
       "      <td>8</td>\n",
       "      <td>Honor</td>\n",
       "      <td>10 lite 3/128GB Blue</td>\n",
       "      <td>Android</td>\n",
       "      <td>477</td>\n",
       "      <td>5100.0</td>\n",
       "      <td>4990.0</td>\n",
       "      <td>5222.0</td>\n",
       "      <td>3</td>\n",
       "      <td>6.21</td>\n",
       "      <td>128.0</td>\n",
       "      <td>3400.0</td>\n",
       "      <td>1-2021</td>\n",
       "    </tr>\n",
       "    <tr>\n",
       "      <th>9</th>\n",
       "      <td>9</td>\n",
       "      <td>Honor</td>\n",
       "      <td>10 lite 3/64GB Black</td>\n",
       "      <td>Android</td>\n",
       "      <td>215</td>\n",
       "      <td>4948.0</td>\n",
       "      <td>4646.0</td>\n",
       "      <td>5372.0</td>\n",
       "      <td>8</td>\n",
       "      <td>6.21</td>\n",
       "      <td>64.0</td>\n",
       "      <td>3400.0</td>\n",
       "      <td>12-2018</td>\n",
       "    </tr>\n",
       "  </tbody>\n",
       "</table>\n",
       "</div>"
      ],
      "text/plain": [
       "   Unnamed: 0 brand_name                                    model_name  \\\n",
       "0           0    ALCATEL          1 1/8GB Bluish Black (5033D-2JALUAA)   \n",
       "1           1    ALCATEL  1 5033D 1/16GB Volcano Black (5033D-2LALUAF)   \n",
       "2           2    ALCATEL  1 5033D 1/16GB Volcano Black (5033D-2LALUAF)   \n",
       "3           3    ALCATEL  1 5033D 1/16GB Volcano Black (5033D-2LALUAF)   \n",
       "4           4      Nokia                           1.3 1/16GB Charcoal   \n",
       "5           5      Honor                               10 6/64GB Black   \n",
       "6           6      Honor                           10 Lite 3/32GB Blue   \n",
       "7           7      Honor                          10 Lite 4/64GB Black   \n",
       "8           8      Honor                          10 lite 3/128GB Blue   \n",
       "9           9      Honor                          10 lite 3/64GB Black   \n",
       "\n",
       "        os  popularity  best_price  lowest_price  highest_price  \\\n",
       "0  Android         422      1690.0        1529.0         1819.0   \n",
       "1  Android         323      1803.0        1659.0         2489.0   \n",
       "2  Android         299      1803.0        1659.0         2489.0   \n",
       "3  Android         287      1803.0        1659.0         2489.0   \n",
       "4  Android        1047      1999.0           NaN            NaN   \n",
       "5  Android          71     10865.0       10631.0        11099.0   \n",
       "6  Android         424      3999.0           NaN            NaN   \n",
       "7  Android         134      4973.0        4733.0         5295.0   \n",
       "8  Android         477      5100.0        4990.0         5222.0   \n",
       "9  Android         215      4948.0        4646.0         5372.0   \n",
       "\n",
       "   sellers_amount  screen_size  memory_size  battery_size release_date  \n",
       "0              36         5.00          8.0        2000.0      10-2020  \n",
       "1              36         5.00         16.0        2000.0       9-2020  \n",
       "2              36         5.00         16.0        2000.0       9-2020  \n",
       "3              36         5.00         16.0        2000.0       9-2020  \n",
       "4              10         5.71         16.0        3000.0       4-2020  \n",
       "5               2         5.80         64.0        3400.0       6-2018  \n",
       "6               2         6.21         32.0        3400.0      12-2018  \n",
       "7               6         6.21         64.0        3400.0       1-2019  \n",
       "8               3         6.21        128.0        3400.0       1-2021  \n",
       "9               8         6.21         64.0        3400.0      12-2018  "
      ]
     },
     "execution_count": 4,
     "metadata": {},
     "output_type": "execute_result"
    }
   ],
   "source": [
    "data.head(10)"
   ]
  },
  {
   "cell_type": "code",
   "execution_count": 5,
   "id": "1410d28f",
   "metadata": {
    "execution": {
     "iopub.execute_input": "2022-05-17T10:24:37.784895Z",
     "iopub.status.busy": "2022-05-17T10:24:37.784621Z",
     "iopub.status.idle": "2022-05-17T10:24:37.790097Z",
     "shell.execute_reply": "2022-05-17T10:24:37.789386Z"
    },
    "papermill": {
     "duration": 0.049334,
     "end_time": "2022-05-17T10:24:37.792015",
     "exception": false,
     "start_time": "2022-05-17T10:24:37.742681",
     "status": "completed"
    },
    "tags": []
   },
   "outputs": [
    {
     "data": {
      "text/plain": [
       "(1224, 13)"
      ]
     },
     "execution_count": 5,
     "metadata": {},
     "output_type": "execute_result"
    }
   ],
   "source": [
    "data.shape"
   ]
  },
  {
   "cell_type": "markdown",
   "id": "5a5646dc",
   "metadata": {
    "papermill": {
     "duration": 0.041261,
     "end_time": "2022-05-17T10:24:37.873663",
     "exception": false,
     "start_time": "2022-05-17T10:24:37.832402",
     "status": "completed"
    },
    "tags": []
   },
   "source": [
    "# data cleaning and EDA"
   ]
  },
  {
   "cell_type": "code",
   "execution_count": 6,
   "id": "d5617e81",
   "metadata": {
    "execution": {
     "iopub.execute_input": "2022-05-17T10:24:37.956453Z",
     "iopub.status.busy": "2022-05-17T10:24:37.956102Z",
     "iopub.status.idle": "2022-05-17T10:24:37.966701Z",
     "shell.execute_reply": "2022-05-17T10:24:37.966015Z"
    },
    "papermill": {
     "duration": 0.054434,
     "end_time": "2022-05-17T10:24:37.968650",
     "exception": false,
     "start_time": "2022-05-17T10:24:37.914216",
     "status": "completed"
    },
    "tags": []
   },
   "outputs": [
    {
     "data": {
      "text/plain": [
       "Unnamed: 0          0\n",
       "brand_name          0\n",
       "model_name          0\n",
       "os                197\n",
       "popularity          0\n",
       "best_price          0\n",
       "lowest_price      260\n",
       "highest_price     260\n",
       "sellers_amount      0\n",
       "screen_size         2\n",
       "memory_size       112\n",
       "battery_size       10\n",
       "release_date        0\n",
       "dtype: int64"
      ]
     },
     "execution_count": 6,
     "metadata": {},
     "output_type": "execute_result"
    }
   ],
   "source": [
    "data.isna().sum()"
   ]
  },
  {
   "cell_type": "code",
   "execution_count": 7,
   "id": "a092b499",
   "metadata": {
    "execution": {
     "iopub.execute_input": "2022-05-17T10:24:38.056666Z",
     "iopub.status.busy": "2022-05-17T10:24:38.055701Z",
     "iopub.status.idle": "2022-05-17T10:24:39.483800Z",
     "shell.execute_reply": "2022-05-17T10:24:39.483013Z"
    },
    "papermill": {
     "duration": 1.476629,
     "end_time": "2022-05-17T10:24:39.486440",
     "exception": false,
     "start_time": "2022-05-17T10:24:38.009811",
     "status": "completed"
    },
    "tags": []
   },
   "outputs": [
    {
     "data": {
      "text/plain": [
       "<AxesSubplot:xlabel='os', ylabel='count'>"
      ]
     },
     "execution_count": 7,
     "metadata": {},
     "output_type": "execute_result"
    },
    {
     "data": {
      "image/png": "[encoded data removed]",
      "text/plain": [
       "<Figure size 432x288 with 1 Axes>"
      ]
     },
     "metadata": {
      "needs_background": "light"
     },
     "output_type": "display_data"
    }
   ],
   "source": [
    "import seaborn as sns\n",
    "sns.countplot(data = data, x='os')"
   ]
  },
  {
   "cell_type": "code",
   "execution_count": 8,
   "id": "9db4df90",
   "metadata": {
    "execution": {
     "iopub.execute_input": "2022-05-17T10:24:39.574871Z",
     "iopub.status.busy": "2022-05-17T10:24:39.573615Z",
     "iopub.status.idle": "2022-05-17T10:24:39.580455Z",
     "shell.execute_reply": "2022-05-17T10:24:39.579702Z"
    },
    "papermill": {
     "duration": 0.053834,
     "end_time": "2022-05-17T10:24:39.582989",
     "exception": false,
     "start_time": "2022-05-17T10:24:39.529155",
     "status": "completed"
    },
    "tags": []
   },
   "outputs": [],
   "source": [
    "data['os'].fillna('Android', inplace=True)\n"
   ]
  },
  {
   "cell_type": "code",
   "execution_count": 9,
   "id": "4eedd8a2",
   "metadata": {
    "execution": {
     "iopub.execute_input": "2022-05-17T10:24:39.670569Z",
     "iopub.status.busy": "2022-05-17T10:24:39.670213Z",
     "iopub.status.idle": "2022-05-17T10:24:40.023116Z",
     "shell.execute_reply": "2022-05-17T10:24:40.021733Z"
    },
    "papermill": {
     "duration": 0.399986,
     "end_time": "2022-05-17T10:24:40.025719",
     "exception": false,
     "start_time": "2022-05-17T10:24:39.625733",
     "status": "completed"
    },
    "tags": []
   },
   "outputs": [
    {
     "data": {
      "text/plain": [
       "<AxesSubplot:xlabel='battery_size', ylabel='Count'>"
      ]
     },
     "execution_count": 9,
     "metadata": {},
     "output_type": "execute_result"
    },
    {
     "data": {
      "image/png": "[encoded data removed]",
      "text/plain": [
       "<Figure size 432x288 with 1 Axes>"
      ]
     },
     "metadata": {
      "needs_background": "light"
     },
     "output_type": "display_data"
    }
   ],
   "source": [
    "sns.histplot(data = data, x='battery_size')"
   ]
  },
  {
   "cell_type": "code",
   "execution_count": 10,
   "id": "e92c4b60",
   "metadata": {
    "execution": {
     "iopub.execute_input": "2022-05-17T10:24:40.119772Z",
     "iopub.status.busy": "2022-05-17T10:24:40.119463Z",
     "iopub.status.idle": "2022-05-17T10:24:40.729634Z",
     "shell.execute_reply": "2022-05-17T10:24:40.728791Z"
    },
    "papermill": {
     "duration": 0.659655,
     "end_time": "2022-05-17T10:24:40.732256",
     "exception": false,
     "start_time": "2022-05-17T10:24:40.072601",
     "status": "completed"
    },
    "tags": []
   },
   "outputs": [
    {
     "data": {
      "text/plain": [
       "<AxesSubplot:title={'center':'HIGHEST PRICE'}, xlabel='highest_price', ylabel='Count'>"
      ]
     },
     "execution_count": 10,
     "metadata": {},
     "output_type": "execute_result"
    },
    {
     "data": {
      "image/png": "[encoded data removed]",
      "text/plain": [
       "<Figure size 1440x504 with 1 Axes>"
      ]
     },
     "metadata": {
      "needs_background": "light"
     },
     "output_type": "display_data"
    },
    {
     "data": {
      "image/png": "[encoded data removed]",
      "text/plain": [
       "<Figure size 1440x504 with 1 Axes>"
      ]
     },
     "metadata": {
      "needs_background": "light"
     },
     "output_type": "display_data"
    }
   ],
   "source": [
    "\n",
    "import matplotlib.pyplot as plt\n",
    "plt.figure(figsize=(20,7))\n",
    "plt.title('LOWEST PRICE')\n",
    "sns.histplot(data = data, x = 'lowest_price')\n",
    "\n",
    "plt.figure(figsize=(20,7))\n",
    "plt.title('HIGHEST PRICE')\n",
    "sns.histplot(data = data, x = 'highest_price')"
   ]
  },
  {
   "cell_type": "code",
   "execution_count": 11,
   "id": "400e9937",
   "metadata": {
    "execution": {
     "iopub.execute_input": "2022-05-17T10:24:40.829350Z",
     "iopub.status.busy": "2022-05-17T10:24:40.828574Z",
     "iopub.status.idle": "2022-05-17T10:24:40.835578Z",
     "shell.execute_reply": "2022-05-17T10:24:40.834719Z"
    },
    "papermill": {
     "duration": 0.057829,
     "end_time": "2022-05-17T10:24:40.837574",
     "exception": false,
     "start_time": "2022-05-17T10:24:40.779745",
     "status": "completed"
    },
    "tags": []
   },
   "outputs": [
    {
     "data": {
      "text/plain": [
       "82"
      ]
     },
     "execution_count": 11,
     "metadata": {},
     "output_type": "execute_result"
    }
   ],
   "source": [
    "data.screen_size.nunique()"
   ]
  },
  {
   "cell_type": "code",
   "execution_count": 12,
   "id": "6f985825",
   "metadata": {
    "execution": {
     "iopub.execute_input": "2022-05-17T10:24:40.931512Z",
     "iopub.status.busy": "2022-05-17T10:24:40.930950Z",
     "iopub.status.idle": "2022-05-17T10:24:41.151060Z",
     "shell.execute_reply": "2022-05-17T10:24:41.150155Z"
    },
    "papermill": {
     "duration": 0.269475,
     "end_time": "2022-05-17T10:24:41.153239",
     "exception": false,
     "start_time": "2022-05-17T10:24:40.883764",
     "status": "completed"
    },
    "tags": []
   },
   "outputs": [
    {
     "data": {
      "text/plain": [
       "<AxesSubplot:ylabel='Frequency'>"
      ]
     },
     "execution_count": 12,
     "metadata": {},
     "output_type": "execute_result"
    },
    {
     "data": {
      "image/png": "[encoded data removed]",
      "text/plain": [
       "<Figure size 432x288 with 1 Axes>"
      ]
     },
     "metadata": {
      "needs_background": "light"
     },
     "output_type": "display_data"
    }
   ],
   "source": [
    "data.screen_size.plot(kind='hist')"
   ]
  },
  {
   "cell_type": "markdown",
   "id": "c8f29dd5",
   "metadata": {
    "papermill": {
     "duration": 0.046374,
     "end_time": "2022-05-17T10:24:41.245976",
     "exception": false,
     "start_time": "2022-05-17T10:24:41.199602",
     "status": "completed"
    },
    "tags": []
   },
   "source": [
    "*replace all numerical missing values with the median*"
   ]
  },
  {
   "cell_type": "code",
   "execution_count": 13,
   "id": "4d1e83dd",
   "metadata": {
    "execution": {
     "iopub.execute_input": "2022-05-17T10:24:41.349720Z",
     "iopub.status.busy": "2022-05-17T10:24:41.348750Z",
     "iopub.status.idle": "2022-05-17T10:24:41.709807Z",
     "shell.execute_reply": "2022-05-17T10:24:41.708452Z"
    },
    "papermill": {
     "duration": 0.416779,
     "end_time": "2022-05-17T10:24:41.713614",
     "exception": false,
     "start_time": "2022-05-17T10:24:41.296835",
     "status": "completed"
    },
    "tags": []
   },
   "outputs": [],
   "source": [
    "from sklearn.impute import SimpleImputer\n",
    "imp_median = SimpleImputer(strategy='median')\n",
    "data[['battery_size','lowest_price', 'highest_price','screen_size']] = imp_median.fit_transform(data[['battery_size','lowest_price', 'highest_price','screen_size']])"
   ]
  },
  {
   "cell_type": "code",
   "execution_count": 14,
   "id": "085008d2",
   "metadata": {
    "execution": {
     "iopub.execute_input": "2022-05-17T10:24:41.813378Z",
     "iopub.status.busy": "2022-05-17T10:24:41.813062Z",
     "iopub.status.idle": "2022-05-17T10:24:41.824659Z",
     "shell.execute_reply": "2022-05-17T10:24:41.823308Z"
    },
    "papermill": {
     "duration": 0.065046,
     "end_time": "2022-05-17T10:24:41.827252",
     "exception": false,
     "start_time": "2022-05-17T10:24:41.762206",
     "status": "completed"
    },
    "tags": []
   },
   "outputs": [
    {
     "data": {
      "text/plain": [
       "Unnamed: 0          0\n",
       "brand_name          0\n",
       "model_name          0\n",
       "os                  0\n",
       "popularity          0\n",
       "best_price          0\n",
       "lowest_price        0\n",
       "highest_price       0\n",
       "sellers_amount      0\n",
       "screen_size         0\n",
       "memory_size       112\n",
       "battery_size        0\n",
       "release_date        0\n",
       "dtype: int64"
      ]
     },
     "execution_count": 14,
     "metadata": {},
     "output_type": "execute_result"
    }
   ],
   "source": [
    "data.isna().sum()"
   ]
  },
  {
   "cell_type": "code",
   "execution_count": 15,
   "id": "5ae1da06",
   "metadata": {
    "execution": {
     "iopub.execute_input": "2022-05-17T10:24:41.930348Z",
     "iopub.status.busy": "2022-05-17T10:24:41.930005Z",
     "iopub.status.idle": "2022-05-17T10:24:41.938461Z",
     "shell.execute_reply": "2022-05-17T10:24:41.937403Z"
    },
    "papermill": {
     "duration": 0.062832,
     "end_time": "2022-05-17T10:24:41.940868",
     "exception": false,
     "start_time": "2022-05-17T10:24:41.878036",
     "status": "completed"
    },
    "tags": []
   },
   "outputs": [
    {
     "data": {
      "text/plain": [
       "15"
      ]
     },
     "execution_count": 15,
     "metadata": {},
     "output_type": "execute_result"
    }
   ],
   "source": [
    "data.memory_size.nunique()"
   ]
  },
  {
   "cell_type": "code",
   "execution_count": 16,
   "id": "699518e6",
   "metadata": {
    "execution": {
     "iopub.execute_input": "2022-05-17T10:24:42.044953Z",
     "iopub.status.busy": "2022-05-17T10:24:42.044194Z",
     "iopub.status.idle": "2022-05-17T10:24:42.306058Z",
     "shell.execute_reply": "2022-05-17T10:24:42.305120Z"
    },
    "papermill": {
     "duration": 0.3182,
     "end_time": "2022-05-17T10:24:42.308355",
     "exception": false,
     "start_time": "2022-05-17T10:24:41.990155",
     "status": "completed"
    },
    "tags": []
   },
   "outputs": [
    {
     "data": {
      "text/plain": [
       "<AxesSubplot:xlabel='memory_size', ylabel='count'>"
      ]
     },
     "execution_count": 16,
     "metadata": {},
     "output_type": "execute_result"
    },
    {
     "data": {
      "image/png": "[encoded data removed]",
      "text/plain": [
       "<Figure size 432x288 with 1 Axes>"
      ]
     },
     "metadata": {
      "needs_background": "light"
     },
     "output_type": "display_data"
    }
   ],
   "source": [
    "sns.countplot(data = data, x = 'memory_size')"
   ]
  },
  {
   "cell_type": "code",
   "execution_count": 17,
   "id": "973932ec",
   "metadata": {
    "execution": {
     "iopub.execute_input": "2022-05-17T10:24:42.410130Z",
     "iopub.status.busy": "2022-05-17T10:24:42.409779Z",
     "iopub.status.idle": "2022-05-17T10:24:42.419065Z",
     "shell.execute_reply": "2022-05-17T10:24:42.418415Z"
    },
    "papermill": {
     "duration": 0.063082,
     "end_time": "2022-05-17T10:24:42.420983",
     "exception": false,
     "start_time": "2022-05-17T10:24:42.357901",
     "status": "completed"
    },
    "tags": []
   },
   "outputs": [],
   "source": [
    "data['memory_size'] = imp_median.fit_transform(data[['memory_size']])"
   ]
  },
  {
   "cell_type": "markdown",
   "id": "13cc4082",
   "metadata": {
    "papermill": {
     "duration": 0.048736,
     "end_time": "2022-05-17T10:24:42.519515",
     "exception": false,
     "start_time": "2022-05-17T10:24:42.470779",
     "status": "completed"
    },
    "tags": []
   },
   "source": [
    "# data preprocessing"
   ]
  },
  {
   "cell_type": "code",
   "execution_count": 18,
   "id": "74a0996b",
   "metadata": {
    "execution": {
     "iopub.execute_input": "2022-05-17T10:24:42.621182Z",
     "iopub.status.busy": "2022-05-17T10:24:42.620599Z",
     "iopub.status.idle": "2022-05-17T10:24:42.625833Z",
     "shell.execute_reply": "2022-05-17T10:24:42.625022Z"
    },
    "papermill": {
     "duration": 0.058206,
     "end_time": "2022-05-17T10:24:42.628004",
     "exception": false,
     "start_time": "2022-05-17T10:24:42.569798",
     "status": "completed"
    },
    "tags": []
   },
   "outputs": [],
   "source": [
    "from sklearn.preprocessing import StandardScaler\n",
    "data.drop(columns=['Unnamed: 0'],inplace=True)\n"
   ]
  },
  {
   "cell_type": "code",
   "execution_count": 19,
   "id": "d0852c4c",
   "metadata": {
    "execution": {
     "iopub.execute_input": "2022-05-17T10:24:42.727801Z",
     "iopub.status.busy": "2022-05-17T10:24:42.727193Z",
     "iopub.status.idle": "2022-05-17T10:24:42.737523Z",
     "shell.execute_reply": "2022-05-17T10:24:42.736788Z"
    },
    "papermill": {
     "duration": 0.062471,
     "end_time": "2022-05-17T10:24:42.739550",
     "exception": false,
     "start_time": "2022-05-17T10:24:42.677079",
     "status": "completed"
    },
    "tags": []
   },
   "outputs": [
    {
     "name": "stdout",
     "output_type": "stream",
     "text": [
      "CATEGORICAL FEATURES\n",
      "['brand_name' 'model_name' 'os' 'release_date']\n",
      "\n",
      "NUMERICAL FEATURES\n",
      "['popularity' 'best_price' 'lowest_price' 'highest_price' 'sellers_amount'\n",
      " 'screen_size' 'memory_size' 'battery_size']\n"
     ]
    }
   ],
   "source": [
    "num_feats = data.select_dtypes(include='number').columns.values\n",
    "cat_feats = data.select_dtypes(exclude='number').columns.values\n",
    "\n",
    "print('CATEGORICAL FEATURES')\n",
    "print(cat_feats)\n",
    "print()\n",
    "print('NUMERICAL FEATURES')\n",
    "print(num_feats)"
   ]
  },
  {
   "cell_type": "code",
   "execution_count": 20,
   "id": "5e5e53f3",
   "metadata": {
    "execution": {
     "iopub.execute_input": "2022-05-17T10:24:42.839719Z",
     "iopub.status.busy": "2022-05-17T10:24:42.838879Z",
     "iopub.status.idle": "2022-05-17T10:24:42.847570Z",
     "shell.execute_reply": "2022-05-17T10:24:42.846109Z"
    },
    "papermill": {
     "duration": 0.061379,
     "end_time": "2022-05-17T10:24:42.849904",
     "exception": false,
     "start_time": "2022-05-17T10:24:42.788525",
     "status": "completed"
    },
    "tags": []
   },
   "outputs": [
    {
     "name": "stdout",
     "output_type": "stream",
     "text": [
      "Amount of Unique brand_name is 64\n",
      "Amount of Unique model_name is 1068\n",
      "Amount of Unique os is 6\n",
      "Amount of Unique release_date is 73\n"
     ]
    }
   ],
   "source": [
    "for col in cat_feats:\n",
    "    print(f'Amount of Unique {col} is', data[col].nunique())"
   ]
  },
  {
   "cell_type": "code",
   "execution_count": 21,
   "id": "aca2cda2",
   "metadata": {
    "execution": {
     "iopub.execute_input": "2022-05-17T10:24:42.952249Z",
     "iopub.status.busy": "2022-05-17T10:24:42.951724Z",
     "iopub.status.idle": "2022-05-17T10:24:43.106958Z",
     "shell.execute_reply": "2022-05-17T10:24:43.106223Z"
    },
    "papermill": {
     "duration": 0.209177,
     "end_time": "2022-05-17T10:24:43.109092",
     "exception": false,
     "start_time": "2022-05-17T10:24:42.899915",
     "status": "completed"
    },
    "tags": []
   },
   "outputs": [],
   "source": [
    "data[['Month','Year']] = data.release_date.str.split('-',expand=True)"
   ]
  },
  {
   "cell_type": "code",
   "execution_count": 22,
   "id": "df585cc6",
   "metadata": {
    "execution": {
     "iopub.execute_input": "2022-05-17T10:24:43.211477Z",
     "iopub.status.busy": "2022-05-17T10:24:43.210730Z",
     "iopub.status.idle": "2022-05-17T10:24:43.216488Z",
     "shell.execute_reply": "2022-05-17T10:24:43.215859Z"
    },
    "papermill": {
     "duration": 0.058442,
     "end_time": "2022-05-17T10:24:43.218418",
     "exception": false,
     "start_time": "2022-05-17T10:24:43.159976",
     "status": "completed"
    },
    "tags": []
   },
   "outputs": [],
   "source": [
    "# a little feature engineering\n",
    "data['average_price'] = (data['lowest_price'] + data['highest_price']) /2\n"
   ]
  },
  {
   "cell_type": "code",
   "execution_count": 23,
   "id": "cee3088b",
   "metadata": {
    "execution": {
     "iopub.execute_input": "2022-05-17T10:24:43.319684Z",
     "iopub.status.busy": "2022-05-17T10:24:43.318670Z",
     "iopub.status.idle": "2022-05-17T10:24:43.502583Z",
     "shell.execute_reply": "2022-05-17T10:24:43.501392Z"
    },
    "papermill": {
     "duration": 0.237437,
     "end_time": "2022-05-17T10:24:43.505166",
     "exception": false,
     "start_time": "2022-05-17T10:24:43.267729",
     "status": "completed"
    },
    "tags": []
   },
   "outputs": [
    {
     "data": {
      "text/plain": [
       "<AxesSubplot:xlabel='popularity', ylabel='sellers_amount'>"
      ]
     },
     "execution_count": 23,
     "metadata": {},
     "output_type": "execute_result"
    },
    {
     "data": {
      "image/png": "[encoded data removed]",
      "text/plain": [
       "<Figure size 432x288 with 1 Axes>"
      ]
     },
     "metadata": {
      "needs_background": "light"
     },
     "output_type": "display_data"
    }
   ],
   "source": [
    "sns.scatterplot(data = data, x = 'popularity', y = 'sellers_amount')"
   ]
  },
  {
   "cell_type": "code",
   "execution_count": 24,
   "id": "0c8a8ff7",
   "metadata": {
    "execution": {
     "iopub.execute_input": "2022-05-17T10:24:43.609869Z",
     "iopub.status.busy": "2022-05-17T10:24:43.609586Z",
     "iopub.status.idle": "2022-05-17T10:24:43.620039Z",
     "shell.execute_reply": "2022-05-17T10:24:43.618839Z"
    },
    "papermill": {
     "duration": 0.065772,
     "end_time": "2022-05-17T10:24:43.622278",
     "exception": false,
     "start_time": "2022-05-17T10:24:43.556506",
     "status": "completed"
    },
    "tags": []
   },
   "outputs": [
    {
     "data": {
      "text/plain": [
       "popularity        0.352679\n",
       "best_price        0.953645\n",
       "lowest_price      0.989788\n",
       "highest_price     0.994394\n",
       "sellers_amount    0.331100\n",
       "screen_size       0.417487\n",
       "memory_size       0.673452\n",
       "battery_size      0.152774\n",
       "average_price     1.000000\n",
       "Name: average_price, dtype: float64"
      ]
     },
     "execution_count": 24,
     "metadata": {},
     "output_type": "execute_result"
    }
   ],
   "source": [
    "data_corr = data.corr()\n",
    "data_corr['average_price']"
   ]
  },
  {
   "cell_type": "code",
   "execution_count": 25,
   "id": "fa4ff07c",
   "metadata": {
    "execution": {
     "iopub.execute_input": "2022-05-17T10:24:43.728341Z",
     "iopub.status.busy": "2022-05-17T10:24:43.728068Z",
     "iopub.status.idle": "2022-05-17T10:24:43.732639Z",
     "shell.execute_reply": "2022-05-17T10:24:43.731650Z"
    },
    "papermill": {
     "duration": 0.060955,
     "end_time": "2022-05-17T10:24:43.735413",
     "exception": false,
     "start_time": "2022-05-17T10:24:43.674458",
     "status": "completed"
    },
    "tags": []
   },
   "outputs": [],
   "source": [
    "num_feats = num_feats.tolist()"
   ]
  },
  {
   "cell_type": "code",
   "execution_count": 26,
   "id": "47011ee4",
   "metadata": {
    "execution": {
     "iopub.execute_input": "2022-05-17T10:24:43.843637Z",
     "iopub.status.busy": "2022-05-17T10:24:43.843065Z",
     "iopub.status.idle": "2022-05-17T10:24:43.846938Z",
     "shell.execute_reply": "2022-05-17T10:24:43.846341Z"
    },
    "papermill": {
     "duration": 0.059805,
     "end_time": "2022-05-17T10:24:43.848773",
     "exception": false,
     "start_time": "2022-05-17T10:24:43.788968",
     "status": "completed"
    },
    "tags": []
   },
   "outputs": [],
   "source": [
    "num_feats.remove('best_price')"
   ]
  },
  {
   "cell_type": "code",
   "execution_count": 27,
   "id": "fb1f8f49",
   "metadata": {
    "execution": {
     "iopub.execute_input": "2022-05-17T10:24:43.958009Z",
     "iopub.status.busy": "2022-05-17T10:24:43.957118Z",
     "iopub.status.idle": "2022-05-17T10:24:43.968455Z",
     "shell.execute_reply": "2022-05-17T10:24:43.967585Z"
    },
    "papermill": {
     "duration": 0.06828,
     "end_time": "2022-05-17T10:24:43.971157",
     "exception": false,
     "start_time": "2022-05-17T10:24:43.902877",
     "status": "completed"
    },
    "tags": []
   },
   "outputs": [],
   "source": [
    "from sklearn.preprocessing import LabelEncoder\n",
    "le  = LabelEncoder()\n",
    "scaler = StandardScaler()\n",
    "data[num_feats] = scaler.fit_transform(data[num_feats])"
   ]
  },
  {
   "cell_type": "code",
   "execution_count": 28,
   "id": "fc643869",
   "metadata": {
    "execution": {
     "iopub.execute_input": "2022-05-17T10:24:44.081559Z",
     "iopub.status.busy": "2022-05-17T10:24:44.081187Z",
     "iopub.status.idle": "2022-05-17T10:24:44.095031Z",
     "shell.execute_reply": "2022-05-17T10:24:44.094107Z"
    },
    "papermill": {
     "duration": 0.071272,
     "end_time": "2022-05-17T10:24:44.097628",
     "exception": false,
     "start_time": "2022-05-17T10:24:44.026356",
     "status": "completed"
    },
    "tags": []
   },
   "outputs": [],
   "source": [
    "for col in cat_feats:\n",
    "    data[col] = data[col].astype('category')\n",
    "    data[col] = data[col].cat.codes"
   ]
  },
  {
   "cell_type": "code",
   "execution_count": 29,
   "id": "ca00d80f",
   "metadata": {
    "execution": {
     "iopub.execute_input": "2022-05-17T10:24:44.207470Z",
     "iopub.status.busy": "2022-05-17T10:24:44.207158Z",
     "iopub.status.idle": "2022-05-17T10:24:44.228972Z",
     "shell.execute_reply": "2022-05-17T10:24:44.228265Z"
    },
    "papermill": {
     "duration": 0.080447,
     "end_time": "2022-05-17T10:24:44.231599",
     "exception": false,
     "start_time": "2022-05-17T10:24:44.151152",
     "status": "completed"
    },
    "tags": []
   },
   "outputs": [
    {
     "data": {
      "text/html": [
       "<div>\n",
       "<style scoped>\n",
       "    .dataframe tbody tr th:only-of-type {\n",
       "        vertical-align: middle;\n",
       "    }\n",
       "\n",
       "    .dataframe tbody tr th {\n",
       "        vertical-align: top;\n",
       "    }\n",
       "\n",
       "    .dataframe thead th {\n",
       "        text-align: right;\n",
       "    }\n",
       "</style>\n",
       "<table border=\"1\" class=\"dataframe\">\n",
       "  <thead>\n",
       "    <tr style=\"text-align: right;\">\n",
       "      <th></th>\n",
       "      <th>brand_name</th>\n",
       "      <th>model_name</th>\n",
       "      <th>os</th>\n",
       "      <th>popularity</th>\n",
       "      <th>best_price</th>\n",
       "      <th>lowest_price</th>\n",
       "      <th>highest_price</th>\n",
       "      <th>sellers_amount</th>\n",
       "      <th>screen_size</th>\n",
       "      <th>memory_size</th>\n",
       "      <th>battery_size</th>\n",
       "      <th>release_date</th>\n",
       "      <th>Month</th>\n",
       "      <th>Year</th>\n",
       "      <th>average_price</th>\n",
       "    </tr>\n",
       "  </thead>\n",
       "  <tbody>\n",
       "    <tr>\n",
       "      <th>0</th>\n",
       "      <td>2</td>\n",
       "      <td>0</td>\n",
       "      <td>0</td>\n",
       "      <td>-0.539143</td>\n",
       "      <td>1690.0</td>\n",
       "      <td>-0.716688</td>\n",
       "      <td>-0.683482</td>\n",
       "      <td>0.935301</td>\n",
       "      <td>-0.267976</td>\n",
       "      <td>-0.792354</td>\n",
       "      <td>-0.968734</td>\n",
       "      <td>12</td>\n",
       "      <td>10</td>\n",
       "      <td>2020</td>\n",
       "      <td>1674.00</td>\n",
       "    </tr>\n",
       "    <tr>\n",
       "      <th>1</th>\n",
       "      <td>2</td>\n",
       "      <td>1</td>\n",
       "      <td>0</td>\n",
       "      <td>-0.819328</td>\n",
       "      <td>1803.0</td>\n",
       "      <td>-0.699808</td>\n",
       "      <td>-0.618950</td>\n",
       "      <td>0.935301</td>\n",
       "      <td>-0.267976</td>\n",
       "      <td>-0.717603</td>\n",
       "      <td>-0.968734</td>\n",
       "      <td>72</td>\n",
       "      <td>9</td>\n",
       "      <td>2020</td>\n",
       "      <td>2074.00</td>\n",
       "    </tr>\n",
       "    <tr>\n",
       "      <th>2</th>\n",
       "      <td>2</td>\n",
       "      <td>1</td>\n",
       "      <td>0</td>\n",
       "      <td>-0.887252</td>\n",
       "      <td>1803.0</td>\n",
       "      <td>-0.699808</td>\n",
       "      <td>-0.618950</td>\n",
       "      <td>0.935301</td>\n",
       "      <td>-0.267976</td>\n",
       "      <td>-0.717603</td>\n",
       "      <td>-0.968734</td>\n",
       "      <td>72</td>\n",
       "      <td>9</td>\n",
       "      <td>2020</td>\n",
       "      <td>2074.00</td>\n",
       "    </tr>\n",
       "    <tr>\n",
       "      <th>3</th>\n",
       "      <td>2</td>\n",
       "      <td>1</td>\n",
       "      <td>0</td>\n",
       "      <td>-0.921214</td>\n",
       "      <td>1803.0</td>\n",
       "      <td>-0.699808</td>\n",
       "      <td>-0.618950</td>\n",
       "      <td>0.935301</td>\n",
       "      <td>-0.267976</td>\n",
       "      <td>-0.717603</td>\n",
       "      <td>-0.968734</td>\n",
       "      <td>72</td>\n",
       "      <td>9</td>\n",
       "      <td>2020</td>\n",
       "      <td>2074.00</td>\n",
       "    </tr>\n",
       "    <tr>\n",
       "      <th>4</th>\n",
       "      <td>38</td>\n",
       "      <td>2</td>\n",
       "      <td>0</td>\n",
       "      <td>1.229700</td>\n",
       "      <td>1999.0</td>\n",
       "      <td>-0.321312</td>\n",
       "      <td>-0.345749</td>\n",
       "      <td>-0.327534</td>\n",
       "      <td>0.213255</td>\n",
       "      <td>-0.717603</td>\n",
       "      <td>-0.366604</td>\n",
       "      <td>42</td>\n",
       "      <td>4</td>\n",
       "      <td>2020</td>\n",
       "      <td>4949.75</td>\n",
       "    </tr>\n",
       "    <tr>\n",
       "      <th>5</th>\n",
       "      <td>25</td>\n",
       "      <td>3</td>\n",
       "      <td>0</td>\n",
       "      <td>-1.532526</td>\n",
       "      <td>10865.0</td>\n",
       "      <td>0.465155</td>\n",
       "      <td>0.210333</td>\n",
       "      <td>-0.716099</td>\n",
       "      <td>0.274256</td>\n",
       "      <td>-0.269098</td>\n",
       "      <td>-0.125752</td>\n",
       "      <td>50</td>\n",
       "      <td>6</td>\n",
       "      <td>2018</td>\n",
       "      <td>10865.00</td>\n",
       "    </tr>\n",
       "    <tr>\n",
       "      <th>6</th>\n",
       "      <td>25</td>\n",
       "      <td>4</td>\n",
       "      <td>0</td>\n",
       "      <td>-0.533483</td>\n",
       "      <td>3999.0</td>\n",
       "      <td>-0.321312</td>\n",
       "      <td>-0.345749</td>\n",
       "      <td>-0.716099</td>\n",
       "      <td>0.552150</td>\n",
       "      <td>-0.568101</td>\n",
       "      <td>-0.125752</td>\n",
       "      <td>22</td>\n",
       "      <td>12</td>\n",
       "      <td>2018</td>\n",
       "      <td>4949.75</td>\n",
       "    </tr>\n",
       "    <tr>\n",
       "      <th>7</th>\n",
       "      <td>25</td>\n",
       "      <td>5</td>\n",
       "      <td>0</td>\n",
       "      <td>-1.354226</td>\n",
       "      <td>4973.0</td>\n",
       "      <td>-0.300667</td>\n",
       "      <td>-0.348687</td>\n",
       "      <td>-0.521816</td>\n",
       "      <td>0.552150</td>\n",
       "      <td>-0.269098</td>\n",
       "      <td>-0.125752</td>\n",
       "      <td>4</td>\n",
       "      <td>1</td>\n",
       "      <td>2019</td>\n",
       "      <td>5014.00</td>\n",
       "    </tr>\n",
       "    <tr>\n",
       "      <th>8</th>\n",
       "      <td>25</td>\n",
       "      <td>6</td>\n",
       "      <td>0</td>\n",
       "      <td>-0.383485</td>\n",
       "      <td>5100.0</td>\n",
       "      <td>-0.267297</td>\n",
       "      <td>-0.355718</td>\n",
       "      <td>-0.667528</td>\n",
       "      <td>0.552150</td>\n",
       "      <td>0.328910</td>\n",
       "      <td>-0.125752</td>\n",
       "      <td>6</td>\n",
       "      <td>1</td>\n",
       "      <td>2021</td>\n",
       "      <td>5106.00</td>\n",
       "    </tr>\n",
       "    <tr>\n",
       "      <th>9</th>\n",
       "      <td>25</td>\n",
       "      <td>7</td>\n",
       "      <td>0</td>\n",
       "      <td>-1.124984</td>\n",
       "      <td>4948.0</td>\n",
       "      <td>-0.311963</td>\n",
       "      <td>-0.341270</td>\n",
       "      <td>-0.424675</td>\n",
       "      <td>0.552150</td>\n",
       "      <td>-0.269098</td>\n",
       "      <td>-0.125752</td>\n",
       "      <td>22</td>\n",
       "      <td>12</td>\n",
       "      <td>2018</td>\n",
       "      <td>5009.00</td>\n",
       "    </tr>\n",
       "  </tbody>\n",
       "</table>\n",
       "</div>"
      ],
      "text/plain": [
       "   brand_name  model_name  os  popularity  best_price  lowest_price  \\\n",
       "0           2           0   0   -0.539143      1690.0     -0.716688   \n",
       "1           2           1   0   -0.819328      1803.0     -0.699808   \n",
       "2           2           1   0   -0.887252      1803.0     -0.699808   \n",
       "3           2           1   0   -0.921214      1803.0     -0.699808   \n",
       "4          38           2   0    1.229700      1999.0     -0.321312   \n",
       "5          25           3   0   -1.532526     10865.0      0.465155   \n",
       "6          25           4   0   -0.533483      3999.0     -0.321312   \n",
       "7          25           5   0   -1.354226      4973.0     -0.300667   \n",
       "8          25           6   0   -0.383485      5100.0     -0.267297   \n",
       "9          25           7   0   -1.124984      4948.0     -0.311963   \n",
       "\n",
       "   highest_price  sellers_amount  screen_size  memory_size  battery_size  \\\n",
       "0      -0.683482        0.935301    -0.267976    -0.792354     -0.968734   \n",
       "1      -0.618950        0.935301    -0.267976    -0.717603     -0.968734   \n",
       "2      -0.618950        0.935301    -0.267976    -0.717603     -0.968734   \n",
       "3      -0.618950        0.935301    -0.267976    -0.717603     -0.968734   \n",
       "4      -0.345749       -0.327534     0.213255    -0.717603     -0.366604   \n",
       "5       0.210333       -0.716099     0.274256    -0.269098     -0.125752   \n",
       "6      -0.345749       -0.716099     0.552150    -0.568101     -0.125752   \n",
       "7      -0.348687       -0.521816     0.552150    -0.269098     -0.125752   \n",
       "8      -0.355718       -0.667528     0.552150     0.328910     -0.125752   \n",
       "9      -0.341270       -0.424675     0.552150    -0.269098     -0.125752   \n",
       "\n",
       "   release_date Month  Year  average_price  \n",
       "0            12    10  2020        1674.00  \n",
       "1            72     9  2020        2074.00  \n",
       "2            72     9  2020        2074.00  \n",
       "3            72     9  2020        2074.00  \n",
       "4            42     4  2020        4949.75  \n",
       "5            50     6  2018       10865.00  \n",
       "6            22    12  2018        4949.75  \n",
       "7             4     1  2019        5014.00  \n",
       "8             6     1  2021        5106.00  \n",
       "9            22    12  2018        5009.00  "
      ]
     },
     "execution_count": 29,
     "metadata": {},
     "output_type": "execute_result"
    }
   ],
   "source": [
    "data.head(10)"
   ]
  },
  {
   "cell_type": "code",
   "execution_count": 30,
   "id": "da7fda77",
   "metadata": {
    "execution": {
     "iopub.execute_input": "2022-05-17T10:24:44.344065Z",
     "iopub.status.busy": "2022-05-17T10:24:44.343243Z",
     "iopub.status.idle": "2022-05-17T10:24:44.350238Z",
     "shell.execute_reply": "2022-05-17T10:24:44.349577Z"
    },
    "papermill": {
     "duration": 0.065832,
     "end_time": "2022-05-17T10:24:44.352741",
     "exception": false,
     "start_time": "2022-05-17T10:24:44.286909",
     "status": "completed"
    },
    "tags": []
   },
   "outputs": [],
   "source": [
    "data[['Month','Year']] = data[['Month','Year']].astype('int')"
   ]
  },
  {
   "cell_type": "markdown",
   "id": "61c61e5e",
   "metadata": {
    "papermill": {
     "duration": 0.053179,
     "end_time": "2022-05-17T10:24:44.461449",
     "exception": false,
     "start_time": "2022-05-17T10:24:44.408270",
     "status": "completed"
    },
    "tags": []
   },
   "source": [
    "> Building the model"
   ]
  },
  {
   "cell_type": "code",
   "execution_count": 31,
   "id": "9afa1582",
   "metadata": {
    "execution": {
     "iopub.execute_input": "2022-05-17T10:24:44.570731Z",
     "iopub.status.busy": "2022-05-17T10:24:44.570170Z",
     "iopub.status.idle": "2022-05-17T10:24:44.918661Z",
     "shell.execute_reply": "2022-05-17T10:24:44.917253Z"
    },
    "papermill": {
     "duration": 0.406725,
     "end_time": "2022-05-17T10:24:44.921677",
     "exception": false,
     "start_time": "2022-05-17T10:24:44.514952",
     "status": "completed"
    },
    "tags": []
   },
   "outputs": [],
   "source": [
    "from catboost import CatBoostRegressor\n",
    "from xgboost import XGBRegressor\n",
    "from sklearn import metrics \n",
    "from sklearn.model_selection import train_test_split , GridSearchCV\n",
    "from sklearn.linear_model import LinearRegression , Ridge\n",
    "\n",
    "X = data.drop(columns = ['best_price']) # features\n",
    "y = data['best_price'] # labels or target\n",
    "\n",
    "X_train,X_val, y_train, y_val = train_test_split(X,y,random_state = 43, test_size = .2)"
   ]
  },
  {
   "cell_type": "code",
   "execution_count": 32,
   "id": "6976ef02",
   "metadata": {
    "execution": {
     "iopub.execute_input": "2022-05-17T10:24:45.033525Z",
     "iopub.status.busy": "2022-05-17T10:24:45.033188Z",
     "iopub.status.idle": "2022-05-17T10:24:45.488330Z",
     "shell.execute_reply": "2022-05-17T10:24:45.487500Z"
    },
    "papermill": {
     "duration": 0.51414,
     "end_time": "2022-05-17T10:24:45.490831",
     "exception": false,
     "start_time": "2022-05-17T10:24:44.976691",
     "status": "completed"
    },
    "tags": []
   },
   "outputs": [
    {
     "name": "stdout",
     "output_type": "stream",
     "text": [
      "Test Score: 0.9876082586600032\n"
     ]
    }
   ],
   "source": [
    "\n",
    "xgbreg = XGBRegressor()\n",
    "xgbreg.fit(X_train,y_train)\n",
    "print('Test Score:',xgbreg.score(X_val,y_val))"
   ]
  },
  {
   "cell_type": "code",
   "execution_count": 33,
   "id": "0bc7428a",
   "metadata": {
    "execution": {
     "iopub.execute_input": "2022-05-17T10:24:45.607789Z",
     "iopub.status.busy": "2022-05-17T10:24:45.607518Z",
     "iopub.status.idle": "2022-05-17T10:24:47.492472Z",
     "shell.execute_reply": "2022-05-17T10:24:47.491608Z"
    },
    "papermill": {
     "duration": 1.942261,
     "end_time": "2022-05-17T10:24:47.495044",
     "exception": false,
     "start_time": "2022-05-17T10:24:45.552783",
     "status": "completed"
    },
    "tags": []
   },
   "outputs": [
    {
     "name": "stdout",
     "output_type": "stream",
     "text": [
      "Learning rate set to 0.040806\n",
      "0:\tlearn: 8456.4993905\ttotal: 59.1ms\tremaining: 59s\n",
      "1:\tlearn: 8211.5667973\ttotal: 60.8ms\tremaining: 30.3s\n",
      "2:\tlearn: 7973.2562613\ttotal: 62.5ms\tremaining: 20.8s\n",
      "3:\tlearn: 7750.1702671\ttotal: 64.5ms\tremaining: 16.1s\n",
      "4:\tlearn: 7535.2166491\ttotal: 66.3ms\tremaining: 13.2s\n",
      "5:\tlearn: 7322.9633101\ttotal: 68.2ms\tremaining: 11.3s\n",
      "6:\tlearn: 7101.4539376\ttotal: 69.9ms\tremaining: 9.92s\n",
      "7:\tlearn: 6898.3538493\ttotal: 71.6ms\tremaining: 8.88s\n",
      "8:\tlearn: 6711.9427783\ttotal: 73ms\tremaining: 8.04s\n",
      "9:\tlearn: 6523.6436593\ttotal: 74ms\tremaining: 7.32s\n",
      "10:\tlearn: 6355.8712026\ttotal: 75.3ms\tremaining: 6.77s\n",
      "11:\tlearn: 6179.8477757\ttotal: 76.6ms\tremaining: 6.31s\n",
      "12:\tlearn: 6022.5119382\ttotal: 78.1ms\tremaining: 5.93s\n",
      "13:\tlearn: 5876.1259161\ttotal: 79.4ms\tremaining: 5.59s\n",
      "14:\tlearn: 5734.2861039\ttotal: 80.8ms\tremaining: 5.31s\n",
      "15:\tlearn: 5574.6648608\ttotal: 82.1ms\tremaining: 5.05s\n",
      "16:\tlearn: 5407.2596278\ttotal: 83.4ms\tremaining: 4.82s\n",
      "17:\tlearn: 5273.5378717\ttotal: 84.7ms\tremaining: 4.62s\n",
      "18:\tlearn: 5131.4036855\ttotal: 86.1ms\tremaining: 4.44s\n",
      "19:\tlearn: 5001.1269044\ttotal: 87.4ms\tremaining: 4.28s\n",
      "20:\tlearn: 4870.8848797\ttotal: 88.9ms\tremaining: 4.14s\n",
      "21:\tlearn: 4737.7051021\ttotal: 90.4ms\tremaining: 4.02s\n",
      "22:\tlearn: 4621.5630346\ttotal: 91.8ms\tremaining: 3.9s\n",
      "23:\tlearn: 4502.4186075\ttotal: 93.3ms\tremaining: 3.79s\n",
      "24:\tlearn: 4400.5548594\ttotal: 94.9ms\tremaining: 3.7s\n",
      "25:\tlearn: 4290.7241933\ttotal: 96.5ms\tremaining: 3.61s\n",
      "26:\tlearn: 4189.6432196\ttotal: 97.9ms\tremaining: 3.53s\n",
      "27:\tlearn: 4109.7427565\ttotal: 99.3ms\tremaining: 3.45s\n",
      "28:\tlearn: 4005.7551146\ttotal: 101ms\tremaining: 3.38s\n",
      "29:\tlearn: 3913.4030907\ttotal: 103ms\tremaining: 3.32s\n",
      "30:\tlearn: 3819.0293298\ttotal: 104ms\tremaining: 3.25s\n",
      "31:\tlearn: 3731.1612192\ttotal: 106ms\tremaining: 3.19s\n",
      "32:\tlearn: 3650.4496340\ttotal: 107ms\tremaining: 3.14s\n",
      "33:\tlearn: 3569.6760906\ttotal: 109ms\tremaining: 3.08s\n",
      "34:\tlearn: 3505.0646647\ttotal: 110ms\tremaining: 3.03s\n",
      "35:\tlearn: 3431.6581706\ttotal: 111ms\tremaining: 2.98s\n",
      "36:\tlearn: 3372.9481415\ttotal: 113ms\tremaining: 2.94s\n",
      "37:\tlearn: 3307.1835101\ttotal: 114ms\tremaining: 2.89s\n",
      "38:\tlearn: 3249.0575426\ttotal: 116ms\tremaining: 2.85s\n",
      "39:\tlearn: 3190.3600870\ttotal: 117ms\tremaining: 2.8s\n",
      "40:\tlearn: 3132.7631637\ttotal: 118ms\tremaining: 2.77s\n",
      "41:\tlearn: 3082.9224001\ttotal: 120ms\tremaining: 2.73s\n",
      "42:\tlearn: 3034.4824006\ttotal: 122ms\tremaining: 2.72s\n",
      "43:\tlearn: 2975.9520139\ttotal: 124ms\tremaining: 2.7s\n",
      "44:\tlearn: 2922.1405987\ttotal: 128ms\tremaining: 2.71s\n",
      "45:\tlearn: 2868.4006170\ttotal: 129ms\tremaining: 2.69s\n",
      "46:\tlearn: 2821.5751369\ttotal: 131ms\tremaining: 2.67s\n",
      "47:\tlearn: 2782.0946989\ttotal: 133ms\tremaining: 2.64s\n",
      "48:\tlearn: 2742.1369930\ttotal: 135ms\tremaining: 2.62s\n",
      "49:\tlearn: 2685.1676053\ttotal: 136ms\tremaining: 2.59s\n",
      "50:\tlearn: 2636.2335944\ttotal: 138ms\tremaining: 2.56s\n",
      "51:\tlearn: 2593.0836578\ttotal: 139ms\tremaining: 2.54s\n",
      "52:\tlearn: 2555.9620524\ttotal: 141ms\tremaining: 2.52s\n",
      "53:\tlearn: 2523.5966529\ttotal: 143ms\tremaining: 2.5s\n",
      "54:\tlearn: 2484.4929978\ttotal: 145ms\tremaining: 2.48s\n",
      "55:\tlearn: 2445.1464152\ttotal: 146ms\tremaining: 2.46s\n",
      "56:\tlearn: 2411.0975352\ttotal: 148ms\tremaining: 2.44s\n",
      "57:\tlearn: 2381.5962953\ttotal: 149ms\tremaining: 2.43s\n",
      "58:\tlearn: 2354.8265580\ttotal: 151ms\tremaining: 2.41s\n",
      "59:\tlearn: 2332.5133329\ttotal: 153ms\tremaining: 2.39s\n",
      "60:\tlearn: 2301.4573042\ttotal: 154ms\tremaining: 2.37s\n",
      "61:\tlearn: 2264.3326030\ttotal: 155ms\tremaining: 2.35s\n",
      "62:\tlearn: 2240.9089518\ttotal: 157ms\tremaining: 2.33s\n",
      "63:\tlearn: 2217.2197509\ttotal: 158ms\tremaining: 2.31s\n",
      "64:\tlearn: 2190.4581314\ttotal: 160ms\tremaining: 2.3s\n",
      "65:\tlearn: 2168.7834917\ttotal: 161ms\tremaining: 2.28s\n",
      "66:\tlearn: 2135.2125144\ttotal: 163ms\tremaining: 2.27s\n",
      "67:\tlearn: 2113.3217988\ttotal: 164ms\tremaining: 2.25s\n",
      "68:\tlearn: 2091.7005661\ttotal: 166ms\tremaining: 2.24s\n",
      "69:\tlearn: 2072.8501141\ttotal: 167ms\tremaining: 2.22s\n",
      "70:\tlearn: 2059.0740506\ttotal: 169ms\tremaining: 2.21s\n",
      "71:\tlearn: 2038.6542354\ttotal: 170ms\tremaining: 2.2s\n",
      "72:\tlearn: 2017.7781621\ttotal: 172ms\tremaining: 2.18s\n",
      "73:\tlearn: 2000.9911874\ttotal: 173ms\tremaining: 2.17s\n",
      "74:\tlearn: 1973.6797977\ttotal: 175ms\tremaining: 2.15s\n",
      "75:\tlearn: 1949.7285367\ttotal: 176ms\tremaining: 2.14s\n",
      "76:\tlearn: 1932.4134265\ttotal: 178ms\tremaining: 2.13s\n",
      "77:\tlearn: 1920.3258560\ttotal: 179ms\tremaining: 2.11s\n",
      "78:\tlearn: 1908.0874588\ttotal: 181ms\tremaining: 2.12s\n",
      "79:\tlearn: 1895.8151841\ttotal: 183ms\tremaining: 2.11s\n",
      "80:\tlearn: 1883.3070160\ttotal: 185ms\tremaining: 2.1s\n",
      "81:\tlearn: 1870.4761948\ttotal: 186ms\tremaining: 2.09s\n",
      "82:\tlearn: 1858.5467637\ttotal: 188ms\tremaining: 2.07s\n",
      "83:\tlearn: 1845.0611784\ttotal: 189ms\tremaining: 2.06s\n",
      "84:\tlearn: 1834.8326029\ttotal: 191ms\tremaining: 2.05s\n",
      "85:\tlearn: 1828.1078746\ttotal: 192ms\tremaining: 2.04s\n",
      "86:\tlearn: 1817.4423986\ttotal: 194ms\tremaining: 2.03s\n",
      "87:\tlearn: 1797.9463071\ttotal: 195ms\tremaining: 2.02s\n",
      "88:\tlearn: 1787.6677576\ttotal: 197ms\tremaining: 2.01s\n",
      "89:\tlearn: 1778.4574834\ttotal: 198ms\tremaining: 2s\n",
      "90:\tlearn: 1771.0905800\ttotal: 199ms\tremaining: 1.99s\n",
      "91:\tlearn: 1763.0659618\ttotal: 201ms\tremaining: 1.98s\n",
      "92:\tlearn: 1745.8365885\ttotal: 202ms\tremaining: 1.97s\n",
      "93:\tlearn: 1737.0357040\ttotal: 204ms\tremaining: 1.97s\n",
      "94:\tlearn: 1726.3706760\ttotal: 206ms\tremaining: 1.96s\n",
      "95:\tlearn: 1711.5301184\ttotal: 207ms\tremaining: 1.95s\n",
      "96:\tlearn: 1694.3050590\ttotal: 209ms\tremaining: 1.94s\n",
      "97:\tlearn: 1680.9876069\ttotal: 210ms\tremaining: 1.93s\n",
      "98:\tlearn: 1674.3911894\ttotal: 212ms\tremaining: 1.93s\n",
      "99:\tlearn: 1667.1784086\ttotal: 213ms\tremaining: 1.92s\n",
      "100:\tlearn: 1656.1284479\ttotal: 214ms\tremaining: 1.91s\n",
      "101:\tlearn: 1648.2997783\ttotal: 216ms\tremaining: 1.9s\n",
      "102:\tlearn: 1640.1158741\ttotal: 217ms\tremaining: 1.89s\n",
      "103:\tlearn: 1634.9825832\ttotal: 219ms\tremaining: 1.89s\n",
      "104:\tlearn: 1631.0975891\ttotal: 220ms\tremaining: 1.88s\n",
      "105:\tlearn: 1626.6145985\ttotal: 222ms\tremaining: 1.87s\n",
      "106:\tlearn: 1621.3072227\ttotal: 224ms\tremaining: 1.87s\n",
      "107:\tlearn: 1609.8930154\ttotal: 225ms\tremaining: 1.86s\n",
      "108:\tlearn: 1602.4138048\ttotal: 227ms\tremaining: 1.85s\n",
      "109:\tlearn: 1592.8238444\ttotal: 228ms\tremaining: 1.85s\n",
      "110:\tlearn: 1584.1292418\ttotal: 230ms\tremaining: 1.84s\n",
      "111:\tlearn: 1580.5874328\ttotal: 231ms\tremaining: 1.83s\n",
      "112:\tlearn: 1573.3214321\ttotal: 232ms\tremaining: 1.82s\n",
      "113:\tlearn: 1567.3453497\ttotal: 234ms\tremaining: 1.82s\n",
      "114:\tlearn: 1554.6001066\ttotal: 235ms\tremaining: 1.81s\n",
      "115:\tlearn: 1547.9412753\ttotal: 237ms\tremaining: 1.8s\n",
      "116:\tlearn: 1541.4678079\ttotal: 238ms\tremaining: 1.8s\n",
      "117:\tlearn: 1534.8539810\ttotal: 240ms\tremaining: 1.79s\n",
      "118:\tlearn: 1530.7394494\ttotal: 242ms\tremaining: 1.79s\n",
      "119:\tlearn: 1522.4680446\ttotal: 243ms\tremaining: 1.78s\n",
      "120:\tlearn: 1518.8819686\ttotal: 245ms\tremaining: 1.78s\n",
      "121:\tlearn: 1510.2162020\ttotal: 246ms\tremaining: 1.77s\n",
      "122:\tlearn: 1504.5502554\ttotal: 248ms\tremaining: 1.77s\n",
      "123:\tlearn: 1502.8349517\ttotal: 249ms\tremaining: 1.76s\n",
      "124:\tlearn: 1499.6574269\ttotal: 250ms\tremaining: 1.75s\n",
      "125:\tlearn: 1495.9074142\ttotal: 251ms\tremaining: 1.74s\n",
      "126:\tlearn: 1477.5250905\ttotal: 253ms\tremaining: 1.74s\n",
      "127:\tlearn: 1475.0934840\ttotal: 254ms\tremaining: 1.73s\n",
      "128:\tlearn: 1472.9613389\ttotal: 256ms\tremaining: 1.73s\n",
      "129:\tlearn: 1466.6915670\ttotal: 257ms\tremaining: 1.72s\n",
      "130:\tlearn: 1460.3325538\ttotal: 259ms\tremaining: 1.72s\n",
      "131:\tlearn: 1455.8061739\ttotal: 260ms\tremaining: 1.71s\n",
      "132:\tlearn: 1452.3290746\ttotal: 262ms\tremaining: 1.71s\n",
      "133:\tlearn: 1446.4476443\ttotal: 263ms\tremaining: 1.7s\n",
      "134:\tlearn: 1443.5035102\ttotal: 265ms\tremaining: 1.7s\n",
      "135:\tlearn: 1440.5612835\ttotal: 266ms\tremaining: 1.69s\n",
      "136:\tlearn: 1437.1247151\ttotal: 268ms\tremaining: 1.69s\n",
      "137:\tlearn: 1434.0506715\ttotal: 269ms\tremaining: 1.68s\n",
      "138:\tlearn: 1422.4152606\ttotal: 271ms\tremaining: 1.68s\n",
      "139:\tlearn: 1418.0825195\ttotal: 272ms\tremaining: 1.67s\n",
      "140:\tlearn: 1416.5715479\ttotal: 274ms\tremaining: 1.67s\n",
      "141:\tlearn: 1407.4002008\ttotal: 275ms\tremaining: 1.66s\n",
      "142:\tlearn: 1402.6740362\ttotal: 277ms\tremaining: 1.66s\n",
      "143:\tlearn: 1401.2442295\ttotal: 278ms\tremaining: 1.65s\n",
      "144:\tlearn: 1400.2645944\ttotal: 280ms\tremaining: 1.65s\n",
      "145:\tlearn: 1397.7193493\ttotal: 281ms\tremaining: 1.64s\n",
      "146:\tlearn: 1384.3209463\ttotal: 283ms\tremaining: 1.64s\n",
      "147:\tlearn: 1382.0346212\ttotal: 284ms\tremaining: 1.64s\n",
      "148:\tlearn: 1371.7726866\ttotal: 286ms\tremaining: 1.63s\n",
      "149:\tlearn: 1363.9568432\ttotal: 288ms\tremaining: 1.63s\n",
      "150:\tlearn: 1362.0957739\ttotal: 289ms\tremaining: 1.63s\n",
      "151:\tlearn: 1358.4107985\ttotal: 291ms\tremaining: 1.62s\n",
      "152:\tlearn: 1355.2369727\ttotal: 293ms\tremaining: 1.62s\n",
      "153:\tlearn: 1353.6460734\ttotal: 294ms\tremaining: 1.62s\n",
      "154:\tlearn: 1350.5239246\ttotal: 296ms\tremaining: 1.61s\n",
      "155:\tlearn: 1346.7792118\ttotal: 297ms\tremaining: 1.61s\n",
      "156:\tlearn: 1337.5130635\ttotal: 299ms\tremaining: 1.6s\n",
      "157:\tlearn: 1335.8074129\ttotal: 300ms\tremaining: 1.6s\n",
      "158:\tlearn: 1328.4288417\ttotal: 302ms\tremaining: 1.6s\n",
      "159:\tlearn: 1317.9066797\ttotal: 303ms\tremaining: 1.59s\n",
      "160:\tlearn: 1315.0650603\ttotal: 305ms\tremaining: 1.59s\n",
      "161:\tlearn: 1304.6919881\ttotal: 307ms\tremaining: 1.58s\n",
      "162:\tlearn: 1300.3403470\ttotal: 308ms\tremaining: 1.58s\n",
      "163:\tlearn: 1296.8878030\ttotal: 310ms\tremaining: 1.58s\n",
      "164:\tlearn: 1293.7869035\ttotal: 311ms\tremaining: 1.57s\n",
      "165:\tlearn: 1292.5159968\ttotal: 313ms\tremaining: 1.57s\n",
      "166:\tlearn: 1290.5362456\ttotal: 314ms\tremaining: 1.57s\n",
      "167:\tlearn: 1278.2245442\ttotal: 315ms\tremaining: 1.56s\n",
      "168:\tlearn: 1270.3024016\ttotal: 317ms\tremaining: 1.56s\n",
      "169:\tlearn: 1267.8284852\ttotal: 318ms\tremaining: 1.55s\n",
      "170:\tlearn: 1264.4189056\ttotal: 320ms\tremaining: 1.55s\n",
      "171:\tlearn: 1260.0208532\ttotal: 321ms\tremaining: 1.55s\n",
      "172:\tlearn: 1251.8283417\ttotal: 323ms\tremaining: 1.54s\n",
      "173:\tlearn: 1244.3157015\ttotal: 324ms\tremaining: 1.54s\n",
      "174:\tlearn: 1243.1762665\ttotal: 326ms\tremaining: 1.53s\n",
      "175:\tlearn: 1238.7613482\ttotal: 327ms\tremaining: 1.53s\n",
      "176:\tlearn: 1237.3484152\ttotal: 329ms\tremaining: 1.53s\n",
      "177:\tlearn: 1235.1397981\ttotal: 330ms\tremaining: 1.52s\n",
      "178:\tlearn: 1232.3774918\ttotal: 332ms\tremaining: 1.52s\n",
      "179:\tlearn: 1229.1155524\ttotal: 333ms\tremaining: 1.52s\n",
      "180:\tlearn: 1222.0055831\ttotal: 335ms\tremaining: 1.51s\n",
      "181:\tlearn: 1220.6734423\ttotal: 337ms\tremaining: 1.51s\n",
      "182:\tlearn: 1213.2907192\ttotal: 338ms\tremaining: 1.51s\n",
      "183:\tlearn: 1210.5180319\ttotal: 340ms\tremaining: 1.51s\n",
      "184:\tlearn: 1202.7137244\ttotal: 341ms\tremaining: 1.5s\n",
      "185:\tlearn: 1201.6687875\ttotal: 343ms\tremaining: 1.5s\n",
      "186:\tlearn: 1197.5513412\ttotal: 344ms\tremaining: 1.5s\n",
      "187:\tlearn: 1195.8407395\ttotal: 346ms\tremaining: 1.49s\n",
      "188:\tlearn: 1188.4354151\ttotal: 347ms\tremaining: 1.49s\n",
      "189:\tlearn: 1184.4559607\ttotal: 349ms\tremaining: 1.49s\n",
      "190:\tlearn: 1177.8046376\ttotal: 350ms\tremaining: 1.48s\n",
      "191:\tlearn: 1176.1460826\ttotal: 352ms\tremaining: 1.48s\n",
      "192:\tlearn: 1173.9451753\ttotal: 353ms\tremaining: 1.48s\n",
      "193:\tlearn: 1172.9601632\ttotal: 355ms\tremaining: 1.47s\n",
      "194:\tlearn: 1167.7010799\ttotal: 356ms\tremaining: 1.47s\n",
      "195:\tlearn: 1163.2551528\ttotal: 357ms\tremaining: 1.47s\n",
      "196:\tlearn: 1156.5957887\ttotal: 359ms\tremaining: 1.46s\n",
      "197:\tlearn: 1154.3240805\ttotal: 360ms\tremaining: 1.46s\n",
      "198:\tlearn: 1152.8933201\ttotal: 361ms\tremaining: 1.45s\n",
      "199:\tlearn: 1147.7330772\ttotal: 363ms\tremaining: 1.45s\n",
      "200:\tlearn: 1145.8506682\ttotal: 364ms\tremaining: 1.45s\n",
      "201:\tlearn: 1144.6914247\ttotal: 366ms\tremaining: 1.44s\n",
      "202:\tlearn: 1141.4570321\ttotal: 368ms\tremaining: 1.44s\n",
      "203:\tlearn: 1135.4395184\ttotal: 369ms\tremaining: 1.44s\n",
      "204:\tlearn: 1134.4078398\ttotal: 371ms\tremaining: 1.44s\n",
      "205:\tlearn: 1133.0059509\ttotal: 373ms\tremaining: 1.44s\n",
      "206:\tlearn: 1130.4750158\ttotal: 374ms\tremaining: 1.43s\n",
      "207:\tlearn: 1129.5623431\ttotal: 376ms\tremaining: 1.43s\n",
      "208:\tlearn: 1126.2883967\ttotal: 377ms\tremaining: 1.43s\n",
      "209:\tlearn: 1123.7512433\ttotal: 379ms\tremaining: 1.43s\n",
      "210:\tlearn: 1120.7931163\ttotal: 380ms\tremaining: 1.42s\n",
      "211:\tlearn: 1119.7765921\ttotal: 382ms\tremaining: 1.42s\n",
      "212:\tlearn: 1117.9781713\ttotal: 383ms\tremaining: 1.42s\n",
      "213:\tlearn: 1111.1430183\ttotal: 385ms\tremaining: 1.41s\n",
      "214:\tlearn: 1108.9934950\ttotal: 386ms\tremaining: 1.41s\n",
      "215:\tlearn: 1106.7446848\ttotal: 388ms\tremaining: 1.41s\n",
      "216:\tlearn: 1103.1232429\ttotal: 389ms\tremaining: 1.4s\n",
      "217:\tlearn: 1100.2507982\ttotal: 391ms\tremaining: 1.4s\n",
      "218:\tlearn: 1098.2730911\ttotal: 392ms\tremaining: 1.4s\n",
      "219:\tlearn: 1090.4517141\ttotal: 394ms\tremaining: 1.4s\n",
      "220:\tlearn: 1087.5609844\ttotal: 395ms\tremaining: 1.39s\n",
      "221:\tlearn: 1081.1762839\ttotal: 397ms\tremaining: 1.39s\n",
      "222:\tlearn: 1079.7077760\ttotal: 398ms\tremaining: 1.39s\n",
      "223:\tlearn: 1074.9120023\ttotal: 400ms\tremaining: 1.39s\n",
      "224:\tlearn: 1072.6828307\ttotal: 402ms\tremaining: 1.38s\n",
      "225:\tlearn: 1069.6876667\ttotal: 403ms\tremaining: 1.38s\n",
      "226:\tlearn: 1068.0666452\ttotal: 405ms\tremaining: 1.38s\n",
      "227:\tlearn: 1066.5232823\ttotal: 406ms\tremaining: 1.38s\n",
      "228:\tlearn: 1064.8575454\ttotal: 408ms\tremaining: 1.37s\n",
      "229:\tlearn: 1062.4223460\ttotal: 409ms\tremaining: 1.37s\n",
      "230:\tlearn: 1060.2796076\ttotal: 411ms\tremaining: 1.37s\n",
      "231:\tlearn: 1056.4750461\ttotal: 412ms\tremaining: 1.36s\n",
      "232:\tlearn: 1050.9617204\ttotal: 414ms\tremaining: 1.36s\n",
      "233:\tlearn: 1050.0415875\ttotal: 416ms\tremaining: 1.36s\n",
      "234:\tlearn: 1047.6179685\ttotal: 417ms\tremaining: 1.36s\n",
      "235:\tlearn: 1045.4409615\ttotal: 419ms\tremaining: 1.35s\n",
      "236:\tlearn: 1044.4463994\ttotal: 420ms\tremaining: 1.35s\n",
      "237:\tlearn: 1040.8747194\ttotal: 422ms\tremaining: 1.35s\n",
      "238:\tlearn: 1036.9080733\ttotal: 424ms\tremaining: 1.35s\n",
      "239:\tlearn: 1031.8842665\ttotal: 426ms\tremaining: 1.35s\n",
      "240:\tlearn: 1029.8760557\ttotal: 427ms\tremaining: 1.34s\n",
      "241:\tlearn: 1029.0258774\ttotal: 429ms\tremaining: 1.34s\n",
      "242:\tlearn: 1026.7543421\ttotal: 430ms\tremaining: 1.34s\n",
      "243:\tlearn: 1024.8749370\ttotal: 432ms\tremaining: 1.34s\n",
      "244:\tlearn: 1018.5521357\ttotal: 433ms\tremaining: 1.33s\n",
      "245:\tlearn: 1017.7056620\ttotal: 435ms\tremaining: 1.33s\n",
      "246:\tlearn: 1014.0964757\ttotal: 437ms\tremaining: 1.33s\n",
      "247:\tlearn: 1011.8252753\ttotal: 438ms\tremaining: 1.33s\n",
      "248:\tlearn: 1011.3478037\ttotal: 440ms\tremaining: 1.33s\n",
      "249:\tlearn: 1010.8133662\ttotal: 441ms\tremaining: 1.32s\n",
      "250:\tlearn: 1003.8487492\ttotal: 442ms\tremaining: 1.32s\n",
      "251:\tlearn: 1003.6642272\ttotal: 444ms\tremaining: 1.32s\n",
      "252:\tlearn: 1003.2583670\ttotal: 445ms\tremaining: 1.31s\n",
      "253:\tlearn: 1002.6188627\ttotal: 447ms\tremaining: 1.31s\n",
      "254:\tlearn: 1001.5062983\ttotal: 448ms\tremaining: 1.31s\n",
      "255:\tlearn: 1000.8858186\ttotal: 450ms\tremaining: 1.31s\n",
      "256:\tlearn: 997.0762830\ttotal: 451ms\tremaining: 1.3s\n",
      "257:\tlearn: 996.5763504\ttotal: 453ms\tremaining: 1.3s\n",
      "258:\tlearn: 995.1605489\ttotal: 454ms\tremaining: 1.3s\n",
      "259:\tlearn: 993.1702684\ttotal: 456ms\tremaining: 1.3s\n",
      "260:\tlearn: 991.3036978\ttotal: 458ms\tremaining: 1.29s\n",
      "261:\tlearn: 990.8105077\ttotal: 459ms\tremaining: 1.29s\n",
      "262:\tlearn: 990.6498708\ttotal: 461ms\tremaining: 1.29s\n",
      "263:\tlearn: 989.1680715\ttotal: 463ms\tremaining: 1.29s\n",
      "264:\tlearn: 988.3867951\ttotal: 464ms\tremaining: 1.29s\n",
      "265:\tlearn: 986.8265863\ttotal: 466ms\tremaining: 1.28s\n",
      "266:\tlearn: 984.3871099\ttotal: 467ms\tremaining: 1.28s\n",
      "267:\tlearn: 978.0624936\ttotal: 469ms\tremaining: 1.28s\n",
      "268:\tlearn: 977.9339904\ttotal: 470ms\tremaining: 1.28s\n",
      "269:\tlearn: 977.3562665\ttotal: 472ms\tremaining: 1.27s\n",
      "270:\tlearn: 977.2137423\ttotal: 473ms\tremaining: 1.27s\n",
      "271:\tlearn: 972.5364778\ttotal: 475ms\tremaining: 1.27s\n",
      "272:\tlearn: 972.3879822\ttotal: 476ms\tremaining: 1.27s\n",
      "273:\tlearn: 972.2294936\ttotal: 477ms\tremaining: 1.26s\n",
      "274:\tlearn: 971.6494134\ttotal: 479ms\tremaining: 1.26s\n",
      "275:\tlearn: 969.7277464\ttotal: 480ms\tremaining: 1.26s\n",
      "276:\tlearn: 969.0144042\ttotal: 482ms\tremaining: 1.26s\n",
      "277:\tlearn: 968.5821479\ttotal: 484ms\tremaining: 1.25s\n",
      "278:\tlearn: 967.9143117\ttotal: 485ms\tremaining: 1.25s\n",
      "279:\tlearn: 967.8066841\ttotal: 486ms\tremaining: 1.25s\n",
      "280:\tlearn: 965.5938712\ttotal: 488ms\tremaining: 1.25s\n",
      "281:\tlearn: 963.1082232\ttotal: 490ms\tremaining: 1.25s\n",
      "282:\tlearn: 960.7056601\ttotal: 491ms\tremaining: 1.24s\n",
      "283:\tlearn: 957.0993831\ttotal: 493ms\tremaining: 1.24s\n",
      "284:\tlearn: 953.5186068\ttotal: 494ms\tremaining: 1.24s\n",
      "285:\tlearn: 950.8442393\ttotal: 496ms\tremaining: 1.24s\n",
      "286:\tlearn: 948.8952966\ttotal: 497ms\tremaining: 1.24s\n",
      "287:\tlearn: 948.4046553\ttotal: 499ms\tremaining: 1.23s\n",
      "288:\tlearn: 942.3631193\ttotal: 501ms\tremaining: 1.23s\n",
      "289:\tlearn: 941.2348040\ttotal: 502ms\tremaining: 1.23s\n",
      "290:\tlearn: 938.9784313\ttotal: 504ms\tremaining: 1.23s\n",
      "291:\tlearn: 938.8542556\ttotal: 506ms\tremaining: 1.23s\n",
      "292:\tlearn: 938.7384477\ttotal: 507ms\tremaining: 1.22s\n",
      "293:\tlearn: 933.8181674\ttotal: 509ms\tremaining: 1.22s\n",
      "294:\tlearn: 933.6986772\ttotal: 510ms\tremaining: 1.22s\n",
      "295:\tlearn: 932.8278040\ttotal: 512ms\tremaining: 1.22s\n",
      "296:\tlearn: 930.8222167\ttotal: 513ms\tremaining: 1.22s\n",
      "297:\tlearn: 925.1170626\ttotal: 515ms\tremaining: 1.21s\n",
      "298:\tlearn: 924.2292356\ttotal: 516ms\tremaining: 1.21s\n",
      "299:\tlearn: 922.7352350\ttotal: 518ms\tremaining: 1.21s\n",
      "300:\tlearn: 921.4731637\ttotal: 519ms\tremaining: 1.21s\n",
      "301:\tlearn: 920.4354631\ttotal: 521ms\tremaining: 1.2s\n",
      "302:\tlearn: 920.0506880\ttotal: 523ms\tremaining: 1.2s\n",
      "303:\tlearn: 919.5607082\ttotal: 524ms\tremaining: 1.2s\n",
      "304:\tlearn: 918.7788650\ttotal: 526ms\tremaining: 1.2s\n",
      "305:\tlearn: 917.9483321\ttotal: 527ms\tremaining: 1.2s\n",
      "306:\tlearn: 914.9633429\ttotal: 529ms\tremaining: 1.19s\n",
      "307:\tlearn: 914.6024037\ttotal: 530ms\tremaining: 1.19s\n",
      "308:\tlearn: 909.0759382\ttotal: 532ms\tremaining: 1.19s\n",
      "309:\tlearn: 904.6619798\ttotal: 533ms\tremaining: 1.19s\n",
      "310:\tlearn: 903.0526866\ttotal: 535ms\tremaining: 1.18s\n",
      "311:\tlearn: 899.2444102\ttotal: 536ms\tremaining: 1.18s\n",
      "312:\tlearn: 898.1273530\ttotal: 538ms\tremaining: 1.18s\n",
      "313:\tlearn: 896.8327840\ttotal: 539ms\tremaining: 1.18s\n",
      "314:\tlearn: 895.9627365\ttotal: 541ms\tremaining: 1.18s\n",
      "315:\tlearn: 895.3224221\ttotal: 542ms\tremaining: 1.17s\n",
      "316:\tlearn: 891.5793829\ttotal: 544ms\tremaining: 1.17s\n",
      "317:\tlearn: 889.9622178\ttotal: 546ms\tremaining: 1.17s\n",
      "318:\tlearn: 888.2242168\ttotal: 547ms\tremaining: 1.17s\n",
      "319:\tlearn: 884.2946802\ttotal: 549ms\tremaining: 1.17s\n",
      "320:\tlearn: 880.8913493\ttotal: 551ms\tremaining: 1.16s\n",
      "321:\tlearn: 880.3457757\ttotal: 552ms\tremaining: 1.16s\n",
      "322:\tlearn: 878.1459488\ttotal: 554ms\tremaining: 1.16s\n",
      "323:\tlearn: 877.1856911\ttotal: 556ms\tremaining: 1.16s\n",
      "324:\tlearn: 872.5392222\ttotal: 558ms\tremaining: 1.16s\n",
      "325:\tlearn: 869.3706860\ttotal: 560ms\tremaining: 1.16s\n",
      "326:\tlearn: 865.5109577\ttotal: 563ms\tremaining: 1.16s\n",
      "327:\tlearn: 863.3706211\ttotal: 566ms\tremaining: 1.16s\n",
      "328:\tlearn: 860.4325796\ttotal: 567ms\tremaining: 1.16s\n",
      "329:\tlearn: 857.0692789\ttotal: 569ms\tremaining: 1.16s\n",
      "330:\tlearn: 856.4396698\ttotal: 571ms\tremaining: 1.15s\n",
      "331:\tlearn: 854.8048496\ttotal: 572ms\tremaining: 1.15s\n",
      "332:\tlearn: 853.7825841\ttotal: 574ms\tremaining: 1.15s\n",
      "333:\tlearn: 851.4695383\ttotal: 576ms\tremaining: 1.15s\n",
      "334:\tlearn: 850.7310929\ttotal: 577ms\tremaining: 1.15s\n",
      "335:\tlearn: 849.1261333\ttotal: 579ms\tremaining: 1.14s\n",
      "336:\tlearn: 847.7170653\ttotal: 580ms\tremaining: 1.14s\n",
      "337:\tlearn: 846.5619791\ttotal: 582ms\tremaining: 1.14s\n",
      "338:\tlearn: 846.2643940\ttotal: 583ms\tremaining: 1.14s\n",
      "339:\tlearn: 845.4227295\ttotal: 585ms\tremaining: 1.14s\n",
      "340:\tlearn: 844.0808217\ttotal: 587ms\tremaining: 1.13s\n",
      "341:\tlearn: 841.1099640\ttotal: 588ms\tremaining: 1.13s\n",
      "342:\tlearn: 839.1457818\ttotal: 590ms\tremaining: 1.13s\n",
      "343:\tlearn: 838.8221879\ttotal: 591ms\tremaining: 1.13s\n",
      "344:\tlearn: 835.2423443\ttotal: 593ms\tremaining: 1.12s\n",
      "345:\tlearn: 833.6439191\ttotal: 594ms\tremaining: 1.12s\n",
      "346:\tlearn: 832.8200751\ttotal: 595ms\tremaining: 1.12s\n",
      "347:\tlearn: 831.2802260\ttotal: 597ms\tremaining: 1.12s\n",
      "348:\tlearn: 829.4290226\ttotal: 598ms\tremaining: 1.12s\n",
      "349:\tlearn: 828.4549540\ttotal: 600ms\tremaining: 1.11s\n",
      "350:\tlearn: 827.0082382\ttotal: 602ms\tremaining: 1.11s\n",
      "351:\tlearn: 826.0313071\ttotal: 603ms\tremaining: 1.11s\n",
      "352:\tlearn: 825.2228129\ttotal: 604ms\tremaining: 1.11s\n",
      "353:\tlearn: 824.7482246\ttotal: 606ms\tremaining: 1.1s\n",
      "354:\tlearn: 822.1174268\ttotal: 607ms\tremaining: 1.1s\n",
      "355:\tlearn: 820.5692952\ttotal: 609ms\tremaining: 1.1s\n",
      "356:\tlearn: 818.7418153\ttotal: 610ms\tremaining: 1.1s\n",
      "357:\tlearn: 817.7293607\ttotal: 612ms\tremaining: 1.1s\n",
      "358:\tlearn: 816.9820140\ttotal: 613ms\tremaining: 1.09s\n",
      "359:\tlearn: 815.5825133\ttotal: 615ms\tremaining: 1.09s\n",
      "360:\tlearn: 812.4672716\ttotal: 616ms\tremaining: 1.09s\n",
      "361:\tlearn: 812.0847285\ttotal: 618ms\tremaining: 1.09s\n",
      "362:\tlearn: 810.7035820\ttotal: 619ms\tremaining: 1.09s\n",
      "363:\tlearn: 809.9318487\ttotal: 621ms\tremaining: 1.08s\n",
      "364:\tlearn: 806.9716924\ttotal: 622ms\tremaining: 1.08s\n",
      "365:\tlearn: 806.3673893\ttotal: 624ms\tremaining: 1.08s\n",
      "366:\tlearn: 805.5922976\ttotal: 625ms\tremaining: 1.08s\n",
      "367:\tlearn: 803.0401622\ttotal: 627ms\tremaining: 1.08s\n",
      "368:\tlearn: 801.2809192\ttotal: 629ms\tremaining: 1.07s\n",
      "369:\tlearn: 799.4356307\ttotal: 630ms\tremaining: 1.07s\n",
      "370:\tlearn: 798.5072496\ttotal: 632ms\tremaining: 1.07s\n",
      "371:\tlearn: 795.7148972\ttotal: 633ms\tremaining: 1.07s\n",
      "372:\tlearn: 794.5109751\ttotal: 635ms\tremaining: 1.07s\n",
      "373:\tlearn: 792.9050102\ttotal: 636ms\tremaining: 1.06s\n",
      "374:\tlearn: 791.0127967\ttotal: 638ms\tremaining: 1.06s\n",
      "375:\tlearn: 789.4940546\ttotal: 639ms\tremaining: 1.06s\n",
      "376:\tlearn: 787.2537462\ttotal: 641ms\tremaining: 1.06s\n",
      "377:\tlearn: 786.3006362\ttotal: 642ms\tremaining: 1.06s\n",
      "378:\tlearn: 785.8026718\ttotal: 644ms\tremaining: 1.05s\n",
      "379:\tlearn: 784.0014068\ttotal: 645ms\tremaining: 1.05s\n",
      "380:\tlearn: 782.3392332\ttotal: 646ms\tremaining: 1.05s\n",
      "381:\tlearn: 781.4335702\ttotal: 648ms\tremaining: 1.05s\n",
      "382:\tlearn: 779.2761164\ttotal: 649ms\tremaining: 1.05s\n",
      "383:\tlearn: 778.5659858\ttotal: 651ms\tremaining: 1.04s\n",
      "384:\tlearn: 776.7882763\ttotal: 652ms\tremaining: 1.04s\n",
      "385:\tlearn: 776.0478971\ttotal: 654ms\tremaining: 1.04s\n",
      "386:\tlearn: 775.0270983\ttotal: 655ms\tremaining: 1.04s\n",
      "387:\tlearn: 773.3655340\ttotal: 656ms\tremaining: 1.03s\n",
      "388:\tlearn: 770.8450279\ttotal: 658ms\tremaining: 1.03s\n",
      "389:\tlearn: 768.2960050\ttotal: 660ms\tremaining: 1.03s\n",
      "390:\tlearn: 766.4698815\ttotal: 661ms\tremaining: 1.03s\n",
      "391:\tlearn: 764.8219930\ttotal: 662ms\tremaining: 1.03s\n",
      "392:\tlearn: 763.3893764\ttotal: 664ms\tremaining: 1.02s\n",
      "393:\tlearn: 761.3653593\ttotal: 665ms\tremaining: 1.02s\n",
      "394:\tlearn: 760.7919728\ttotal: 667ms\tremaining: 1.02s\n",
      "395:\tlearn: 760.6223786\ttotal: 668ms\tremaining: 1.02s\n",
      "396:\tlearn: 758.5770625\ttotal: 669ms\tremaining: 1.02s\n",
      "397:\tlearn: 757.2521665\ttotal: 671ms\tremaining: 1.01s\n",
      "398:\tlearn: 756.3692360\ttotal: 673ms\tremaining: 1.01s\n",
      "399:\tlearn: 754.6953838\ttotal: 674ms\tremaining: 1.01s\n",
      "400:\tlearn: 754.3907395\ttotal: 676ms\tremaining: 1.01s\n",
      "401:\tlearn: 753.0766257\ttotal: 677ms\tremaining: 1.01s\n",
      "402:\tlearn: 751.8801787\ttotal: 678ms\tremaining: 1s\n",
      "403:\tlearn: 751.8315816\ttotal: 680ms\tremaining: 1s\n",
      "404:\tlearn: 751.0037049\ttotal: 681ms\tremaining: 1s\n",
      "405:\tlearn: 750.0546615\ttotal: 682ms\tremaining: 998ms\n",
      "406:\tlearn: 747.1415467\ttotal: 684ms\tremaining: 996ms\n",
      "407:\tlearn: 745.5442059\ttotal: 685ms\tremaining: 994ms\n",
      "408:\tlearn: 744.6511558\ttotal: 686ms\tremaining: 992ms\n",
      "409:\tlearn: 743.4009442\ttotal: 688ms\tremaining: 990ms\n",
      "410:\tlearn: 742.7590592\ttotal: 689ms\tremaining: 988ms\n",
      "411:\tlearn: 741.5482350\ttotal: 691ms\tremaining: 986ms\n",
      "412:\tlearn: 740.2659002\ttotal: 692ms\tremaining: 984ms\n",
      "413:\tlearn: 739.2034127\ttotal: 693ms\tremaining: 982ms\n",
      "414:\tlearn: 738.5038311\ttotal: 695ms\tremaining: 980ms\n",
      "415:\tlearn: 737.5283200\ttotal: 697ms\tremaining: 978ms\n",
      "416:\tlearn: 736.5017548\ttotal: 698ms\tremaining: 976ms\n",
      "417:\tlearn: 735.4892667\ttotal: 700ms\tremaining: 974ms\n",
      "418:\tlearn: 733.8926881\ttotal: 701ms\tremaining: 972ms\n",
      "419:\tlearn: 731.9372951\ttotal: 703ms\tremaining: 971ms\n",
      "420:\tlearn: 730.9045125\ttotal: 704ms\tremaining: 969ms\n",
      "421:\tlearn: 730.8595544\ttotal: 706ms\tremaining: 967ms\n",
      "422:\tlearn: 728.4859790\ttotal: 708ms\tremaining: 965ms\n",
      "423:\tlearn: 727.6490957\ttotal: 709ms\tremaining: 964ms\n",
      "424:\tlearn: 726.5218966\ttotal: 711ms\tremaining: 962ms\n",
      "425:\tlearn: 723.7510845\ttotal: 712ms\tremaining: 960ms\n",
      "426:\tlearn: 720.9012280\ttotal: 714ms\tremaining: 958ms\n",
      "427:\tlearn: 720.0564655\ttotal: 715ms\tremaining: 956ms\n",
      "428:\tlearn: 719.0187979\ttotal: 717ms\tremaining: 954ms\n",
      "429:\tlearn: 717.8260129\ttotal: 718ms\tremaining: 952ms\n",
      "430:\tlearn: 716.8502408\ttotal: 720ms\tremaining: 950ms\n",
      "431:\tlearn: 716.0878029\ttotal: 721ms\tremaining: 948ms\n",
      "432:\tlearn: 715.2778078\ttotal: 723ms\tremaining: 946ms\n",
      "433:\tlearn: 714.2014348\ttotal: 724ms\tremaining: 944ms\n",
      "434:\tlearn: 713.0626336\ttotal: 726ms\tremaining: 942ms\n",
      "435:\tlearn: 712.3551870\ttotal: 727ms\tremaining: 940ms\n",
      "436:\tlearn: 710.7151813\ttotal: 729ms\tremaining: 939ms\n",
      "437:\tlearn: 709.8188284\ttotal: 730ms\tremaining: 937ms\n",
      "438:\tlearn: 707.6365575\ttotal: 732ms\tremaining: 935ms\n",
      "439:\tlearn: 706.7707562\ttotal: 733ms\tremaining: 933ms\n",
      "440:\tlearn: 705.8041576\ttotal: 735ms\tremaining: 932ms\n",
      "441:\tlearn: 703.6825724\ttotal: 737ms\tremaining: 930ms\n",
      "442:\tlearn: 701.7112509\ttotal: 738ms\tremaining: 928ms\n",
      "443:\tlearn: 700.4462306\ttotal: 740ms\tremaining: 926ms\n",
      "444:\tlearn: 699.1895393\ttotal: 741ms\tremaining: 925ms\n",
      "445:\tlearn: 698.2843964\ttotal: 743ms\tremaining: 923ms\n",
      "446:\tlearn: 697.7707785\ttotal: 745ms\tremaining: 922ms\n",
      "447:\tlearn: 697.3503886\ttotal: 746ms\tremaining: 920ms\n",
      "448:\tlearn: 696.5314834\ttotal: 748ms\tremaining: 918ms\n",
      "449:\tlearn: 696.4920378\ttotal: 750ms\tremaining: 917ms\n",
      "450:\tlearn: 695.4035288\ttotal: 751ms\tremaining: 915ms\n",
      "451:\tlearn: 694.2852353\ttotal: 753ms\tremaining: 913ms\n",
      "452:\tlearn: 692.7603787\ttotal: 754ms\tremaining: 911ms\n",
      "453:\tlearn: 691.0552556\ttotal: 756ms\tremaining: 909ms\n",
      "454:\tlearn: 690.6518693\ttotal: 757ms\tremaining: 907ms\n",
      "455:\tlearn: 689.1331961\ttotal: 759ms\tremaining: 905ms\n",
      "456:\tlearn: 688.1653881\ttotal: 760ms\tremaining: 903ms\n",
      "457:\tlearn: 687.3733012\ttotal: 762ms\tremaining: 901ms\n",
      "458:\tlearn: 685.8754797\ttotal: 763ms\tremaining: 899ms\n",
      "459:\tlearn: 685.1846501\ttotal: 765ms\tremaining: 898ms\n",
      "460:\tlearn: 684.0626346\ttotal: 766ms\tremaining: 896ms\n",
      "461:\tlearn: 683.4472207\ttotal: 768ms\tremaining: 894ms\n",
      "462:\tlearn: 682.7630228\ttotal: 769ms\tremaining: 892ms\n",
      "463:\tlearn: 682.6743810\ttotal: 771ms\tremaining: 890ms\n",
      "464:\tlearn: 682.1561864\ttotal: 772ms\tremaining: 889ms\n",
      "465:\tlearn: 681.5832207\ttotal: 774ms\tremaining: 887ms\n",
      "466:\tlearn: 680.5029140\ttotal: 776ms\tremaining: 885ms\n",
      "467:\tlearn: 678.3061167\ttotal: 777ms\tremaining: 884ms\n",
      "468:\tlearn: 676.7783704\ttotal: 779ms\tremaining: 882ms\n",
      "469:\tlearn: 675.7422951\ttotal: 780ms\tremaining: 880ms\n",
      "470:\tlearn: 674.6298068\ttotal: 782ms\tremaining: 878ms\n",
      "471:\tlearn: 672.9237349\ttotal: 783ms\tremaining: 876ms\n",
      "472:\tlearn: 672.3911365\ttotal: 785ms\tremaining: 875ms\n",
      "473:\tlearn: 671.3043758\ttotal: 786ms\tremaining: 873ms\n",
      "474:\tlearn: 670.2880547\ttotal: 788ms\tremaining: 871ms\n",
      "475:\tlearn: 669.0036719\ttotal: 790ms\tremaining: 869ms\n",
      "476:\tlearn: 668.5192002\ttotal: 791ms\tremaining: 867ms\n",
      "477:\tlearn: 667.5581458\ttotal: 793ms\tremaining: 866ms\n",
      "478:\tlearn: 666.7394868\ttotal: 794ms\tremaining: 864ms\n",
      "479:\tlearn: 665.3073760\ttotal: 796ms\tremaining: 862ms\n",
      "480:\tlearn: 662.9353163\ttotal: 797ms\tremaining: 860ms\n",
      "481:\tlearn: 661.8456244\ttotal: 798ms\tremaining: 858ms\n",
      "482:\tlearn: 661.2827182\ttotal: 800ms\tremaining: 856ms\n",
      "483:\tlearn: 659.8992855\ttotal: 801ms\tremaining: 854ms\n",
      "484:\tlearn: 659.3718118\ttotal: 803ms\tremaining: 852ms\n",
      "485:\tlearn: 658.7906304\ttotal: 804ms\tremaining: 850ms\n",
      "486:\tlearn: 657.7023775\ttotal: 805ms\tremaining: 848ms\n",
      "487:\tlearn: 657.0663374\ttotal: 807ms\tremaining: 847ms\n",
      "488:\tlearn: 654.7481316\ttotal: 808ms\tremaining: 845ms\n",
      "489:\tlearn: 653.8771549\ttotal: 810ms\tremaining: 843ms\n",
      "490:\tlearn: 652.5562365\ttotal: 812ms\tremaining: 841ms\n",
      "491:\tlearn: 651.1154093\ttotal: 813ms\tremaining: 840ms\n",
      "492:\tlearn: 650.6260005\ttotal: 815ms\tremaining: 838ms\n",
      "493:\tlearn: 649.8994762\ttotal: 816ms\tremaining: 836ms\n",
      "494:\tlearn: 649.5748503\ttotal: 818ms\tremaining: 834ms\n",
      "495:\tlearn: 648.6831524\ttotal: 819ms\tremaining: 833ms\n",
      "496:\tlearn: 647.8167552\ttotal: 821ms\tremaining: 831ms\n",
      "497:\tlearn: 646.8075031\ttotal: 823ms\tremaining: 829ms\n",
      "498:\tlearn: 645.5500474\ttotal: 824ms\tremaining: 827ms\n",
      "499:\tlearn: 644.9825122\ttotal: 826ms\tremaining: 826ms\n",
      "500:\tlearn: 644.2461562\ttotal: 827ms\tremaining: 824ms\n",
      "501:\tlearn: 643.1900732\ttotal: 829ms\tremaining: 822ms\n",
      "502:\tlearn: 642.3103088\ttotal: 830ms\tremaining: 821ms\n",
      "503:\tlearn: 641.8487478\ttotal: 832ms\tremaining: 819ms\n",
      "504:\tlearn: 641.1633293\ttotal: 834ms\tremaining: 817ms\n",
      "505:\tlearn: 640.4177804\ttotal: 835ms\tremaining: 815ms\n",
      "506:\tlearn: 639.8523628\ttotal: 837ms\tremaining: 814ms\n",
      "507:\tlearn: 639.2953247\ttotal: 838ms\tremaining: 812ms\n",
      "508:\tlearn: 638.0460507\ttotal: 840ms\tremaining: 810ms\n",
      "509:\tlearn: 637.6106066\ttotal: 841ms\tremaining: 808ms\n",
      "510:\tlearn: 636.9037505\ttotal: 843ms\tremaining: 806ms\n",
      "511:\tlearn: 635.6792452\ttotal: 844ms\tremaining: 805ms\n",
      "512:\tlearn: 635.3182581\ttotal: 846ms\tremaining: 803ms\n",
      "513:\tlearn: 634.6255693\ttotal: 847ms\tremaining: 801ms\n",
      "514:\tlearn: 633.7941468\ttotal: 849ms\tremaining: 799ms\n",
      "515:\tlearn: 633.0087995\ttotal: 851ms\tremaining: 798ms\n",
      "516:\tlearn: 632.2822120\ttotal: 852ms\tremaining: 796ms\n",
      "517:\tlearn: 630.8068487\ttotal: 854ms\tremaining: 794ms\n",
      "518:\tlearn: 630.2032739\ttotal: 855ms\tremaining: 793ms\n",
      "519:\tlearn: 629.5240471\ttotal: 857ms\tremaining: 791ms\n",
      "520:\tlearn: 628.7902365\ttotal: 858ms\tremaining: 789ms\n",
      "521:\tlearn: 628.1169133\ttotal: 860ms\tremaining: 787ms\n",
      "522:\tlearn: 627.2278764\ttotal: 861ms\tremaining: 786ms\n",
      "523:\tlearn: 626.3534480\ttotal: 863ms\tremaining: 784ms\n",
      "524:\tlearn: 624.2043752\ttotal: 865ms\tremaining: 782ms\n",
      "525:\tlearn: 623.2227238\ttotal: 866ms\tremaining: 780ms\n",
      "526:\tlearn: 622.3051732\ttotal: 868ms\tremaining: 779ms\n",
      "527:\tlearn: 621.8155068\ttotal: 869ms\tremaining: 777ms\n",
      "528:\tlearn: 621.3413910\ttotal: 871ms\tremaining: 775ms\n",
      "529:\tlearn: 620.3282859\ttotal: 872ms\tremaining: 774ms\n",
      "530:\tlearn: 619.3594402\ttotal: 874ms\tremaining: 772ms\n",
      "531:\tlearn: 618.2070335\ttotal: 876ms\tremaining: 770ms\n",
      "532:\tlearn: 617.2374304\ttotal: 878ms\tremaining: 769ms\n",
      "533:\tlearn: 616.6190282\ttotal: 879ms\tremaining: 767ms\n",
      "534:\tlearn: 614.7687315\ttotal: 881ms\tremaining: 766ms\n",
      "535:\tlearn: 613.6079407\ttotal: 882ms\tremaining: 764ms\n",
      "536:\tlearn: 612.6786294\ttotal: 884ms\tremaining: 762ms\n",
      "537:\tlearn: 611.8084805\ttotal: 885ms\tremaining: 760ms\n",
      "538:\tlearn: 610.0263973\ttotal: 887ms\tremaining: 759ms\n",
      "539:\tlearn: 609.5090425\ttotal: 889ms\tremaining: 757ms\n",
      "540:\tlearn: 608.7969926\ttotal: 890ms\tremaining: 755ms\n",
      "541:\tlearn: 608.2969373\ttotal: 892ms\tremaining: 753ms\n",
      "542:\tlearn: 607.2168448\ttotal: 893ms\tremaining: 752ms\n",
      "543:\tlearn: 606.3334486\ttotal: 895ms\tremaining: 750ms\n",
      "544:\tlearn: 605.8734296\ttotal: 897ms\tremaining: 748ms\n",
      "545:\tlearn: 605.0010333\ttotal: 898ms\tremaining: 747ms\n",
      "546:\tlearn: 604.7263054\ttotal: 900ms\tremaining: 745ms\n",
      "547:\tlearn: 603.9370369\ttotal: 901ms\tremaining: 743ms\n",
      "548:\tlearn: 603.3426508\ttotal: 903ms\tremaining: 742ms\n",
      "549:\tlearn: 603.1568678\ttotal: 904ms\tremaining: 740ms\n",
      "550:\tlearn: 602.7204762\ttotal: 906ms\tremaining: 738ms\n",
      "551:\tlearn: 601.5019590\ttotal: 907ms\tremaining: 736ms\n",
      "552:\tlearn: 600.5349788\ttotal: 909ms\tremaining: 734ms\n",
      "553:\tlearn: 600.1854135\ttotal: 910ms\tremaining: 733ms\n",
      "554:\tlearn: 599.7183223\ttotal: 911ms\tremaining: 731ms\n",
      "555:\tlearn: 599.0465153\ttotal: 913ms\tremaining: 729ms\n",
      "556:\tlearn: 597.8177263\ttotal: 915ms\tremaining: 727ms\n",
      "557:\tlearn: 597.5957419\ttotal: 916ms\tremaining: 726ms\n",
      "558:\tlearn: 597.0885789\ttotal: 918ms\tremaining: 724ms\n",
      "559:\tlearn: 596.4719427\ttotal: 919ms\tremaining: 722ms\n",
      "560:\tlearn: 596.0114574\ttotal: 921ms\tremaining: 720ms\n",
      "561:\tlearn: 595.8313244\ttotal: 922ms\tremaining: 719ms\n",
      "562:\tlearn: 595.3845815\ttotal: 924ms\tremaining: 717ms\n",
      "563:\tlearn: 594.8981852\ttotal: 925ms\tremaining: 715ms\n",
      "564:\tlearn: 594.4306169\ttotal: 927ms\tremaining: 714ms\n",
      "565:\tlearn: 593.7559546\ttotal: 928ms\tremaining: 712ms\n",
      "566:\tlearn: 592.9488947\ttotal: 930ms\tremaining: 710ms\n",
      "567:\tlearn: 592.1300159\ttotal: 931ms\tremaining: 708ms\n",
      "568:\tlearn: 591.7594474\ttotal: 933ms\tremaining: 707ms\n",
      "569:\tlearn: 590.7993006\ttotal: 935ms\tremaining: 705ms\n",
      "570:\tlearn: 590.0364030\ttotal: 937ms\tremaining: 704ms\n",
      "571:\tlearn: 588.4229576\ttotal: 939ms\tremaining: 703ms\n",
      "572:\tlearn: 587.0879760\ttotal: 941ms\tremaining: 701ms\n",
      "573:\tlearn: 586.6884004\ttotal: 943ms\tremaining: 700ms\n",
      "574:\tlearn: 586.0570920\ttotal: 944ms\tremaining: 698ms\n",
      "575:\tlearn: 585.1889816\ttotal: 946ms\tremaining: 696ms\n",
      "576:\tlearn: 583.9893886\ttotal: 948ms\tremaining: 695ms\n",
      "577:\tlearn: 583.4879053\ttotal: 949ms\tremaining: 693ms\n",
      "578:\tlearn: 582.7595710\ttotal: 951ms\tremaining: 692ms\n",
      "579:\tlearn: 581.7657325\ttotal: 953ms\tremaining: 690ms\n",
      "580:\tlearn: 580.9220420\ttotal: 954ms\tremaining: 688ms\n",
      "581:\tlearn: 580.3833331\ttotal: 956ms\tremaining: 686ms\n",
      "582:\tlearn: 579.5708644\ttotal: 957ms\tremaining: 685ms\n",
      "583:\tlearn: 578.9271933\ttotal: 959ms\tremaining: 683ms\n",
      "584:\tlearn: 578.3396867\ttotal: 960ms\tremaining: 681ms\n",
      "585:\tlearn: 577.7449772\ttotal: 962ms\tremaining: 680ms\n",
      "586:\tlearn: 577.1753151\ttotal: 964ms\tremaining: 678ms\n",
      "587:\tlearn: 576.9126076\ttotal: 965ms\tremaining: 676ms\n",
      "588:\tlearn: 576.4806525\ttotal: 967ms\tremaining: 675ms\n",
      "589:\tlearn: 575.9429301\ttotal: 968ms\tremaining: 673ms\n",
      "590:\tlearn: 575.4265077\ttotal: 970ms\tremaining: 671ms\n",
      "591:\tlearn: 574.8475057\ttotal: 971ms\tremaining: 669ms\n",
      "592:\tlearn: 574.4625877\ttotal: 973ms\tremaining: 668ms\n",
      "593:\tlearn: 574.0267188\ttotal: 978ms\tremaining: 669ms\n",
      "594:\tlearn: 573.5593972\ttotal: 980ms\tremaining: 667ms\n",
      "595:\tlearn: 572.7295393\ttotal: 982ms\tremaining: 665ms\n",
      "596:\tlearn: 572.1513697\ttotal: 983ms\tremaining: 664ms\n",
      "597:\tlearn: 571.4723721\ttotal: 985ms\tremaining: 662ms\n",
      "598:\tlearn: 571.0342438\ttotal: 986ms\tremaining: 660ms\n",
      "599:\tlearn: 570.2817339\ttotal: 988ms\tremaining: 659ms\n",
      "600:\tlearn: 569.8702105\ttotal: 990ms\tremaining: 657ms\n",
      "601:\tlearn: 569.2976364\ttotal: 991ms\tremaining: 655ms\n",
      "602:\tlearn: 568.2464820\ttotal: 993ms\tremaining: 654ms\n",
      "603:\tlearn: 567.8736171\ttotal: 994ms\tremaining: 652ms\n",
      "604:\tlearn: 567.4872580\ttotal: 996ms\tremaining: 650ms\n",
      "605:\tlearn: 567.1582090\ttotal: 997ms\tremaining: 648ms\n",
      "606:\tlearn: 566.4692626\ttotal: 999ms\tremaining: 647ms\n",
      "607:\tlearn: 565.8344064\ttotal: 1s\tremaining: 645ms\n",
      "608:\tlearn: 565.2417936\ttotal: 1s\tremaining: 643ms\n",
      "609:\tlearn: 564.6753459\ttotal: 1s\tremaining: 641ms\n",
      "610:\tlearn: 562.9568396\ttotal: 1s\tremaining: 640ms\n",
      "611:\tlearn: 561.4569362\ttotal: 1.01s\tremaining: 638ms\n",
      "612:\tlearn: 559.8238910\ttotal: 1.01s\tremaining: 636ms\n",
      "613:\tlearn: 558.7055230\ttotal: 1.01s\tremaining: 635ms\n",
      "614:\tlearn: 556.7245073\ttotal: 1.01s\tremaining: 633ms\n",
      "615:\tlearn: 556.2590938\ttotal: 1.01s\tremaining: 631ms\n",
      "616:\tlearn: 555.9605613\ttotal: 1.01s\tremaining: 629ms\n",
      "617:\tlearn: 555.1407460\ttotal: 1.01s\tremaining: 628ms\n",
      "618:\tlearn: 554.7541874\ttotal: 1.02s\tremaining: 626ms\n",
      "619:\tlearn: 554.2883090\ttotal: 1.02s\tremaining: 624ms\n",
      "620:\tlearn: 553.2326350\ttotal: 1.02s\tremaining: 623ms\n",
      "621:\tlearn: 552.9537821\ttotal: 1.02s\tremaining: 621ms\n",
      "622:\tlearn: 552.3944023\ttotal: 1.02s\tremaining: 619ms\n",
      "623:\tlearn: 551.3933291\ttotal: 1.02s\tremaining: 617ms\n",
      "624:\tlearn: 550.3192219\ttotal: 1.03s\tremaining: 616ms\n",
      "625:\tlearn: 548.4999451\ttotal: 1.03s\tremaining: 614ms\n",
      "626:\tlearn: 548.2523686\ttotal: 1.03s\tremaining: 612ms\n",
      "627:\tlearn: 547.1229807\ttotal: 1.03s\tremaining: 611ms\n",
      "628:\tlearn: 546.8099074\ttotal: 1.03s\tremaining: 609ms\n",
      "629:\tlearn: 545.7122470\ttotal: 1.03s\tremaining: 607ms\n",
      "630:\tlearn: 545.2190647\ttotal: 1.03s\tremaining: 605ms\n",
      "631:\tlearn: 543.7258632\ttotal: 1.04s\tremaining: 604ms\n",
      "632:\tlearn: 543.1145907\ttotal: 1.04s\tremaining: 602ms\n",
      "633:\tlearn: 542.7460681\ttotal: 1.04s\tremaining: 600ms\n",
      "634:\tlearn: 542.1124290\ttotal: 1.04s\tremaining: 598ms\n",
      "635:\tlearn: 541.1613153\ttotal: 1.04s\tremaining: 597ms\n",
      "636:\tlearn: 540.5454737\ttotal: 1.04s\tremaining: 595ms\n",
      "637:\tlearn: 540.1919641\ttotal: 1.04s\tremaining: 593ms\n",
      "638:\tlearn: 539.5941147\ttotal: 1.05s\tremaining: 591ms\n",
      "639:\tlearn: 539.2848788\ttotal: 1.05s\tremaining: 590ms\n",
      "640:\tlearn: 538.3580826\ttotal: 1.05s\tremaining: 588ms\n",
      "641:\tlearn: 537.7856837\ttotal: 1.05s\tremaining: 587ms\n",
      "642:\tlearn: 537.3271732\ttotal: 1.05s\tremaining: 585ms\n",
      "643:\tlearn: 537.1612938\ttotal: 1.05s\tremaining: 584ms\n",
      "644:\tlearn: 536.3525875\ttotal: 1.06s\tremaining: 582ms\n",
      "645:\tlearn: 535.1552994\ttotal: 1.06s\tremaining: 580ms\n",
      "646:\tlearn: 534.0758262\ttotal: 1.06s\tremaining: 578ms\n",
      "647:\tlearn: 533.2461010\ttotal: 1.06s\tremaining: 577ms\n",
      "648:\tlearn: 532.8244059\ttotal: 1.06s\tremaining: 575ms\n",
      "649:\tlearn: 532.4789313\ttotal: 1.06s\tremaining: 573ms\n",
      "650:\tlearn: 532.1193370\ttotal: 1.06s\tremaining: 571ms\n",
      "651:\tlearn: 531.0806315\ttotal: 1.07s\tremaining: 570ms\n",
      "652:\tlearn: 529.6312941\ttotal: 1.07s\tremaining: 568ms\n",
      "653:\tlearn: 529.3045986\ttotal: 1.07s\tremaining: 566ms\n",
      "654:\tlearn: 528.6001300\ttotal: 1.07s\tremaining: 565ms\n",
      "655:\tlearn: 528.3197472\ttotal: 1.07s\tremaining: 563ms\n",
      "656:\tlearn: 527.9539803\ttotal: 1.07s\tremaining: 561ms\n",
      "657:\tlearn: 527.1352808\ttotal: 1.08s\tremaining: 560ms\n",
      "658:\tlearn: 526.5570129\ttotal: 1.08s\tremaining: 558ms\n",
      "659:\tlearn: 525.5373941\ttotal: 1.08s\tremaining: 556ms\n",
      "660:\tlearn: 524.0344277\ttotal: 1.08s\tremaining: 555ms\n",
      "661:\tlearn: 523.9096506\ttotal: 1.08s\tremaining: 553ms\n",
      "662:\tlearn: 523.4773684\ttotal: 1.08s\tremaining: 551ms\n",
      "663:\tlearn: 522.6325780\ttotal: 1.09s\tremaining: 550ms\n",
      "664:\tlearn: 522.0206177\ttotal: 1.09s\tremaining: 548ms\n",
      "665:\tlearn: 520.6971381\ttotal: 1.09s\tremaining: 546ms\n",
      "666:\tlearn: 520.1864373\ttotal: 1.09s\tremaining: 544ms\n",
      "667:\tlearn: 519.0485122\ttotal: 1.09s\tremaining: 543ms\n",
      "668:\tlearn: 518.7087668\ttotal: 1.09s\tremaining: 541ms\n",
      "669:\tlearn: 518.1234625\ttotal: 1.09s\tremaining: 539ms\n",
      "670:\tlearn: 516.8021396\ttotal: 1.1s\tremaining: 538ms\n",
      "671:\tlearn: 515.6614837\ttotal: 1.1s\tremaining: 536ms\n",
      "672:\tlearn: 515.0984551\ttotal: 1.1s\tremaining: 534ms\n",
      "673:\tlearn: 514.8159595\ttotal: 1.1s\tremaining: 532ms\n",
      "674:\tlearn: 514.0070079\ttotal: 1.1s\tremaining: 531ms\n",
      "675:\tlearn: 513.6301101\ttotal: 1.1s\tremaining: 529ms\n",
      "676:\tlearn: 513.3504056\ttotal: 1.1s\tremaining: 527ms\n",
      "677:\tlearn: 512.4498506\ttotal: 1.11s\tremaining: 525ms\n",
      "678:\tlearn: 512.1074237\ttotal: 1.11s\tremaining: 524ms\n",
      "679:\tlearn: 511.5167048\ttotal: 1.11s\tremaining: 522ms\n",
      "680:\tlearn: 510.6367510\ttotal: 1.11s\tremaining: 520ms\n",
      "681:\tlearn: 510.2624410\ttotal: 1.11s\tremaining: 519ms\n",
      "682:\tlearn: 509.6775043\ttotal: 1.11s\tremaining: 517ms\n",
      "683:\tlearn: 509.2258079\ttotal: 1.11s\tremaining: 515ms\n",
      "684:\tlearn: 508.8437798\ttotal: 1.12s\tremaining: 514ms\n",
      "685:\tlearn: 508.4305370\ttotal: 1.12s\tremaining: 512ms\n",
      "686:\tlearn: 507.7511378\ttotal: 1.12s\tremaining: 510ms\n",
      "687:\tlearn: 507.2628941\ttotal: 1.12s\tremaining: 509ms\n",
      "688:\tlearn: 506.5918716\ttotal: 1.12s\tremaining: 507ms\n",
      "689:\tlearn: 506.0992976\ttotal: 1.13s\tremaining: 506ms\n",
      "690:\tlearn: 505.0799112\ttotal: 1.13s\tremaining: 504ms\n",
      "691:\tlearn: 504.1212530\ttotal: 1.13s\tremaining: 502ms\n",
      "692:\tlearn: 503.5230203\ttotal: 1.13s\tremaining: 501ms\n",
      "693:\tlearn: 502.2607292\ttotal: 1.13s\tremaining: 499ms\n",
      "694:\tlearn: 501.7997894\ttotal: 1.13s\tremaining: 497ms\n",
      "695:\tlearn: 500.5145121\ttotal: 1.13s\tremaining: 495ms\n",
      "696:\tlearn: 500.1979011\ttotal: 1.14s\tremaining: 494ms\n",
      "697:\tlearn: 499.1439183\ttotal: 1.14s\tremaining: 492ms\n",
      "698:\tlearn: 498.3417816\ttotal: 1.14s\tremaining: 490ms\n",
      "699:\tlearn: 497.9080283\ttotal: 1.14s\tremaining: 489ms\n",
      "700:\tlearn: 497.5798123\ttotal: 1.14s\tremaining: 487ms\n",
      "701:\tlearn: 497.0150487\ttotal: 1.14s\tremaining: 485ms\n",
      "702:\tlearn: 496.0677659\ttotal: 1.15s\tremaining: 484ms\n",
      "703:\tlearn: 495.3838680\ttotal: 1.15s\tremaining: 482ms\n",
      "704:\tlearn: 495.0742155\ttotal: 1.15s\tremaining: 480ms\n",
      "705:\tlearn: 494.3166795\ttotal: 1.15s\tremaining: 479ms\n",
      "706:\tlearn: 493.9310050\ttotal: 1.15s\tremaining: 477ms\n",
      "707:\tlearn: 493.4841980\ttotal: 1.15s\tremaining: 475ms\n",
      "708:\tlearn: 492.6222206\ttotal: 1.15s\tremaining: 474ms\n",
      "709:\tlearn: 492.1452518\ttotal: 1.16s\tremaining: 472ms\n",
      "710:\tlearn: 491.9827099\ttotal: 1.16s\tremaining: 470ms\n",
      "711:\tlearn: 490.9900400\ttotal: 1.16s\tremaining: 469ms\n",
      "712:\tlearn: 490.6621111\ttotal: 1.16s\tremaining: 467ms\n",
      "713:\tlearn: 489.6969417\ttotal: 1.16s\tremaining: 465ms\n",
      "714:\tlearn: 489.4041089\ttotal: 1.16s\tremaining: 464ms\n",
      "715:\tlearn: 488.8786286\ttotal: 1.16s\tremaining: 462ms\n",
      "716:\tlearn: 488.6935115\ttotal: 1.17s\tremaining: 460ms\n",
      "717:\tlearn: 488.2595470\ttotal: 1.17s\tremaining: 459ms\n",
      "718:\tlearn: 487.7517709\ttotal: 1.17s\tremaining: 457ms\n",
      "719:\tlearn: 486.9377549\ttotal: 1.17s\tremaining: 456ms\n",
      "720:\tlearn: 486.1935648\ttotal: 1.17s\tremaining: 454ms\n",
      "721:\tlearn: 485.8630846\ttotal: 1.17s\tremaining: 452ms\n",
      "722:\tlearn: 485.5304651\ttotal: 1.18s\tremaining: 451ms\n",
      "723:\tlearn: 485.1637246\ttotal: 1.18s\tremaining: 449ms\n",
      "724:\tlearn: 484.8438885\ttotal: 1.18s\tremaining: 447ms\n",
      "725:\tlearn: 484.5113057\ttotal: 1.18s\tremaining: 446ms\n",
      "726:\tlearn: 483.7453355\ttotal: 1.18s\tremaining: 444ms\n",
      "727:\tlearn: 482.8002775\ttotal: 1.18s\tremaining: 443ms\n",
      "728:\tlearn: 481.8935448\ttotal: 1.19s\tremaining: 441ms\n",
      "729:\tlearn: 481.3918587\ttotal: 1.19s\tremaining: 439ms\n",
      "730:\tlearn: 481.0503643\ttotal: 1.19s\tremaining: 438ms\n",
      "731:\tlearn: 480.7316886\ttotal: 1.19s\tremaining: 436ms\n",
      "732:\tlearn: 480.3553185\ttotal: 1.19s\tremaining: 435ms\n",
      "733:\tlearn: 479.7598397\ttotal: 1.19s\tremaining: 433ms\n",
      "734:\tlearn: 479.1884950\ttotal: 1.2s\tremaining: 431ms\n",
      "735:\tlearn: 478.9210227\ttotal: 1.2s\tremaining: 430ms\n",
      "736:\tlearn: 478.4725308\ttotal: 1.2s\tremaining: 428ms\n",
      "737:\tlearn: 477.8023301\ttotal: 1.2s\tremaining: 426ms\n",
      "738:\tlearn: 477.0185535\ttotal: 1.2s\tremaining: 425ms\n",
      "739:\tlearn: 476.6684362\ttotal: 1.2s\tremaining: 423ms\n",
      "740:\tlearn: 476.2609103\ttotal: 1.21s\tremaining: 421ms\n",
      "741:\tlearn: 475.8497293\ttotal: 1.21s\tremaining: 420ms\n",
      "742:\tlearn: 475.5236908\ttotal: 1.21s\tremaining: 418ms\n",
      "743:\tlearn: 474.2833176\ttotal: 1.21s\tremaining: 417ms\n",
      "744:\tlearn: 473.6982093\ttotal: 1.21s\tremaining: 415ms\n",
      "745:\tlearn: 472.8798535\ttotal: 1.21s\tremaining: 413ms\n",
      "746:\tlearn: 472.0437382\ttotal: 1.22s\tremaining: 412ms\n",
      "747:\tlearn: 471.3282989\ttotal: 1.22s\tremaining: 410ms\n",
      "748:\tlearn: 470.9173946\ttotal: 1.22s\tremaining: 409ms\n",
      "749:\tlearn: 470.6441015\ttotal: 1.22s\tremaining: 407ms\n",
      "750:\tlearn: 469.6410586\ttotal: 1.22s\tremaining: 405ms\n",
      "751:\tlearn: 469.2970484\ttotal: 1.22s\tremaining: 404ms\n",
      "752:\tlearn: 469.0568398\ttotal: 1.23s\tremaining: 402ms\n",
      "753:\tlearn: 468.8281143\ttotal: 1.23s\tremaining: 400ms\n",
      "754:\tlearn: 468.3401934\ttotal: 1.23s\tremaining: 399ms\n",
      "755:\tlearn: 467.7274803\ttotal: 1.23s\tremaining: 397ms\n",
      "756:\tlearn: 467.0062422\ttotal: 1.23s\tremaining: 395ms\n",
      "757:\tlearn: 466.4442482\ttotal: 1.23s\tremaining: 394ms\n",
      "758:\tlearn: 466.2140454\ttotal: 1.24s\tremaining: 392ms\n",
      "759:\tlearn: 465.7647086\ttotal: 1.24s\tremaining: 391ms\n",
      "760:\tlearn: 465.4487760\ttotal: 1.24s\tremaining: 389ms\n",
      "761:\tlearn: 464.0292521\ttotal: 1.24s\tremaining: 387ms\n",
      "762:\tlearn: 463.5161849\ttotal: 1.24s\tremaining: 386ms\n",
      "763:\tlearn: 462.2110083\ttotal: 1.24s\tremaining: 384ms\n",
      "764:\tlearn: 461.1168171\ttotal: 1.24s\tremaining: 382ms\n",
      "765:\tlearn: 460.5612072\ttotal: 1.25s\tremaining: 381ms\n",
      "766:\tlearn: 459.7189865\ttotal: 1.25s\tremaining: 379ms\n",
      "767:\tlearn: 459.1035647\ttotal: 1.25s\tremaining: 377ms\n",
      "768:\tlearn: 458.4719585\ttotal: 1.25s\tremaining: 376ms\n",
      "769:\tlearn: 458.0417993\ttotal: 1.25s\tremaining: 374ms\n",
      "770:\tlearn: 457.2041853\ttotal: 1.25s\tremaining: 372ms\n",
      "771:\tlearn: 456.6817648\ttotal: 1.25s\tremaining: 371ms\n",
      "772:\tlearn: 456.2607125\ttotal: 1.26s\tremaining: 369ms\n",
      "773:\tlearn: 455.7022314\ttotal: 1.26s\tremaining: 367ms\n",
      "774:\tlearn: 455.5377032\ttotal: 1.26s\tremaining: 366ms\n",
      "775:\tlearn: 454.9124720\ttotal: 1.26s\tremaining: 364ms\n",
      "776:\tlearn: 454.2266463\ttotal: 1.26s\tremaining: 362ms\n",
      "777:\tlearn: 453.3168074\ttotal: 1.26s\tremaining: 361ms\n",
      "778:\tlearn: 453.1234851\ttotal: 1.27s\tremaining: 359ms\n",
      "779:\tlearn: 452.5006299\ttotal: 1.27s\tremaining: 358ms\n",
      "780:\tlearn: 452.3288575\ttotal: 1.27s\tremaining: 356ms\n",
      "781:\tlearn: 451.8382169\ttotal: 1.27s\tremaining: 354ms\n",
      "782:\tlearn: 451.2041922\ttotal: 1.27s\tremaining: 353ms\n",
      "783:\tlearn: 450.7623707\ttotal: 1.27s\tremaining: 351ms\n",
      "784:\tlearn: 450.2546185\ttotal: 1.27s\tremaining: 349ms\n",
      "785:\tlearn: 449.6179165\ttotal: 1.28s\tremaining: 348ms\n",
      "786:\tlearn: 449.2027980\ttotal: 1.28s\tremaining: 346ms\n",
      "787:\tlearn: 448.7056514\ttotal: 1.28s\tremaining: 344ms\n",
      "788:\tlearn: 447.9145535\ttotal: 1.28s\tremaining: 343ms\n",
      "789:\tlearn: 447.8445497\ttotal: 1.28s\tremaining: 341ms\n",
      "790:\tlearn: 447.6323516\ttotal: 1.28s\tremaining: 339ms\n",
      "791:\tlearn: 447.3954001\ttotal: 1.28s\tremaining: 338ms\n",
      "792:\tlearn: 446.8613996\ttotal: 1.29s\tremaining: 336ms\n",
      "793:\tlearn: 446.7376641\ttotal: 1.29s\tremaining: 334ms\n",
      "794:\tlearn: 446.6010422\ttotal: 1.29s\tremaining: 333ms\n",
      "795:\tlearn: 445.9439140\ttotal: 1.29s\tremaining: 331ms\n",
      "796:\tlearn: 444.3624310\ttotal: 1.29s\tremaining: 329ms\n",
      "797:\tlearn: 444.1565920\ttotal: 1.29s\tremaining: 328ms\n",
      "798:\tlearn: 444.0686067\ttotal: 1.29s\tremaining: 326ms\n",
      "799:\tlearn: 443.5081003\ttotal: 1.3s\tremaining: 324ms\n",
      "800:\tlearn: 442.5997123\ttotal: 1.3s\tremaining: 323ms\n",
      "801:\tlearn: 441.9294376\ttotal: 1.3s\tremaining: 321ms\n",
      "802:\tlearn: 441.4885895\ttotal: 1.3s\tremaining: 319ms\n",
      "803:\tlearn: 441.2504301\ttotal: 1.3s\tremaining: 318ms\n",
      "804:\tlearn: 440.4219514\ttotal: 1.3s\tremaining: 316ms\n",
      "805:\tlearn: 439.7082054\ttotal: 1.31s\tremaining: 314ms\n",
      "806:\tlearn: 439.6500564\ttotal: 1.31s\tremaining: 313ms\n",
      "807:\tlearn: 438.8857158\ttotal: 1.31s\tremaining: 311ms\n",
      "808:\tlearn: 438.5187726\ttotal: 1.31s\tremaining: 310ms\n",
      "809:\tlearn: 438.0026560\ttotal: 1.31s\tremaining: 308ms\n",
      "810:\tlearn: 437.5643601\ttotal: 1.31s\tremaining: 306ms\n",
      "811:\tlearn: 437.1613225\ttotal: 1.32s\tremaining: 305ms\n",
      "812:\tlearn: 436.6766325\ttotal: 1.32s\tremaining: 303ms\n",
      "813:\tlearn: 435.2238486\ttotal: 1.32s\tremaining: 301ms\n",
      "814:\tlearn: 434.5487258\ttotal: 1.32s\tremaining: 300ms\n",
      "815:\tlearn: 433.1824831\ttotal: 1.32s\tremaining: 298ms\n",
      "816:\tlearn: 432.7693881\ttotal: 1.32s\tremaining: 296ms\n",
      "817:\tlearn: 432.5145798\ttotal: 1.32s\tremaining: 295ms\n",
      "818:\tlearn: 432.0679909\ttotal: 1.33s\tremaining: 293ms\n",
      "819:\tlearn: 431.4476487\ttotal: 1.33s\tremaining: 291ms\n",
      "820:\tlearn: 431.0319878\ttotal: 1.33s\tremaining: 290ms\n",
      "821:\tlearn: 430.3338156\ttotal: 1.33s\tremaining: 288ms\n",
      "822:\tlearn: 429.9642486\ttotal: 1.33s\tremaining: 287ms\n",
      "823:\tlearn: 429.7517971\ttotal: 1.33s\tremaining: 285ms\n",
      "824:\tlearn: 428.6492599\ttotal: 1.33s\tremaining: 283ms\n",
      "825:\tlearn: 428.2174431\ttotal: 1.34s\tremaining: 282ms\n",
      "826:\tlearn: 427.9085073\ttotal: 1.34s\tremaining: 280ms\n",
      "827:\tlearn: 427.0896633\ttotal: 1.34s\tremaining: 278ms\n",
      "828:\tlearn: 427.0581902\ttotal: 1.34s\tremaining: 277ms\n",
      "829:\tlearn: 426.6809965\ttotal: 1.34s\tremaining: 275ms\n",
      "830:\tlearn: 426.0428887\ttotal: 1.34s\tremaining: 273ms\n",
      "831:\tlearn: 425.7893886\ttotal: 1.34s\tremaining: 272ms\n",
      "832:\tlearn: 425.3741936\ttotal: 1.35s\tremaining: 270ms\n",
      "833:\tlearn: 424.9467510\ttotal: 1.35s\tremaining: 269ms\n",
      "834:\tlearn: 423.6569557\ttotal: 1.35s\tremaining: 267ms\n",
      "835:\tlearn: 423.3643016\ttotal: 1.35s\tremaining: 265ms\n",
      "836:\tlearn: 422.5663327\ttotal: 1.35s\tremaining: 264ms\n",
      "837:\tlearn: 421.2914227\ttotal: 1.35s\tremaining: 262ms\n",
      "838:\tlearn: 420.9417067\ttotal: 1.36s\tremaining: 260ms\n",
      "839:\tlearn: 420.7870194\ttotal: 1.36s\tremaining: 259ms\n",
      "840:\tlearn: 420.5511989\ttotal: 1.36s\tremaining: 257ms\n",
      "841:\tlearn: 420.3084872\ttotal: 1.36s\tremaining: 255ms\n",
      "842:\tlearn: 419.9559394\ttotal: 1.36s\tremaining: 254ms\n",
      "843:\tlearn: 419.2171094\ttotal: 1.36s\tremaining: 252ms\n",
      "844:\tlearn: 418.6395723\ttotal: 1.37s\tremaining: 251ms\n",
      "845:\tlearn: 418.4259722\ttotal: 1.37s\tremaining: 249ms\n",
      "846:\tlearn: 418.3062771\ttotal: 1.37s\tremaining: 247ms\n",
      "847:\tlearn: 417.9002128\ttotal: 1.37s\tremaining: 246ms\n",
      "848:\tlearn: 417.6269745\ttotal: 1.37s\tremaining: 244ms\n",
      "849:\tlearn: 417.3508526\ttotal: 1.37s\tremaining: 242ms\n",
      "850:\tlearn: 416.5373125\ttotal: 1.38s\tremaining: 241ms\n",
      "851:\tlearn: 415.3707176\ttotal: 1.38s\tremaining: 239ms\n",
      "852:\tlearn: 415.0557469\ttotal: 1.38s\tremaining: 238ms\n",
      "853:\tlearn: 414.4243877\ttotal: 1.38s\tremaining: 236ms\n",
      "854:\tlearn: 413.8633460\ttotal: 1.38s\tremaining: 234ms\n",
      "855:\tlearn: 413.6169434\ttotal: 1.38s\tremaining: 233ms\n",
      "856:\tlearn: 413.3438006\ttotal: 1.39s\tremaining: 231ms\n",
      "857:\tlearn: 412.7697855\ttotal: 1.39s\tremaining: 229ms\n",
      "858:\tlearn: 412.3448001\ttotal: 1.39s\tremaining: 228ms\n",
      "859:\tlearn: 412.0134558\ttotal: 1.39s\tremaining: 226ms\n",
      "860:\tlearn: 411.5831162\ttotal: 1.39s\tremaining: 225ms\n",
      "861:\tlearn: 411.0261049\ttotal: 1.39s\tremaining: 223ms\n",
      "862:\tlearn: 410.6288443\ttotal: 1.39s\tremaining: 221ms\n",
      "863:\tlearn: 409.9675556\ttotal: 1.4s\tremaining: 220ms\n",
      "864:\tlearn: 409.7815885\ttotal: 1.4s\tremaining: 218ms\n",
      "865:\tlearn: 409.2480907\ttotal: 1.4s\tremaining: 217ms\n",
      "866:\tlearn: 408.3262862\ttotal: 1.4s\tremaining: 215ms\n",
      "867:\tlearn: 407.9126769\ttotal: 1.4s\tremaining: 213ms\n",
      "868:\tlearn: 407.4332150\ttotal: 1.4s\tremaining: 212ms\n",
      "869:\tlearn: 406.8134068\ttotal: 1.41s\tremaining: 210ms\n",
      "870:\tlearn: 406.0137153\ttotal: 1.41s\tremaining: 208ms\n",
      "871:\tlearn: 405.6401740\ttotal: 1.41s\tremaining: 207ms\n",
      "872:\tlearn: 405.2069047\ttotal: 1.41s\tremaining: 205ms\n",
      "873:\tlearn: 404.3901411\ttotal: 1.41s\tremaining: 204ms\n",
      "874:\tlearn: 403.9875255\ttotal: 1.41s\tremaining: 202ms\n",
      "875:\tlearn: 403.7053302\ttotal: 1.41s\tremaining: 200ms\n",
      "876:\tlearn: 402.9747700\ttotal: 1.42s\tremaining: 199ms\n",
      "877:\tlearn: 402.4189406\ttotal: 1.42s\tremaining: 197ms\n",
      "878:\tlearn: 401.6068780\ttotal: 1.42s\tremaining: 195ms\n",
      "879:\tlearn: 401.1897669\ttotal: 1.42s\tremaining: 194ms\n",
      "880:\tlearn: 400.8420388\ttotal: 1.42s\tremaining: 192ms\n",
      "881:\tlearn: 400.1051837\ttotal: 1.42s\tremaining: 191ms\n",
      "882:\tlearn: 399.6243956\ttotal: 1.43s\tremaining: 189ms\n",
      "883:\tlearn: 399.1172318\ttotal: 1.43s\tremaining: 187ms\n",
      "884:\tlearn: 398.8809405\ttotal: 1.43s\tremaining: 186ms\n",
      "885:\tlearn: 398.4525363\ttotal: 1.43s\tremaining: 184ms\n",
      "886:\tlearn: 398.0651690\ttotal: 1.43s\tremaining: 182ms\n",
      "887:\tlearn: 397.7943345\ttotal: 1.43s\tremaining: 181ms\n",
      "888:\tlearn: 396.7519328\ttotal: 1.43s\tremaining: 179ms\n",
      "889:\tlearn: 396.4946511\ttotal: 1.44s\tremaining: 177ms\n",
      "890:\tlearn: 396.3062562\ttotal: 1.44s\tremaining: 176ms\n",
      "891:\tlearn: 395.8318691\ttotal: 1.44s\tremaining: 174ms\n",
      "892:\tlearn: 395.2737402\ttotal: 1.44s\tremaining: 173ms\n",
      "893:\tlearn: 394.5197534\ttotal: 1.44s\tremaining: 171ms\n",
      "894:\tlearn: 394.1574635\ttotal: 1.44s\tremaining: 169ms\n",
      "895:\tlearn: 393.6846534\ttotal: 1.44s\tremaining: 168ms\n",
      "896:\tlearn: 393.2868899\ttotal: 1.45s\tremaining: 166ms\n",
      "897:\tlearn: 392.5605867\ttotal: 1.45s\tremaining: 164ms\n",
      "898:\tlearn: 392.2217952\ttotal: 1.45s\tremaining: 163ms\n",
      "899:\tlearn: 391.9049013\ttotal: 1.45s\tremaining: 161ms\n",
      "900:\tlearn: 391.6596465\ttotal: 1.45s\tremaining: 160ms\n",
      "901:\tlearn: 391.0050763\ttotal: 1.45s\tremaining: 158ms\n",
      "902:\tlearn: 390.6477369\ttotal: 1.46s\tremaining: 156ms\n",
      "903:\tlearn: 390.0134661\ttotal: 1.46s\tremaining: 155ms\n",
      "904:\tlearn: 389.5509976\ttotal: 1.46s\tremaining: 153ms\n",
      "905:\tlearn: 389.4931773\ttotal: 1.46s\tremaining: 151ms\n",
      "906:\tlearn: 389.1164530\ttotal: 1.46s\tremaining: 150ms\n",
      "907:\tlearn: 388.7173215\ttotal: 1.46s\tremaining: 148ms\n",
      "908:\tlearn: 387.8841626\ttotal: 1.46s\tremaining: 147ms\n",
      "909:\tlearn: 387.4635425\ttotal: 1.47s\tremaining: 145ms\n",
      "910:\tlearn: 387.0461485\ttotal: 1.47s\tremaining: 143ms\n",
      "911:\tlearn: 386.2125632\ttotal: 1.47s\tremaining: 142ms\n",
      "912:\tlearn: 385.1985179\ttotal: 1.47s\tremaining: 140ms\n",
      "913:\tlearn: 385.0266953\ttotal: 1.47s\tremaining: 138ms\n",
      "914:\tlearn: 384.5969595\ttotal: 1.47s\tremaining: 137ms\n",
      "915:\tlearn: 383.5523508\ttotal: 1.47s\tremaining: 135ms\n",
      "916:\tlearn: 383.4783789\ttotal: 1.48s\tremaining: 134ms\n",
      "917:\tlearn: 383.3330935\ttotal: 1.48s\tremaining: 132ms\n",
      "918:\tlearn: 382.5294491\ttotal: 1.48s\tremaining: 130ms\n",
      "919:\tlearn: 381.8919196\ttotal: 1.48s\tremaining: 129ms\n",
      "920:\tlearn: 381.5181863\ttotal: 1.48s\tremaining: 127ms\n",
      "921:\tlearn: 381.3213616\ttotal: 1.48s\tremaining: 125ms\n",
      "922:\tlearn: 381.0988843\ttotal: 1.48s\tremaining: 124ms\n",
      "923:\tlearn: 380.4425045\ttotal: 1.49s\tremaining: 122ms\n",
      "924:\tlearn: 380.1596549\ttotal: 1.49s\tremaining: 121ms\n",
      "925:\tlearn: 379.8588248\ttotal: 1.49s\tremaining: 119ms\n",
      "926:\tlearn: 379.6378822\ttotal: 1.49s\tremaining: 117ms\n",
      "927:\tlearn: 378.8581097\ttotal: 1.49s\tremaining: 116ms\n",
      "928:\tlearn: 378.4720250\ttotal: 1.49s\tremaining: 114ms\n",
      "929:\tlearn: 378.2065830\ttotal: 1.49s\tremaining: 112ms\n",
      "930:\tlearn: 378.1525104\ttotal: 1.5s\tremaining: 111ms\n",
      "931:\tlearn: 377.8482234\ttotal: 1.5s\tremaining: 109ms\n",
      "932:\tlearn: 377.7000844\ttotal: 1.5s\tremaining: 108ms\n",
      "933:\tlearn: 377.4887395\ttotal: 1.5s\tremaining: 106ms\n",
      "934:\tlearn: 376.9762507\ttotal: 1.5s\tremaining: 105ms\n",
      "935:\tlearn: 376.2416475\ttotal: 1.5s\tremaining: 103ms\n",
      "936:\tlearn: 375.4604069\ttotal: 1.51s\tremaining: 101ms\n",
      "937:\tlearn: 375.1824298\ttotal: 1.51s\tremaining: 99.8ms\n",
      "938:\tlearn: 374.7865176\ttotal: 1.51s\tremaining: 98.2ms\n",
      "939:\tlearn: 374.5957970\ttotal: 1.51s\tremaining: 96.6ms\n",
      "940:\tlearn: 374.3210341\ttotal: 1.51s\tremaining: 95ms\n",
      "941:\tlearn: 374.2268263\ttotal: 1.52s\tremaining: 93.3ms\n",
      "942:\tlearn: 374.0747826\ttotal: 1.52s\tremaining: 91.7ms\n",
      "943:\tlearn: 373.8431656\ttotal: 1.52s\tremaining: 90.1ms\n",
      "944:\tlearn: 373.4613932\ttotal: 1.52s\tremaining: 88.5ms\n",
      "945:\tlearn: 372.8476298\ttotal: 1.52s\tremaining: 86.9ms\n",
      "946:\tlearn: 372.7696931\ttotal: 1.52s\tremaining: 85.3ms\n",
      "947:\tlearn: 372.3284615\ttotal: 1.52s\tremaining: 83.6ms\n",
      "948:\tlearn: 371.0742862\ttotal: 1.53s\tremaining: 82ms\n",
      "949:\tlearn: 370.0492762\ttotal: 1.53s\tremaining: 80.4ms\n",
      "950:\tlearn: 369.6642366\ttotal: 1.53s\tremaining: 78.8ms\n",
      "951:\tlearn: 369.2779965\ttotal: 1.53s\tremaining: 77.2ms\n",
      "952:\tlearn: 368.6417738\ttotal: 1.53s\tremaining: 75.6ms\n",
      "953:\tlearn: 368.3769429\ttotal: 1.53s\tremaining: 74ms\n",
      "954:\tlearn: 367.9227292\ttotal: 1.53s\tremaining: 72.4ms\n",
      "955:\tlearn: 366.8871625\ttotal: 1.54s\tremaining: 70.7ms\n",
      "956:\tlearn: 366.1164320\ttotal: 1.54s\tremaining: 69.1ms\n",
      "957:\tlearn: 365.7569759\ttotal: 1.54s\tremaining: 67.5ms\n",
      "958:\tlearn: 365.6390865\ttotal: 1.54s\tremaining: 65.9ms\n",
      "959:\tlearn: 365.2238124\ttotal: 1.54s\tremaining: 64.3ms\n",
      "960:\tlearn: 364.8576194\ttotal: 1.54s\tremaining: 62.7ms\n",
      "961:\tlearn: 364.7258524\ttotal: 1.54s\tremaining: 61.1ms\n",
      "962:\tlearn: 363.9986786\ttotal: 1.55s\tremaining: 59.4ms\n",
      "963:\tlearn: 363.9490235\ttotal: 1.55s\tremaining: 57.8ms\n",
      "964:\tlearn: 363.7720899\ttotal: 1.55s\tremaining: 56.2ms\n",
      "965:\tlearn: 363.7237197\ttotal: 1.55s\tremaining: 54.6ms\n",
      "966:\tlearn: 363.3318804\ttotal: 1.55s\tremaining: 53ms\n",
      "967:\tlearn: 363.0552972\ttotal: 1.55s\tremaining: 51.4ms\n",
      "968:\tlearn: 362.6632795\ttotal: 1.56s\tremaining: 49.8ms\n",
      "969:\tlearn: 362.2187534\ttotal: 1.56s\tremaining: 48.2ms\n",
      "970:\tlearn: 361.8150972\ttotal: 1.56s\tremaining: 46.6ms\n",
      "971:\tlearn: 361.5588853\ttotal: 1.56s\tremaining: 44.9ms\n",
      "972:\tlearn: 361.3388546\ttotal: 1.56s\tremaining: 43.3ms\n",
      "973:\tlearn: 361.1432344\ttotal: 1.56s\tremaining: 41.7ms\n",
      "974:\tlearn: 360.7957596\ttotal: 1.56s\tremaining: 40.1ms\n",
      "975:\tlearn: 360.7305100\ttotal: 1.57s\tremaining: 38.5ms\n",
      "976:\tlearn: 360.4998709\ttotal: 1.57s\tremaining: 36.9ms\n",
      "977:\tlearn: 360.3686882\ttotal: 1.57s\tremaining: 35.3ms\n",
      "978:\tlearn: 359.5520196\ttotal: 1.57s\tremaining: 33.7ms\n",
      "979:\tlearn: 359.1826235\ttotal: 1.57s\tremaining: 32.1ms\n",
      "980:\tlearn: 359.0338086\ttotal: 1.57s\tremaining: 30.5ms\n",
      "981:\tlearn: 358.4807190\ttotal: 1.57s\tremaining: 28.9ms\n",
      "982:\tlearn: 357.9513692\ttotal: 1.58s\tremaining: 27.3ms\n",
      "983:\tlearn: 357.6895685\ttotal: 1.58s\tremaining: 25.7ms\n",
      "984:\tlearn: 357.5960307\ttotal: 1.58s\tremaining: 24.1ms\n",
      "985:\tlearn: 357.4821666\ttotal: 1.58s\tremaining: 22.5ms\n",
      "986:\tlearn: 357.2816507\ttotal: 1.58s\tremaining: 20.8ms\n",
      "987:\tlearn: 357.0627545\ttotal: 1.58s\tremaining: 19.3ms\n",
      "988:\tlearn: 356.7445737\ttotal: 1.59s\tremaining: 17.6ms\n",
      "989:\tlearn: 356.5654964\ttotal: 1.59s\tremaining: 16.1ms\n",
      "990:\tlearn: 356.0067674\ttotal: 1.59s\tremaining: 14.5ms\n",
      "991:\tlearn: 355.7953338\ttotal: 1.59s\tremaining: 12.9ms\n",
      "992:\tlearn: 355.7505953\ttotal: 1.6s\tremaining: 11.3ms\n",
      "993:\tlearn: 355.5674669\ttotal: 1.6s\tremaining: 9.65ms\n",
      "994:\tlearn: 354.4360821\ttotal: 1.6s\tremaining: 8.04ms\n",
      "995:\tlearn: 353.4626745\ttotal: 1.6s\tremaining: 6.43ms\n",
      "996:\tlearn: 352.6240255\ttotal: 1.6s\tremaining: 4.83ms\n",
      "997:\tlearn: 351.3460807\ttotal: 1.6s\tremaining: 3.22ms\n",
      "998:\tlearn: 351.0358096\ttotal: 1.61s\tremaining: 1.61ms\n",
      "999:\tlearn: 350.7722938\ttotal: 1.61s\tremaining: 0us\n",
      "Test Score: 0.9877233758310255\n"
     ]
    }
   ],
   "source": [
    "catreg = CatBoostRegressor()\n",
    "catreg.fit(X_train,y_train)\n",
    "print('Test Score:',catreg.score(X_val,y_val))"
   ]
  },
  {
   "cell_type": "code",
   "execution_count": 34,
   "id": "358506c9",
   "metadata": {
    "execution": {
     "iopub.execute_input": "2022-05-17T10:24:47.618141Z",
     "iopub.status.busy": "2022-05-17T10:24:47.617335Z",
     "iopub.status.idle": "2022-05-17T10:24:49.506631Z",
     "shell.execute_reply": "2022-05-17T10:24:49.505484Z"
    },
    "papermill": {
     "duration": 1.951672,
     "end_time": "2022-05-17T10:24:49.509239",
     "exception": false,
     "start_time": "2022-05-17T10:24:47.557567",
     "status": "completed"
    },
    "tags": []
   },
   "outputs": [
    {
     "data": {
      "text/html": [
       "<style type='text/css'>\n",
       ".datatable table.frame { margin-bottom: 0; }\n",
       ".datatable table.frame thead { border-bottom: none; }\n",
       ".datatable table.frame tr.coltypes td {  color: #FFFFFF;  line-height: 6px;  padding: 0 0.5em;}\n",
       ".datatable .bool    { background: #DDDD99; }\n",
       ".datatable .object  { background: #565656; }\n",
       ".datatable .int     { background: #5D9E5D; }\n",
       ".datatable .float   { background: #4040CC; }\n",
       ".datatable .str     { background: #CC4040; }\n",
       ".datatable .time    { background: #40CC40; }\n",
       ".datatable .row_index {  background: var(--jp-border-color3);  border-right: 1px solid var(--jp-border-color0);  color: var(--jp-ui-font-color3);  font-size: 9px;}\n",
       ".datatable .frame tbody td { text-align: left; }\n",
       ".datatable .frame tr.coltypes .row_index {  background: var(--jp-border-color0);}\n",
       ".datatable th:nth-child(2) { padding-left: 12px; }\n",
       ".datatable .hellipsis {  color: var(--jp-cell-editor-border-color);}\n",
       ".datatable .vellipsis {  background: var(--jp-layout-color0);  color: var(--jp-cell-editor-border-color);}\n",
       ".datatable .na {  color: var(--jp-cell-editor-border-color);  font-size: 80%;}\n",
       ".datatable .sp {  opacity: 0.25;}\n",
       ".datatable .footer { font-size: 9px; }\n",
       ".datatable .frame_dimensions {  background: var(--jp-border-color3);  border-top: 1px solid var(--jp-border-color0);  color: var(--jp-ui-font-color3);  display: inline-block;  opacity: 0.6;  padding: 1px 10px 1px 5px;}\n",
       "</style>\n"
      ],
      "text/plain": [
       "<IPython.core.display.HTML object>"
      ]
     },
     "metadata": {},
     "output_type": "display_data"
    },
    {
     "name": "stdout",
     "output_type": "stream",
     "text": [
      "Test Score: 0.9747283936344499\n"
     ]
    }
   ],
   "source": [
    "from lightgbm import LGBMRegressor\n",
    "lgbm = LGBMRegressor()\n",
    "lgbm.fit(X_train,y_train)\n",
    "print('Test Score:',lgbm.score(X_val,y_val))"
   ]
  },
  {
   "cell_type": "code",
   "execution_count": 35,
   "id": "13e8f240",
   "metadata": {
    "execution": {
     "iopub.execute_input": "2022-05-17T10:24:49.631221Z",
     "iopub.status.busy": "2022-05-17T10:24:49.630578Z",
     "iopub.status.idle": "2022-05-17T10:24:50.656180Z",
     "shell.execute_reply": "2022-05-17T10:24:50.654703Z"
    },
    "papermill": {
     "duration": 1.089096,
     "end_time": "2022-05-17T10:24:50.658618",
     "exception": false,
     "start_time": "2022-05-17T10:24:49.569522",
     "status": "completed"
    },
    "tags": []
   },
   "outputs": [
    {
     "name": "stdout",
     "output_type": "stream",
     "text": [
      "Random Forest Test Score: 0.9818399160949735\n",
      "Gradient Boosting Test Score: 0.9693907009781056\n"
     ]
    }
   ],
   "source": [
    "from sklearn.ensemble import RandomForestRegressor, GradientBoostingRegressor\n",
    "rf = RandomForestRegressor()\n",
    "gboost = GradientBoostingRegressor()\n",
    "rf.fit(X_train,y_train)\n",
    "gboost.fit(X_train,y_train)\n",
    "\n",
    "print('Random Forest Test Score:',rf.score(X_val,y_val))\n",
    "print('Gradient Boosting Test Score:',gboost.score(X_val,y_val))"
   ]
  },
  {
   "cell_type": "code",
   "execution_count": null,
   "id": "8e3a1d45",
   "metadata": {
    "papermill": {
     "duration": 0.061301,
     "end_time": "2022-05-17T10:24:50.780065",
     "exception": false,
     "start_time": "2022-05-17T10:24:50.718764",
     "status": "completed"
    },
    "tags": []
   },
   "outputs": [],
   "source": []
  }
 ],
 "metadata": {
  "kernelspec": {
   "display_name": "Python 3",
   "language": "python",
   "name": "python3"
  },
  "language_info": {
   "codemirror_mode": {
    "name": "ipython",
    "version": 3
   },
   "file_extension": ".py",
   "mimetype": "text/x-python",
   "name": "python",
   "nbconvert_exporter": "python",
   "pygments_lexer": "ipython3",
   "version": "3.7.12"
  },
  "papermill": {
   "default_parameters": {},
   "duration": 25.49542,
   "end_time": "2022-05-17T10:24:51.966310",
   "environment_variables": {},
   "exception": null,
   "input_path": "__notebook__.ipynb",
   "output_path": "__notebook__.ipynb",
   "parameters": {},
   "start_time": "2022-05-17T10:24:26.470890",
   "version": "2.3.4"
  }
 },
 "nbformat": 4,
 "nbformat_minor": 5
}
